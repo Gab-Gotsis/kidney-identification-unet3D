{
 "cells": [
  {
   "cell_type": "code",
   "execution_count": 15,
   "id": "f832030f",
   "metadata": {},
   "outputs": [],
   "source": [
    "import sys\n",
    "import argparse\n",
    "import torch\n",
    "import torch.nn as nn\n",
    "from torch.utils.data import DataLoader\n",
    "from torch.utils.tensorboard import SummaryWriter\n",
    "from torchvision import transforms, datasets"
   ]
  },
  {
   "cell_type": "code",
   "execution_count": 16,
   "id": "0e0d7a11",
   "metadata": {},
   "outputs": [],
   "source": [
    "sys.path.append('..')\n",
    "from classes.dataset_utils.toTorchDataset import ProcessedKit23TorchDataset"
   ]
  },
  {
   "cell_type": "code",
   "execution_count": 17,
   "id": "a6008e5d",
   "metadata": {},
   "outputs": [],
   "source": [
    "training_data = ProcessedKit23TorchDataset(train_data=True, test_size=0.25, dataset_dir =\"./dataset/affine_transformed\")\n",
    "test_data = ProcessedKit23TorchDataset(train_data=False, test_size=0.25, dataset_dir =\"./dataset/affine_transformed\")"
   ]
  },
  {
   "cell_type": "code",
   "execution_count": 18,
   "id": "072d73a2",
   "metadata": {},
   "outputs": [],
   "source": [
    "device = torch.device('cuda' if torch.cuda.is_available() else 'cpu') \n",
    "\n",
    "ckpt_dir = './checkpoint'"
   ]
  },
  {
   "cell_type": "code",
   "execution_count": 19,
   "id": "1ffb0cbe",
   "metadata": {},
   "outputs": [],
   "source": [
    "lr = 1e-3 \n",
    "batch_size = 4 \n",
    "num_epoch = 100 "
   ]
  },
  {
   "cell_type": "code",
   "execution_count": 23,
   "id": "ad8d6ac0",
   "metadata": {},
   "outputs": [],
   "source": [
    "from classes.models.unet3d import UNet3D"
   ]
  },
  {
   "cell_type": "code",
   "execution_count": 25,
   "id": "6cbccfa9",
   "metadata": {},
   "outputs": [
    {
     "ename": "NameError",
     "evalue": "name 'UNet' is not defined",
     "output_type": "error",
     "traceback": [
      "\u001b[0;31m---------------------------------------------------------------------------\u001b[0m",
      "\u001b[0;31mNameError\u001b[0m                                 Traceback (most recent call last)",
      "Cell \u001b[0;32mIn[25], line 1\u001b[0m\n\u001b[0;32m----> 1\u001b[0m net \u001b[38;5;241m=\u001b[39m \u001b[43mUNet3D\u001b[49m\u001b[43m(\u001b[49m\u001b[38;5;241;43m3\u001b[39;49m\u001b[43m,\u001b[49m\u001b[43m \u001b[49m\u001b[38;5;241;43m128\u001b[39;49m\u001b[43m)\u001b[49m\u001b[38;5;241m.\u001b[39mto(device)\n\u001b[1;32m      3\u001b[0m fn_loss \u001b[38;5;241m=\u001b[39m nn\u001b[38;5;241m.\u001b[39mBCEWithLogitsLoss()\u001b[38;5;241m.\u001b[39mto(device)\n\u001b[1;32m      5\u001b[0m optim \u001b[38;5;241m=\u001b[39m torch\u001b[38;5;241m.\u001b[39moptim\u001b[38;5;241m.\u001b[39mAdam(net\u001b[38;5;241m.\u001b[39mparameters(), lr\u001b[38;5;241m=\u001b[39mlr)\n",
      "File \u001b[0;32m~/Desktop/UNSW/COMP9444_keen_beans/hayden/../classes/models/unet3d.py:19\u001b[0m, in \u001b[0;36mUNet3D.__init__\u001b[0;34m(self, n_channels, n_classes, width_multiplier, trilinear, use_ds_conv)\u001b[0m\n\u001b[1;32m      7\u001b[0m \u001b[38;5;28;01mdef\u001b[39;00m \u001b[38;5;21m__init__\u001b[39m(\u001b[38;5;28mself\u001b[39m, n_channels, n_classes, width_multiplier\u001b[38;5;241m=\u001b[39m\u001b[38;5;241m1\u001b[39m, trilinear\u001b[38;5;241m=\u001b[39m\u001b[38;5;28;01mTrue\u001b[39;00m, use_ds_conv\u001b[38;5;241m=\u001b[39m\u001b[38;5;28;01mFalse\u001b[39;00m):\n\u001b[1;32m      8\u001b[0m \u001b[38;5;250m    \u001b[39m\u001b[38;5;124;03m\"\"\"A simple 3D Unet, adapted from a 2D Unet from https://github.com/milesial/Pytorch-UNet/tree/master/unet\u001b[39;00m\n\u001b[1;32m      9\u001b[0m \u001b[38;5;124;03m    Arguments:\u001b[39;00m\n\u001b[1;32m     10\u001b[0m \u001b[38;5;124;03m      n_channels = number of input channels; 3 for RGB, 1 for grayscale input\u001b[39;00m\n\u001b[0;32m   (...)\u001b[0m\n\u001b[1;32m     17\u001b[0m \u001b[38;5;124;03m              appears to be because with 3D data, the vast vast majority of GPU RAM is the input data/labels, not the params, so little\u001b[39;00m\n\u001b[1;32m     18\u001b[0m \u001b[38;5;124;03m              VRAM is saved by using ds_conv, and yet performance suffers.\"\"\"\u001b[39;00m\n\u001b[0;32m---> 19\u001b[0m     \u001b[38;5;28msuper\u001b[39m(\u001b[43mUNet\u001b[49m, \u001b[38;5;28mself\u001b[39m)\u001b[38;5;241m.\u001b[39m\u001b[38;5;21m__init__\u001b[39m()\n\u001b[1;32m     20\u001b[0m     _channels \u001b[38;5;241m=\u001b[39m (\u001b[38;5;241m32\u001b[39m, \u001b[38;5;241m64\u001b[39m, \u001b[38;5;241m128\u001b[39m, \u001b[38;5;241m256\u001b[39m, \u001b[38;5;241m512\u001b[39m)\n\u001b[1;32m     21\u001b[0m     \u001b[38;5;28mself\u001b[39m\u001b[38;5;241m.\u001b[39mn_channels \u001b[38;5;241m=\u001b[39m n_channels\n",
      "\u001b[0;31mNameError\u001b[0m: name 'UNet' is not defined"
     ]
    }
   ],
   "source": [
    "net = UNet3D(3, 128).to(device)\n",
    "\n",
    "fn_loss = nn.BCEWithLogitsLoss().to(device)\n",
    "\n",
    "optim = torch.optim.Adam(net.parameters(), lr=lr)\n",
    "\n",
    "num_data_train = len(training_data)\n",
    "## num_data_val = len(dataset_val)\n",
    "\n",
    "num_batch_train = np.ceil(num_data_train / batch_size)\n",
    "## num_batch_val = np.ceil(num_data_val / batch_size)\n",
    "\n",
    "fn_tonumpy = lambda x: x.to('cpu').detach().numpy().transpose(0, 2, 3, 1)\n",
    "\n",
    "fn_denorm = lambda x, mean, std: (x * std) + mean\n",
    "\n",
    "fn_class = lambda x: 1.0 * (x > 0.5)"
   ]
  },
  {
   "cell_type": "code",
   "execution_count": null,
   "id": "dc23e593",
   "metadata": {},
   "outputs": [],
   "source": []
  },
  {
   "cell_type": "code",
   "execution_count": null,
   "id": "7da4f2b7",
   "metadata": {},
   "outputs": [],
   "source": []
  }
 ],
 "metadata": {
  "kernelspec": {
   "display_name": "Python 3 (ipykernel)",
   "language": "python",
   "name": "python3"
  },
  "language_info": {
   "codemirror_mode": {
    "name": "ipython",
    "version": 3
   },
   "file_extension": ".py",
   "mimetype": "text/x-python",
   "name": "python",
   "nbconvert_exporter": "python",
   "pygments_lexer": "ipython3",
   "version": "3.11.2"
  }
 },
 "nbformat": 4,
 "nbformat_minor": 5
}
