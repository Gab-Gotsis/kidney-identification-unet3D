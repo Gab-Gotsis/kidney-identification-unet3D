{
  "cells": [
    {
      "cell_type": "markdown",
      "id": "21bbb787-2dba-42ee-bea9-d968d78fbeb4",
      "metadata": {
        "id": "21bbb787-2dba-42ee-bea9-d968d78fbeb4"
      },
      "source": [
        "# Introduction,  and\n",
        "The 2023 Kidney and Kidney Tumor Segmentation Challenge\n",
        "\n",
        "## Motivation\n",
        "\n",
        "\n",
        "\n",
        "## Problem Statement\n"
      ]
    },
    {
      "cell_type": "markdown",
      "id": "2740e087-0286-4a6f-83b3-d5555f28c8a2",
      "metadata": {
        "id": "2740e087-0286-4a6f-83b3-d5555f28c8a2"
      },
      "source": [
        "# Imports segments\n",
        "import module torch, numpy, ....."
      ]
    },
    {
      "cell_type": "code",
      "source": [
        "import torch.nn as nn\n",
        "import torch.nn.functional as F\n",
        "import torch\n",
        "import numpy as np\n",
        "import sys\n",
        "import re\n",
        "import os\n",
        "import torch.optim as optim\n",
        "import time\n",
        "from torch.utils.data import DataLoader\n",
        "from scipy import ndimage\n",
        "from datetime import datetime"
      ],
      "metadata": {
        "id": "hrXh1O_2IiB7"
      },
      "id": "hrXh1O_2IiB7",
      "execution_count": 8,
      "outputs": []
    },
    {
      "cell_type": "code",
      "source": [
        "# !pip install onnx"
      ],
      "metadata": {
        "id": "_cqyzt8VGKi1",
        "outputId": "a143e7a8-1fdc-47d9-9fe2-508a06ba472a",
        "colab": {
          "base_uri": "https://localhost:8080/"
        }
      },
      "id": "_cqyzt8VGKi1",
      "execution_count": 3,
      "outputs": [
        {
          "output_type": "stream",
          "name": "stdout",
          "text": [
            "Requirement already satisfied: onnx in /usr/local/lib/python3.10/dist-packages (1.15.0)\n",
            "Requirement already satisfied: numpy in /usr/local/lib/python3.10/dist-packages (from onnx) (1.23.5)\n",
            "Requirement already satisfied: protobuf>=3.20.2 in /usr/local/lib/python3.10/dist-packages (from onnx) (3.20.3)\n"
          ]
        }
      ]
    },
    {
      "cell_type": "code",
      "source": [
        "is_colab = True\n",
        "dataset_dir_path = \"/content/drive/Mydrive/Colab Notebooks/dataset/\"\n",
        "transformed_dataset_dir_path = \"/content/drive/Mydrive/Colab Notebooks/dataset/affine_transformed\"\n",
        "if is_colab == True:\n",
        "  from google.colab import drive\n",
        "  drive.mount('/content/drive')\n",
        "a = os.path.isdir(transformed_dataset_dir_path)\n",
        "print(a)\n",
        "# if os.path.isdir(dataset_dir_path) and os.path.isdir(transformed_dataset_dir_path):\n",
        "#   print(\"dataset folder exists, OK\")\n",
        "# else:\n",
        "#   raise Exception(\"check path for dataset:{} \\n path for transformed dataset: {}\" \\\n",
        "#                   .format(dataset_dir_path, transformed_dataset_dir_path))\n"
      ],
      "metadata": {
        "id": "AKhsuHYfGXsz",
        "outputId": "70b4949d-a2f0-4e46-8585-ec8b6657bb76",
        "colab": {
          "base_uri": "https://localhost:8080/"
        }
      },
      "id": "AKhsuHYfGXsz",
      "execution_count": 15,
      "outputs": [
        {
          "output_type": "stream",
          "name": "stdout",
          "text": [
            "Drive already mounted at /content/drive; to attempt to forcibly remount, call drive.mount(\"/content/drive\", force_remount=True).\n",
            "False\n"
          ]
        }
      ]
    },
    {
      "cell_type": "code",
      "source": [
        "\n",
        "\n",
        "if"
      ],
      "metadata": {
        "id": "TkywPbFfGkSQ"
      },
      "id": "TkywPbFfGkSQ",
      "execution_count": null,
      "outputs": []
    },
    {
      "cell_type": "code",
      "execution_count": 1,
      "id": "b9a4faba-65bd-4509-a046-03afa49e84ee",
      "metadata": {
        "id": "b9a4faba-65bd-4509-a046-03afa49e84ee",
        "outputId": "5c67a59b-626b-4384-ad5c-9263ad96c4f9",
        "colab": {
          "base_uri": "https://localhost:8080/",
          "height": 378
        }
      },
      "outputs": [
        {
          "output_type": "error",
          "ename": "ModuleNotFoundError",
          "evalue": "ignored",
          "traceback": [
            "\u001b[0;31m---------------------------------------------------------------------------\u001b[0m",
            "\u001b[0;31mModuleNotFoundError\u001b[0m                       Traceback (most recent call last)",
            "\u001b[0;32m<ipython-input-1-d9e986bdf0d6>\u001b[0m in \u001b[0;36m<cell line: 5>\u001b[0;34m()\u001b[0m\n\u001b[1;32m      3\u001b[0m \u001b[0;32mimport\u001b[0m \u001b[0mtorch\u001b[0m\u001b[0;34m\u001b[0m\u001b[0;34m\u001b[0m\u001b[0m\n\u001b[1;32m      4\u001b[0m \u001b[0;32mimport\u001b[0m \u001b[0mnumpy\u001b[0m \u001b[0;32mas\u001b[0m \u001b[0mnp\u001b[0m\u001b[0;34m\u001b[0m\u001b[0;34m\u001b[0m\u001b[0m\n\u001b[0;32m----> 5\u001b[0;31m \u001b[0;32mimport\u001b[0m \u001b[0monnx\u001b[0m\u001b[0;34m\u001b[0m\u001b[0;34m\u001b[0m\u001b[0m\n\u001b[0m\u001b[1;32m      6\u001b[0m \u001b[0;32mimport\u001b[0m \u001b[0msys\u001b[0m\u001b[0;34m\u001b[0m\u001b[0;34m\u001b[0m\u001b[0m\n\u001b[1;32m      7\u001b[0m \u001b[0;32mimport\u001b[0m \u001b[0mre\u001b[0m\u001b[0;34m\u001b[0m\u001b[0;34m\u001b[0m\u001b[0m\n",
            "\u001b[0;31mModuleNotFoundError\u001b[0m: No module named 'onnx'",
            "",
            "\u001b[0;31m---------------------------------------------------------------------------\u001b[0;32m\nNOTE: If your import is failing due to a missing package, you can\nmanually install dependencies using either !pip or !apt.\n\nTo view examples of installing some common dependencies, click the\n\"Open Examples\" button below.\n\u001b[0;31m---------------------------------------------------------------------------\u001b[0m\n"
          ],
          "errorDetails": {
            "actions": [
              {
                "action": "open_url",
                "actionText": "Open Examples",
                "url": "/notebooks/snippets/importing_libraries.ipynb"
              }
            ]
          }
        }
      ],
      "source": []
    },
    {
      "cell_type": "markdown",
      "id": "cdb5ad72-7c92-4f67-891b-acb97c4d7c72",
      "metadata": {
        "id": "cdb5ad72-7c92-4f67-891b-acb97c4d7c72"
      },
      "source": [
        "# Data Sources\n",
        "Data sources used, clearly documented and described. Enough detail is provided for the data to be found again.\n"
      ]
    },
    {
      "cell_type": "code",
      "execution_count": null,
      "id": "1f29d8e4-00ff-44ba-8263-256d017ce37c",
      "metadata": {
        "id": "1f29d8e4-00ff-44ba-8263-256d017ce37c"
      },
      "outputs": [],
      "source": [
        "# import data here"
      ]
    },
    {
      "cell_type": "markdown",
      "id": "45e17a51-5857-450d-867b-163609ae975f",
      "metadata": {
        "id": "45e17a51-5857-450d-867b-163609ae975f"
      },
      "source": [
        "\n",
        "# Exploratory Analysis of Data\n",
        "Provide details about the properties, number of classes, pre-processing, challenging aspects, etc. of the data\n",
        "\n",
        "\n"
      ]
    },
    {
      "cell_type": "markdown",
      "id": "771c5e2d-700e-42a8-bcad-b859b3d30e0b",
      "metadata": {
        "id": "771c5e2d-700e-42a8-bcad-b859b3d30e0b"
      },
      "source": [
        "# Design of Neural network etc\n",
        "\n",
        "## Exiting Neural Network\n",
        "\n",
        "### Which part of the Neural Network will be freezed\n",
        "### Design of neural network for the specific purpose\n"
      ]
    },
    {
      "cell_type": "code",
      "execution_count": null,
      "id": "982666a4-1795-4916-8972-ca52601b5171",
      "metadata": {
        "id": "982666a4-1795-4916-8972-ca52601b5171"
      },
      "outputs": [],
      "source": [
        "# This is sample only\n",
        "class Net(nn.Module):\n",
        "\n",
        "    def __init__(self):\n",
        "        super(Net, self).__init__()\n",
        "        # 1 input image channel, 6 output channels, 5x5 square convolution\n",
        "        # kernel\n",
        "        self.conv1 = nn.Conv2d(1, 6, 5)\n",
        "        self.conv2 = nn.Conv2d(6, 16, 5)\n",
        "        # an affine operation: y = Wx + b\n",
        "        self.fc1 = nn.Linear(16 * 5 * 5, 120)  # 5*5 from image dimension\n",
        "        self.fc2 = nn.Linear(120, 84)\n",
        "        self.fc3 = nn.Linear(84, 10)\n",
        "\n",
        "    def forward(self, x):\n",
        "        # Max pooling over a (2, 2) window\n",
        "        x = F.max_pool2d(F.relu(self.conv1(x)), (2, 2))\n",
        "        # If the size is a square, you can specify with a single number\n",
        "        x = F.max_pool2d(F.relu(self.conv2(x)), 2)\n",
        "        x = torch.flatten(x, 1) # flatten all dimensions except the batch dimension\n",
        "        x = F.relu(self.fc1(x))\n",
        "        x = F.relu(self.fc2(x))\n",
        "        x = self.fc3(x)\n",
        "        return x\n",
        "\n"
      ]
    },
    {
      "cell_type": "code",
      "execution_count": null,
      "id": "c6b0ea56-a7d2-4d34-9f50-d9ca821e0d18",
      "metadata": {
        "id": "c6b0ea56-a7d2-4d34-9f50-d9ca821e0d18"
      },
      "outputs": [],
      "source": []
    },
    {
      "cell_type": "code",
      "execution_count": null,
      "id": "22b38216-10be-46ae-ac68-cfea7886fe72",
      "metadata": {
        "id": "22b38216-10be-46ae-ac68-cfea7886fe72",
        "outputId": "52adb0aa-a315-4de5-8213-7e2d597c8f04"
      },
      "outputs": [
        {
          "name": "stdout",
          "output_type": "stream",
          "text": [
            "Net(\n",
            "  (conv1): Conv2d(1, 6, kernel_size=(5, 5), stride=(1, 1))\n",
            "  (conv2): Conv2d(6, 16, kernel_size=(5, 5), stride=(1, 1))\n",
            "  (fc1): Linear(in_features=400, out_features=120, bias=True)\n",
            "  (fc2): Linear(in_features=120, out_features=84, bias=True)\n",
            "  (fc3): Linear(in_features=84, out_features=10, bias=True)\n",
            ")\n"
          ]
        }
      ],
      "source": [
        "\n",
        "net = Net()\n",
        "print(net)"
      ]
    },
    {
      "cell_type": "code",
      "execution_count": null,
      "id": "eb55e55e-3810-4f6a-ad57-2288dac9a8e3",
      "metadata": {
        "id": "eb55e55e-3810-4f6a-ad57-2288dac9a8e3"
      },
      "outputs": [],
      "source": []
    }
  ],
  "metadata": {
    "kernelspec": {
      "display_name": "Python 3 (ipykernel)",
      "language": "python",
      "name": "python3"
    },
    "language_info": {
      "codemirror_mode": {
        "name": "ipython",
        "version": 3
      },
      "file_extension": ".py",
      "mimetype": "text/x-python",
      "name": "python",
      "nbconvert_exporter": "python",
      "pygments_lexer": "ipython3",
      "version": "3.9.16"
    },
    "colab": {
      "provenance": []
    }
  },
  "nbformat": 4,
  "nbformat_minor": 5
}