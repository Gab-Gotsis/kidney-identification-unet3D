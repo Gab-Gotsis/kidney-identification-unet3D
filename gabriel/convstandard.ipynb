{
 "cells": [
  {
   "cell_type": "markdown",
   "metadata": {},
   "source": [
    "# Traditional Convolutional Neural Network"
   ]
  },
  {
   "cell_type": "code",
   "execution_count": null,
   "metadata": {},
   "outputs": [],
   "source": [
    "import torch\n",
    "import torch.nn as nn\n",
    "import torch.nn.functional as F\n",
    "\n",
    "#sample, numbers of channnels are currently not configured\n",
    "class NetConv(nn.Module):\n",
    "    def __init__(self):\n",
    "        super(NetConv, self).__init__()\n",
    "        self.flatten = nn.Flatten(1)\n",
    "        self.conv1 = nn.Conv2d(1, 55, (15,15))\n",
    "        self.conv2 = nn.Conv2d(55, 90, (12, 12))\n",
    "        self.conv3 = nn.Conv2d(55, 90, (12, 12))\n",
    "        self.in_to_out = nn.Linear(810,10)\n",
    "        self.softmax = nn.LogSoftmax(dim=1)\n",
    "        self.relu = nn.ReLU()\n",
    "        self.maxpool = nn.MaxPool2d(2)\n",
    "\n",
    "    def forward(self, x):\n",
    "        x = self.conv1(x)\n",
    "        x = self.relu(x)\n",
    "        x = self.conv2(x)\n",
    "        x = self.relu(x)\n",
    "        x = self.maxpool(x)\n",
    "        x = self.relu(x)\n",
    "        x = self.conv3(x)\n",
    "        x = self.relu(x)\n",
    "        x = self.maxpool(x)\n",
    "        x = self.in_to_out(x)\n",
    "        x = self.softmax(x)\n",
    "        return x "
   ]
  }
 ],
 "metadata": {
  "language_info": {
   "name": "python"
  }
 },
 "nbformat": 4,
 "nbformat_minor": 2
}
