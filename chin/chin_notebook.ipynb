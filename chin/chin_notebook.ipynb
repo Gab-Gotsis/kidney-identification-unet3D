{
 "cells": [
  {
   "cell_type": "markdown",
   "id": "30d3e70e-b4ba-429d-a7df-9359d3ad82b8",
   "metadata": {},
   "source": [
    "# Imports segments\n",
    "import module torch, numpy, ....."
   ]
  },
  {
   "cell_type": "code",
   "execution_count": 2,
   "id": "b9a4faba-65bd-4509-a046-03afa49e84ee",
   "metadata": {},
   "outputs": [],
   "source": [
    "import torch\n",
    "import torch.nn as nn\n",
    "import torch.nn.functional as F\n",
    "import numpy as np"
   ]
  },
  {
   "cell_type": "markdown",
   "id": "771c5e2d-700e-42a8-bcad-b859b3d30e0b",
   "metadata": {},
   "source": [
    "# Design of Neural network etc\n",
    "\n",
    "## Exiting Neural Network\n",
    "\n",
    "### Which part of the Neural Network will be freezed\n",
    "### Design of neural network for the specific purpose\n"
   ]
  },
  {
   "cell_type": "code",
   "execution_count": 4,
   "id": "982666a4-1795-4916-8972-ca52601b5171",
   "metadata": {},
   "outputs": [],
   "source": [
    "# This is sample only\n",
    "class Net(nn.Module):\n",
    "\n",
    "    def __init__(self):\n",
    "        super(Net, self).__init__()\n",
    "        # 1 input image channel, 6 output channels, 5x5 square convolution\n",
    "        # kernel\n",
    "        self.conv1 = nn.Conv2d(1, 6, 5)\n",
    "        self.conv2 = nn.Conv2d(6, 16, 5)\n",
    "        # an affine operation: y = Wx + b\n",
    "        self.fc1 = nn.Linear(16 * 5 * 5, 120)  # 5*5 from image dimension\n",
    "        self.fc2 = nn.Linear(120, 84)\n",
    "        self.fc3 = nn.Linear(84, 10)\n",
    "\n",
    "    def forward(self, x):\n",
    "        # Max pooling over a (2, 2) window\n",
    "        x = F.max_pool2d(F.relu(self.conv1(x)), (2, 2))\n",
    "        # If the size is a square, you can specify with a single number\n",
    "        x = F.max_pool2d(F.relu(self.conv2(x)), 2)\n",
    "        x = torch.flatten(x, 1) # flatten all dimensions except the batch dimension\n",
    "        x = F.relu(self.fc1(x))\n",
    "        x = F.relu(self.fc2(x))\n",
    "        x = self.fc3(x)\n",
    "        return x\n",
    "\n"
   ]
  },
  {
   "cell_type": "code",
   "execution_count": null,
   "id": "c6b0ea56-a7d2-4d34-9f50-d9ca821e0d18",
   "metadata": {},
   "outputs": [],
   "source": []
  },
  {
   "cell_type": "code",
   "execution_count": 5,
   "id": "22b38216-10be-46ae-ac68-cfea7886fe72",
   "metadata": {},
   "outputs": [
    {
     "name": "stdout",
     "output_type": "stream",
     "text": [
      "Net(\n",
      "  (conv1): Conv2d(1, 6, kernel_size=(5, 5), stride=(1, 1))\n",
      "  (conv2): Conv2d(6, 16, kernel_size=(5, 5), stride=(1, 1))\n",
      "  (fc1): Linear(in_features=400, out_features=120, bias=True)\n",
      "  (fc2): Linear(in_features=120, out_features=84, bias=True)\n",
      "  (fc3): Linear(in_features=84, out_features=10, bias=True)\n",
      ")\n"
     ]
    }
   ],
   "source": [
    "\n",
    "net = Net()\n",
    "print(net)"
   ]
  },
  {
   "cell_type": "code",
   "execution_count": 11,
   "id": "eb55e55e-3810-4f6a-ad57-2288dac9a8e3",
   "metadata": {},
   "outputs": [],
   "source": [
    "m = nn.Dropout(p=0.2)\n",
    "input = torch.randn(5, 3)\n"
   ]
  },
  {
   "cell_type": "code",
   "execution_count": 19,
   "id": "fe75e852-4444-478d-b4f6-78ee976fa538",
   "metadata": {},
   "outputs": [],
   "source": [
    "output = m(input)"
   ]
  },
  {
   "cell_type": "code",
   "execution_count": 15,
   "id": "4db52584-057d-413b-bd58-ce0b4f97ede8",
   "metadata": {},
   "outputs": [
    {
     "data": {
      "text/plain": [
       "tensor([[ 1.0204, -1.8225, -1.1713],\n",
       "        [-0.1830, -1.2356, -0.5125],\n",
       "        [ 0.2125, -0.3128, -0.3966],\n",
       "        [-0.1998,  1.1097,  1.9656],\n",
       "        [ 1.0736, -0.0634,  0.6217]])"
      ]
     },
     "execution_count": 15,
     "metadata": {},
     "output_type": "execute_result"
    }
   ],
   "source": [
    "input"
   ]
  },
  {
   "cell_type": "code",
   "execution_count": 20,
   "id": "bbc2b940-ff70-4e39-b82a-eb66486d4811",
   "metadata": {},
   "outputs": [
    {
     "data": {
      "text/plain": [
       "tensor([[ 1.2755, -2.2781, -1.4641],\n",
       "        [-0.2287, -1.5445, -0.0000],\n",
       "        [ 0.0000, -0.3910, -0.4957],\n",
       "        [-0.2498,  1.3871,  0.0000],\n",
       "        [ 0.0000, -0.0792,  0.7771]])"
      ]
     },
     "execution_count": 20,
     "metadata": {},
     "output_type": "execute_result"
    }
   ],
   "source": [
    "output"
   ]
  },
  {
   "cell_type": "code",
   "execution_count": 3,
   "id": "aab93779-a038-469e-b253-473ea4b127d0",
   "metadata": {},
   "outputs": [],
   "source": [
    "A = np.arange(24).reshape((2,3,4))"
   ]
  },
  {
   "cell_type": "code",
   "execution_count": 4,
   "id": "269cf59d-a9bb-4d65-8e06-c402df170752",
   "metadata": {},
   "outputs": [
    {
     "data": {
      "text/plain": [
       "array([[[ 0,  1,  2,  3],\n",
       "        [ 4,  5,  6,  7],\n",
       "        [ 8,  9, 10, 11]],\n",
       "\n",
       "       [[12, 13, 14, 15],\n",
       "        [16, 17, 18, 19],\n",
       "        [20, 21, 22, 23]]])"
      ]
     },
     "execution_count": 4,
     "metadata": {},
     "output_type": "execute_result"
    }
   ],
   "source": [
    "A"
   ]
  },
  {
   "cell_type": "code",
   "execution_count": 5,
   "id": "98e169d0-78ef-416a-9e3f-5209a58a8084",
   "metadata": {},
   "outputs": [
    {
     "data": {
      "text/plain": [
       "(2, 3, 4)"
      ]
     },
     "execution_count": 5,
     "metadata": {},
     "output_type": "execute_result"
    }
   ],
   "source": [
    "A.shape"
   ]
  },
  {
   "cell_type": "code",
   "execution_count": 1,
   "id": "e976e9ab-1127-41ab-87ae-2e19ce0e5aec",
   "metadata": {},
   "outputs": [],
   "source": [
    "def resample_patient(data, seg, original_spacing, target_spacing, order_data=3,\n",
    "                     order_seg=0, force_separate_z=False,\n",
    "                     cval_data=0, cval_seg=0, order_z_data=0, order_z_seg=0):\n",
    "    \"\"\"\n",
    "    :param cval_seg:\n",
    "    :param cval_data:\n",
    "    :param data:\n",
    "    :return:\n",
    "    \"\"\"\n",
    "\n",
    "\n",
    "    if data is not None:\n",
    "        shape = np.array(data.shape)\n",
    "    else:\n",
    "        shape = np.array(seg.shape)\n",
    "    new_shape = np.round(((np.array(original_spacing) / np.array(target_spacing)).astype(float) * shape)).astype(int)\n",
    "\n",
    "    if force_separate_z is not None:\n",
    "        do_separate_z = force_separate_z\n",
    "        if force_separate_z:\n",
    "            axis = get_lowres_axis(original_spacing)\n",
    "        else:\n",
    "            axis = None\n",
    "    else:\n",
    "        if get_do_separate_z(original_spacing):\n",
    "            do_separate_z = True\n",
    "            axis = get_lowres_axis(original_spacing)\n",
    "        elif get_do_separate_z(target_spacing):\n",
    "            do_separate_z = True\n",
    "            axis = get_lowres_axis(target_spacing)\n",
    "        else:\n",
    "            do_separate_z = False\n",
    "            axis = None\n",
    "\n",
    "    if data is not None:\n",
    "        data_reshaped = resample_data_or_seg(data, new_shape, False, axis,\n",
    "                                             order_data, do_separate_z,\n",
    "                                             cval=cval_data,\n",
    "                                             order_z=order_z_data)\n",
    "    else:\n",
    "        data_reshaped = None\n",
    "    if seg is not None:\n",
    "        seg_reshaped = resample_data_or_seg(seg, new_shape, True, axis,\n",
    "                                            order_seg, do_separate_z,\n",
    "                                            cval=cval_seg,\n",
    "                                            order_z=order_z_seg)\n",
    "    else:\n",
    "        seg_reshaped = None\n",
    "    return data_reshaped, seg_reshaped\n",
    "\n",
    "\n",
    "def resample_data_or_seg(data, new_shape, is_seg, axis=None, order=3,\n",
    "                         do_separate_z=False, cval=0, order_z=0):\n",
    "    \"\"\"\n",
    "    separate_z=True will resample with order 0 along z\n",
    "    :param data:\n",
    "    :param new_shape:\n",
    "    :param is_seg:\n",
    "    :param axis:\n",
    "    :param order:\n",
    "    :param do_separate_z:\n",
    "    :param cval:\n",
    "    :param order_z: only applies if do_separate_z is True\n",
    "    :return:\n",
    "    \"\"\"\n",
    "    assert len(data.shape) == 4, \"data must be (c, x, y, z)\"\n",
    "    if is_seg:\n",
    "        resize_fn = resize_segmentation\n",
    "        kwargs = OrderedDict()\n",
    "    else:\n",
    "        resize_fn = resize\n",
    "        kwargs = {'mode': 'edge', 'anti_aliasing': False}\n",
    "    dtype_data = data.dtype\n",
    "    data = data.astype(float)\n",
    "    shape = np.array(data[0].shape)\n",
    "    new_shape = np.array(new_shape)\n",
    "    if np.any(shape != new_shape):\n",
    "        if do_separate_z:\n",
    "            print(\"separate z\")\n",
    "            assert len(axis) == 1, \"only one anisotropic axis supported\"\n",
    "            axis = axis[0]\n",
    "            if axis == 0:\n",
    "                new_shape_2d = new_shape[1:]\n",
    "            elif axis == 1:\n",
    "                new_shape_2d = new_shape[[0, 2]]\n",
    "            else:\n",
    "                new_shape_2d = new_shape[:-1]\n",
    "\n",
    "            reshaped_final_data = []\n",
    "            for c in range(data.shape[0]):\n",
    "                reshaped_data = []\n",
    "                for slice_id in range(shape[axis]):\n",
    "                    if axis == 0:\n",
    "                        reshaped_data.append(resize_fn(data[c, slice_id],\n",
    "                                                       new_shape_2d, order,\n",
    "                                                       cval=cval, **kwargs))\n",
    "                    elif axis == 1:\n",
    "                        reshaped_data.append(resize_fn(data[c, :, slice_id],\n",
    "                                                       new_shape_2d, order,\n",
    "                                                       cval=cval, **kwargs))\n",
    "                    else:\n",
    "                        reshaped_data.append(resize_fn(data[c, :, :, slice_id],\n",
    "                                                       new_shape_2d, order,\n",
    "                                                       cval=cval, **kwargs))\n",
    "                reshaped_data = np.stack(reshaped_data, axis)\n",
    "                if shape[axis] != new_shape[axis]:\n",
    "\n",
    "                    # The following few lines are blatantly copied and modified from sklearn's resize()\n",
    "                    rows, cols, dim = new_shape[0], new_shape[1], new_shape[2]\n",
    "                    orig_rows, orig_cols, orig_dim = reshaped_data.shape\n",
    "\n",
    "                    row_scale = float(orig_rows) / rows\n",
    "                    col_scale = float(orig_cols) / cols\n",
    "                    dim_scale = float(orig_dim) / dim\n",
    "\n",
    "                    map_rows, map_cols, map_dims = np.mgrid[:rows, :cols, :dim]\n",
    "                    map_rows = row_scale * (map_rows + 0.5) - 0.5\n",
    "                    map_cols = col_scale * (map_cols + 0.5) - 0.5\n",
    "                    map_dims = dim_scale * (map_dims + 0.5) - 0.5\n",
    "\n",
    "                    coord_map = np.array([map_rows, map_cols, map_dims])\n",
    "                    if not is_seg or order_z == 0:\n",
    "                        reshaped_final_data.append(map_coordinates(reshaped_data, coord_map,\n",
    "                                                                   order=order_z, cval=cval,\n",
    "                                                                   mode='nearest')[None])\n",
    "                    else:\n",
    "                        unique_labels = np.unique(reshaped_data)\n",
    "                        reshaped = np.zeros(new_shape, dtype=dtype_data)\n",
    "\n",
    "                        for i, cl in enumerate(unique_labels):\n",
    "                            reshaped_multihot = np.round(\n",
    "                                map_coordinates((reshaped_data == cl).astype(float),\n",
    "                                                coord_map, order=order_z,\n",
    "                                                cval=cval, mode='nearest'))\n",
    "                            reshaped[reshaped_multihot >= 0.5] = cl\n",
    "                        reshaped_final_data.append(reshaped[None])\n",
    "                else:\n",
    "                    reshaped_final_data.append(reshaped_data[None])\n",
    "            reshaped_final_data = np.vstack(reshaped_final_data)\n",
    "        else:\n",
    "            reshaped = []\n",
    "            for c in range(data.shape[0]):\n",
    "                reshaped.append(resize_fn(data[c], new_shape, order,\n",
    "                                          cval=cval, **kwargs)[None])\n",
    "            reshaped_final_data = np.vstack(reshaped)\n",
    "        return reshaped_final_data.astype(dtype_data)\n",
    "    else:\n",
    "        print(\"no resampling necessary\")\n",
    "        return data"
   ]
  }
 ],
 "metadata": {
  "kernelspec": {
   "display_name": "Python 3 (ipykernel)",
   "language": "python",
   "name": "python3"
  },
  "language_info": {
   "codemirror_mode": {
    "name": "ipython",
    "version": 3
   },
   "file_extension": ".py",
   "mimetype": "text/x-python",
   "name": "python",
   "nbconvert_exporter": "python",
   "pygments_lexer": "ipython3",
   "version": "3.9.16"
  }
 },
 "nbformat": 4,
 "nbformat_minor": 5
}
