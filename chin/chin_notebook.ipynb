{
 "cells": [
  {
   "cell_type": "markdown",
   "id": "30d3e70e-b4ba-429d-a7df-9359d3ad82b8",
   "metadata": {},
   "source": [
    "# Imports segments\n",
    "import module torch, numpy, ....."
   ]
  },
  {
   "cell_type": "code",
   "execution_count": 1,
   "id": "b9a4faba-65bd-4509-a046-03afa49e84ee",
   "metadata": {},
   "outputs": [],
   "source": [
    "import torch\n",
    "import torch.nn as nn\n",
    "import torch.nn.functional as F\n",
    "import numpy as np"
   ]
  },
  {
   "cell_type": "markdown",
   "id": "771c5e2d-700e-42a8-bcad-b859b3d30e0b",
   "metadata": {},
   "source": [
    "# Design of Neural network etc\n",
    "\n",
    "## Exiting Neural Network\n",
    "\n",
    "### Which part of the Neural Network will be freezed\n",
    "### Design of neural network for the specific purpose\n"
   ]
  },
  {
   "cell_type": "code",
   "execution_count": 2,
   "id": "982666a4-1795-4916-8972-ca52601b5171",
   "metadata": {},
   "outputs": [],
   "source": [
    "# This is sample only\n",
    "class Net(nn.Module):\n",
    "\n",
    "    def __init__(self):\n",
    "        super(Net, self).__init__()\n",
    "        # 1 input image channel, 6 output channels, 5x5 square convolution\n",
    "        # kernel\n",
    "        self.conv1 = nn.Conv2d(1, 6, 5)\n",
    "        self.conv2 = nn.Conv2d(6, 16, 5)\n",
    "        # an affine operation: y = Wx + b\n",
    "        self.fc1 = nn.Linear(16 * 5 * 5, 120)  # 5*5 from image dimension\n",
    "        self.fc2 = nn.Linear(120, 84)\n",
    "        self.fc3 = nn.Linear(84, 10)\n",
    "\n",
    "    def forward(self, x):\n",
    "        # Max pooling over a (2, 2) window\n",
    "        x = F.max_pool2d(F.relu(self.conv1(x)), (2, 2))\n",
    "        # If the size is a square, you can specify with a single number\n",
    "        x = F.max_pool2d(F.relu(self.conv2(x)), 2)\n",
    "        x = torch.flatten(x, 1) # flatten all dimensions except the batch dimension\n",
    "        x = F.relu(self.fc1(x))\n",
    "        x = F.relu(self.fc2(x))\n",
    "        x = self.fc3(x)\n",
    "        return x\n",
    "\n"
   ]
  },
  {
   "cell_type": "code",
   "execution_count": 3,
   "id": "c6b0ea56-a7d2-4d34-9f50-d9ca821e0d18",
   "metadata": {},
   "outputs": [],
   "source": [
    "class IrisModel(nn.Module):\n",
    "    def __init__(self):\n",
    "        super().__init__()\n",
    "        self.hidden = nn.Linear(4, 8)\n",
    "        self.act = nn.ReLU()\n",
    "        self.output = nn.Linear(8, 3)\n",
    " \n",
    "    def forward(self, x):\n",
    "        x = self.act(self.hidden(x))\n",
    "        x = self.output(x)\n",
    "        return x\n"
   ]
  },
  {
   "cell_type": "code",
   "execution_count": 4,
   "id": "1fe355d0-e878-4d14-84a1-69805718a50b",
   "metadata": {},
   "outputs": [],
   "source": [
    "X_iris = torch.rand([4])\n",
    "m = IrisModel()\n"
   ]
  },
  {
   "cell_type": "code",
   "execution_count": 5,
   "id": "95428764-3a26-468d-98ce-8cc9d6300d5f",
   "metadata": {},
   "outputs": [],
   "source": [
    "torch.onnx.export(m, X_iris, 'iris.onnx', input_names=[\"features\"], output_names=[\"logits\"])"
   ]
  },
  {
   "cell_type": "code",
   "execution_count": 6,
   "id": "22b38216-10be-46ae-ac68-cfea7886fe72",
   "metadata": {},
   "outputs": [
    {
     "name": "stdout",
     "output_type": "stream",
     "text": [
      "Net(\n",
      "  (conv1): Conv2d(1, 6, kernel_size=(5, 5), stride=(1, 1))\n",
      "  (conv2): Conv2d(6, 16, kernel_size=(5, 5), stride=(1, 1))\n",
      "  (fc1): Linear(in_features=400, out_features=120, bias=True)\n",
      "  (fc2): Linear(in_features=120, out_features=84, bias=True)\n",
      "  (fc3): Linear(in_features=84, out_features=10, bias=True)\n",
      ")\n"
     ]
    }
   ],
   "source": [
    "\n",
    "net = Net()\n",
    "print(net)"
   ]
  },
  {
   "cell_type": "code",
   "execution_count": 7,
   "id": "eb55e55e-3810-4f6a-ad57-2288dac9a8e3",
   "metadata": {},
   "outputs": [],
   "source": [
    "m = nn.Dropout(p=0.2)\n",
    "input = torch.randn(5, 3)\n"
   ]
  },
  {
   "cell_type": "code",
   "execution_count": 8,
   "id": "fe75e852-4444-478d-b4f6-78ee976fa538",
   "metadata": {},
   "outputs": [],
   "source": [
    "output = m(input)"
   ]
  },
  {
   "cell_type": "code",
   "execution_count": 9,
   "id": "4db52584-057d-413b-bd58-ce0b4f97ede8",
   "metadata": {},
   "outputs": [
    {
     "data": {
      "text/plain": [
       "tensor([[-1.7015,  1.2322, -0.9216],\n",
       "        [ 0.1154, -1.8080, -0.9503],\n",
       "        [ 0.0328, -2.2355,  0.3897],\n",
       "        [ 0.7308, -0.1983,  1.0851],\n",
       "        [ 0.0308,  0.6784, -1.2635]])"
      ]
     },
     "execution_count": 9,
     "metadata": {},
     "output_type": "execute_result"
    }
   ],
   "source": [
    "input"
   ]
  },
  {
   "cell_type": "code",
   "execution_count": null,
   "id": "98e169d0-78ef-416a-9e3f-5209a58a8084",
   "metadata": {},
   "outputs": [],
   "source": []
  },
  {
   "cell_type": "code",
   "execution_count": null,
   "id": "f51351c9-eb00-4571-8260-f13aebc655a3",
   "metadata": {},
   "outputs": [],
   "source": []
  },
  {
   "cell_type": "code",
   "execution_count": null,
   "id": "4a2fdaab-7fa1-49c6-b9aa-5eadb7b920a8",
   "metadata": {},
   "outputs": [],
   "source": []
  }
 ],
 "metadata": {
  "kernelspec": {
   "display_name": "Python 3 (ipykernel)",
   "language": "python",
   "name": "python3"
  },
  "language_info": {
   "codemirror_mode": {
    "name": "ipython",
    "version": 3
   },
   "file_extension": ".py",
   "mimetype": "text/x-python",
   "name": "python",
   "nbconvert_exporter": "python",
   "pygments_lexer": "ipython3",
   "version": "3.10.9"
  }
 },
 "nbformat": 4,
 "nbformat_minor": 5
}
