{
 "cells": [
  {
   "cell_type": "code",
   "execution_count": 1,
   "id": "be7a2496-ab8a-4537-a221-2718ac9b0e05",
   "metadata": {},
   "outputs": [],
   "source": [
    "import sys\n",
    "from tqdm import tqdm"
   ]
  },
  {
   "cell_type": "code",
   "execution_count": 2,
   "id": "c08c16ca-ae14-4a16-914c-cb31a450cf31",
   "metadata": {},
   "outputs": [
    {
     "name": "stdout",
     "output_type": "stream",
     "text": [
      "Files output dir: ./dataset/affine_transformed\n"
     ]
    }
   ],
   "source": [
    "sys.path.append('..')\n",
    "from classes.dataset_utils.preprocessor import Preprocess  \n",
    "p = Preprocess(\"dataset\")"
   ]
  },
  {
   "cell_type": "code",
   "execution_count": 3,
   "id": "8c54d22a-e6ed-4b3a-9f12-060528c3669f",
   "metadata": {},
   "outputs": [
    {
     "name": "stderr",
     "output_type": "stream",
     "text": [
      "  0%|                                                                                                                                                            | 0/489 [00:00<?, ?it/s]"
     ]
    },
    {
     "name": "stdout",
     "output_type": "stream",
     "text": [
      "Output Affine : \n",
      "[[ 0.  0. -2.  0.]\n",
      " [ 0. -2.  0.  0.]\n",
      " [-2.  0.  0.  0.]\n",
      " [ 0.  0.  0.  1.]]\n",
      "case_00000: 3D image shape (128, 232, 232)\n",
      "case_00000: 3D seg shape (128, 232, 232)\n"
     ]
    },
    {
     "name": "stderr",
     "output_type": "stream",
     "text": [
      "  0%|▎                                                                                                                                                 | 1/489 [00:19<2:42:38, 20.00s/it]"
     ]
    },
    {
     "name": "stdout",
     "output_type": "stream",
     "text": [
      "case_00001: 3D image shape (128, 232, 232)\n",
      "case_00001: 3D seg shape (128, 232, 232)\n"
     ]
    },
    {
     "name": "stderr",
     "output_type": "stream",
     "text": [
      "  0%|▌                                                                                                                                                 | 2/489 [00:39<2:39:48, 19.69s/it]"
     ]
    },
    {
     "name": "stdout",
     "output_type": "stream",
     "text": [
      "case_00002: 3D image shape (128, 232, 232)\n",
      "case_00002: 3D seg shape (128, 232, 232)\n"
     ]
    },
    {
     "name": "stderr",
     "output_type": "stream",
     "text": [
      "  1%|▉                                                                                                                                                 | 3/489 [00:47<1:57:16, 14.48s/it]"
     ]
    },
    {
     "name": "stdout",
     "output_type": "stream",
     "text": [
      "case_00003: 3D image shape (128, 232, 232)\n",
      "case_00003: 3D seg shape (128, 232, 232)\n"
     ]
    },
    {
     "name": "stderr",
     "output_type": "stream",
     "text": [
      "  1%|█▏                                                                                                                                                | 4/489 [00:56<1:38:43, 12.21s/it]"
     ]
    },
    {
     "name": "stdout",
     "output_type": "stream",
     "text": [
      "case_00004: 3D image shape (128, 232, 232)\n",
      "case_00004: 3D seg shape (128, 232, 232)\n"
     ]
    },
    {
     "name": "stderr",
     "output_type": "stream",
     "text": [
      "  1%|█▍                                                                                                                                                | 5/489 [00:59<1:10:32,  8.75s/it]"
     ]
    },
    {
     "name": "stdout",
     "output_type": "stream",
     "text": [
      "case_00005: 3D image shape (128, 232, 232)\n",
      "case_00005: 3D seg shape (128, 232, 232)\n"
     ]
    },
    {
     "name": "stderr",
     "output_type": "stream",
     "text": [
      "  1%|█▊                                                                                                                                                | 6/489 [01:25<1:59:26, 14.84s/it]"
     ]
    },
    {
     "name": "stdout",
     "output_type": "stream",
     "text": [
      "case_00006: 3D image shape (128, 232, 232)\n",
      "case_00006: 3D seg shape (128, 232, 232)\n"
     ]
    },
    {
     "name": "stderr",
     "output_type": "stream",
     "text": [
      "  1%|██                                                                                                                                                | 7/489 [01:30<1:33:42, 11.66s/it]"
     ]
    },
    {
     "name": "stdout",
     "output_type": "stream",
     "text": [
      "case_00007: 3D image shape (128, 232, 232)\n",
      "case_00007: 3D seg shape (128, 232, 232)\n"
     ]
    },
    {
     "name": "stderr",
     "output_type": "stream",
     "text": [
      "  2%|██▍                                                                                                                                               | 8/489 [01:33<1:09:09,  8.63s/it]"
     ]
    },
    {
     "name": "stdout",
     "output_type": "stream",
     "text": [
      "case_00008: 3D image shape (128, 232, 232)\n",
      "case_00008: 3D seg shape (128, 232, 232)\n"
     ]
    },
    {
     "name": "stderr",
     "output_type": "stream",
     "text": [
      "  2%|██▋                                                                                                                                               | 9/489 [01:40<1:05:38,  8.21s/it]"
     ]
    },
    {
     "name": "stdout",
     "output_type": "stream",
     "text": [
      "case_00009: 3D image shape (128, 232, 232)\n",
      "case_00009: 3D seg shape (128, 232, 232)\n"
     ]
    },
    {
     "name": "stderr",
     "output_type": "stream",
     "text": [
      "  2%|███                                                                                                                                                | 10/489 [01:43<52:14,  6.54s/it]"
     ]
    },
    {
     "name": "stdout",
     "output_type": "stream",
     "text": [
      "case_00010: 3D image shape (128, 232, 232)\n",
      "case_00010: 3D seg shape (128, 232, 232)\n"
     ]
    },
    {
     "name": "stderr",
     "output_type": "stream",
     "text": [
      "  2%|███▎                                                                                                                                               | 11/489 [01:45<41:15,  5.18s/it]"
     ]
    },
    {
     "name": "stdout",
     "output_type": "stream",
     "text": [
      "case_00011: 3D image shape (128, 232, 232)\n",
      "case_00011: 3D seg shape (128, 232, 232)\n"
     ]
    },
    {
     "name": "stderr",
     "output_type": "stream",
     "text": [
      "  2%|███▌                                                                                                                                               | 12/489 [01:48<35:36,  4.48s/it]"
     ]
    },
    {
     "name": "stdout",
     "output_type": "stream",
     "text": [
      "case_00012: 3D image shape (128, 232, 232)\n",
      "case_00012: 3D seg shape (128, 232, 232)\n"
     ]
    },
    {
     "name": "stderr",
     "output_type": "stream",
     "text": [
      "  3%|███▉                                                                                                                                               | 13/489 [01:51<31:57,  4.03s/it]"
     ]
    },
    {
     "name": "stdout",
     "output_type": "stream",
     "text": [
      "case_00013: 3D image shape (128, 232, 232)\n",
      "case_00013: 3D seg shape (128, 232, 232)\n"
     ]
    },
    {
     "name": "stderr",
     "output_type": "stream",
     "text": [
      "  3%|████▏                                                                                                                                              | 14/489 [01:54<30:01,  3.79s/it]"
     ]
    },
    {
     "name": "stdout",
     "output_type": "stream",
     "text": [
      "case_00014: 3D image shape (128, 232, 232)\n",
      "case_00014: 3D seg shape (128, 232, 232)\n"
     ]
    },
    {
     "name": "stderr",
     "output_type": "stream",
     "text": [
      "  3%|████▊                                                                                                                                              | 16/489 [02:11<44:48,  5.68s/it]"
     ]
    },
    {
     "name": "stdout",
     "output_type": "stream",
     "text": [
      "case_00015: 3D image shape (128, 232, 232)\n",
      "case_00015: 3D seg shape (128, 232, 232)\n",
      "case_00016: 3D image shape (128, 232, 232)\n",
      "case_00016: 3D seg shape (128, 232, 232)\n"
     ]
    },
    {
     "name": "stderr",
     "output_type": "stream",
     "text": [
      "  3%|█████                                                                                                                                              | 17/489 [02:17<44:30,  5.66s/it]"
     ]
    },
    {
     "name": "stdout",
     "output_type": "stream",
     "text": [
      "case_00017: 3D image shape (128, 232, 232)\n",
      "case_00017: 3D seg shape (128, 232, 232)\n"
     ]
    },
    {
     "name": "stderr",
     "output_type": "stream",
     "text": [
      "  4%|█████▍                                                                                                                                             | 18/489 [02:20<38:46,  4.94s/it]"
     ]
    },
    {
     "name": "stdout",
     "output_type": "stream",
     "text": [
      "case_00018: 3D image shape (128, 232, 232)\n",
      "case_00018: 3D seg shape (128, 232, 232)\n"
     ]
    },
    {
     "name": "stderr",
     "output_type": "stream",
     "text": [
      "  4%|█████▋                                                                                                                                             | 19/489 [02:24<36:36,  4.67s/it]"
     ]
    },
    {
     "name": "stdout",
     "output_type": "stream",
     "text": [
      "case_00019: 3D image shape (128, 232, 232)\n",
      "case_00019: 3D seg shape (128, 232, 232)\n"
     ]
    },
    {
     "name": "stderr",
     "output_type": "stream",
     "text": [
      "  4%|██████                                                                                                                                             | 20/489 [02:28<35:41,  4.57s/it]"
     ]
    },
    {
     "name": "stdout",
     "output_type": "stream",
     "text": [
      "case_00020: 3D image shape (128, 232, 232)\n",
      "case_00020: 3D seg shape (128, 232, 232)\n"
     ]
    },
    {
     "name": "stderr",
     "output_type": "stream",
     "text": [
      "  4%|██████▎                                                                                                                                            | 21/489 [02:32<32:49,  4.21s/it]"
     ]
    },
    {
     "name": "stdout",
     "output_type": "stream",
     "text": [
      "case_00021: 3D image shape (128, 232, 232)\n",
      "case_00021: 3D seg shape (128, 232, 232)\n"
     ]
    },
    {
     "name": "stderr",
     "output_type": "stream",
     "text": [
      "  4%|██████▌                                                                                                                                            | 22/489 [02:33<26:17,  3.38s/it]"
     ]
    },
    {
     "name": "stdout",
     "output_type": "stream",
     "text": [
      "case_00022: 3D image shape (128, 232, 232)\n",
      "case_00022: 3D seg shape (128, 232, 232)\n"
     ]
    },
    {
     "name": "stderr",
     "output_type": "stream",
     "text": [
      "  5%|██████▉                                                                                                                                            | 23/489 [02:50<58:26,  7.53s/it]"
     ]
    },
    {
     "name": "stdout",
     "output_type": "stream",
     "text": [
      "case_00023: 3D image shape (128, 232, 232)\n",
      "case_00023: 3D seg shape (128, 232, 232)\n"
     ]
    },
    {
     "name": "stderr",
     "output_type": "stream",
     "text": [
      "  5%|███████▏                                                                                                                                           | 24/489 [02:54<48:47,  6.30s/it]"
     ]
    },
    {
     "name": "stdout",
     "output_type": "stream",
     "text": [
      "case_00024: 3D image shape (128, 232, 232)\n",
      "case_00024: 3D seg shape (128, 232, 232)\n"
     ]
    },
    {
     "name": "stderr",
     "output_type": "stream",
     "text": [
      "  5%|███████▌                                                                                                                                           | 25/489 [02:56<40:29,  5.24s/it]"
     ]
    },
    {
     "name": "stdout",
     "output_type": "stream",
     "text": [
      "case_00025: 3D image shape (128, 232, 232)\n",
      "case_00025: 3D seg shape (128, 232, 232)\n"
     ]
    },
    {
     "name": "stderr",
     "output_type": "stream",
     "text": [
      "  5%|███████▊                                                                                                                                           | 26/489 [03:00<35:37,  4.62s/it]"
     ]
    },
    {
     "name": "stdout",
     "output_type": "stream",
     "text": [
      "case_00026: 3D image shape (128, 232, 232)\n",
      "case_00026: 3D seg shape (128, 232, 232)\n"
     ]
    },
    {
     "name": "stderr",
     "output_type": "stream",
     "text": [
      "  6%|████████                                                                                                                                           | 27/489 [03:09<47:27,  6.16s/it]"
     ]
    },
    {
     "name": "stdout",
     "output_type": "stream",
     "text": [
      "case_00027: 3D image shape (128, 232, 232)\n",
      "case_00027: 3D seg shape (128, 232, 232)\n"
     ]
    },
    {
     "name": "stderr",
     "output_type": "stream",
     "text": [
      "  6%|████████▎                                                                                                                                        | 28/489 [03:34<1:30:23, 11.77s/it]"
     ]
    },
    {
     "name": "stdout",
     "output_type": "stream",
     "text": [
      "case_00028: 3D image shape (128, 232, 232)\n",
      "case_00028: 3D seg shape (128, 232, 232)\n"
     ]
    },
    {
     "name": "stderr",
     "output_type": "stream",
     "text": [
      "  6%|████████▌                                                                                                                                        | 29/489 [03:38<1:10:49,  9.24s/it]"
     ]
    },
    {
     "name": "stdout",
     "output_type": "stream",
     "text": [
      "case_00029: 3D image shape (128, 232, 232)\n",
      "case_00029: 3D seg shape (128, 232, 232)\n"
     ]
    },
    {
     "name": "stderr",
     "output_type": "stream",
     "text": [
      "  6%|█████████                                                                                                                                          | 30/489 [03:42<59:47,  7.82s/it]"
     ]
    },
    {
     "name": "stdout",
     "output_type": "stream",
     "text": [
      "case_00030: 3D image shape (128, 232, 232)\n",
      "case_00030: 3D seg shape (128, 232, 232)\n"
     ]
    },
    {
     "name": "stderr",
     "output_type": "stream",
     "text": [
      "  7%|█████████▌                                                                                                                                         | 32/489 [03:47<39:23,  5.17s/it]"
     ]
    },
    {
     "name": "stdout",
     "output_type": "stream",
     "text": [
      "case_00031: 3D image shape (128, 232, 232)\n",
      "case_00031: 3D seg shape (128, 232, 232)\n",
      "case_00032: 3D image shape (128, 232, 232)\n",
      "case_00032: 3D seg shape (128, 232, 232)\n"
     ]
    },
    {
     "name": "stderr",
     "output_type": "stream",
     "text": [
      "  7%|█████████▉                                                                                                                                         | 33/489 [03:53<41:32,  5.47s/it]"
     ]
    },
    {
     "name": "stdout",
     "output_type": "stream",
     "text": [
      "case_00033: 3D image shape (128, 232, 232)\n",
      "case_00033: 3D seg shape (128, 232, 232)\n"
     ]
    },
    {
     "name": "stderr",
     "output_type": "stream",
     "text": [
      "  7%|██████████                                                                                                                                       | 34/489 [04:07<1:00:14,  7.94s/it]"
     ]
    },
    {
     "name": "stdout",
     "output_type": "stream",
     "text": [
      "case_00034: 3D image shape (128, 232, 232)\n",
      "case_00034: 3D seg shape (128, 232, 232)\n"
     ]
    },
    {
     "name": "stderr",
     "output_type": "stream",
     "text": [
      "  7%|██████████▌                                                                                                                                        | 35/489 [04:11<50:32,  6.68s/it]"
     ]
    },
    {
     "name": "stdout",
     "output_type": "stream",
     "text": [
      "case_00035: 3D image shape (128, 232, 232)\n",
      "case_00035: 3D seg shape (128, 232, 232)\n"
     ]
    },
    {
     "name": "stderr",
     "output_type": "stream",
     "text": [
      "  7%|██████████▊                                                                                                                                        | 36/489 [04:14<42:34,  5.64s/it]"
     ]
    },
    {
     "name": "stdout",
     "output_type": "stream",
     "text": [
      "case_00036: 3D image shape (128, 232, 232)\n",
      "case_00036: 3D seg shape (128, 232, 232)\n"
     ]
    },
    {
     "name": "stderr",
     "output_type": "stream",
     "text": [
      "  8%|███████████                                                                                                                                        | 37/489 [04:19<42:18,  5.62s/it]"
     ]
    },
    {
     "name": "stdout",
     "output_type": "stream",
     "text": [
      "case_00037: 3D image shape (128, 232, 232)\n",
      "case_00037: 3D seg shape (128, 232, 232)\n"
     ]
    },
    {
     "name": "stderr",
     "output_type": "stream",
     "text": [
      "  8%|███████████▍                                                                                                                                       | 38/489 [04:23<37:14,  4.95s/it]"
     ]
    },
    {
     "name": "stdout",
     "output_type": "stream",
     "text": [
      "case_00038: 3D image shape (128, 232, 232)\n",
      "case_00038: 3D seg shape (128, 232, 232)\n"
     ]
    },
    {
     "name": "stderr",
     "output_type": "stream",
     "text": [
      "  8%|███████████▋                                                                                                                                       | 39/489 [04:24<29:11,  3.89s/it]"
     ]
    },
    {
     "name": "stdout",
     "output_type": "stream",
     "text": [
      "case_00039: 3D image shape (128, 232, 232)\n",
      "case_00039: 3D seg shape (128, 232, 232)\n"
     ]
    },
    {
     "name": "stderr",
     "output_type": "stream",
     "text": [
      "  8%|████████████                                                                                                                                       | 40/489 [04:27<27:09,  3.63s/it]"
     ]
    },
    {
     "name": "stdout",
     "output_type": "stream",
     "text": [
      "case_00040: 3D image shape (128, 232, 232)\n",
      "case_00040: 3D seg shape (128, 232, 232)\n"
     ]
    },
    {
     "name": "stderr",
     "output_type": "stream",
     "text": [
      "  8%|████████████▎                                                                                                                                      | 41/489 [04:33<32:55,  4.41s/it]"
     ]
    },
    {
     "name": "stdout",
     "output_type": "stream",
     "text": [
      "case_00041: 3D image shape (128, 232, 232)\n",
      "case_00041: 3D seg shape (128, 232, 232)\n"
     ]
    },
    {
     "name": "stderr",
     "output_type": "stream",
     "text": [
      "  9%|████████████▋                                                                                                                                      | 42/489 [04:35<26:57,  3.62s/it]"
     ]
    },
    {
     "name": "stdout",
     "output_type": "stream",
     "text": [
      "case_00042: 3D image shape (128, 232, 232)\n",
      "case_00042: 3D seg shape (128, 232, 232)\n"
     ]
    },
    {
     "name": "stderr",
     "output_type": "stream",
     "text": [
      "  9%|████████████▉                                                                                                                                      | 43/489 [04:45<41:23,  5.57s/it]"
     ]
    },
    {
     "name": "stdout",
     "output_type": "stream",
     "text": [
      "case_00043: 3D image shape (128, 232, 232)\n",
      "case_00043: 3D seg shape (128, 232, 232)\n"
     ]
    },
    {
     "name": "stderr",
     "output_type": "stream",
     "text": [
      "  9%|█████████████▏                                                                                                                                     | 44/489 [04:51<41:48,  5.64s/it]"
     ]
    },
    {
     "name": "stdout",
     "output_type": "stream",
     "text": [
      "case_00044: 3D image shape (128, 232, 232)\n",
      "case_00044: 3D seg shape (128, 232, 232)\n"
     ]
    },
    {
     "name": "stderr",
     "output_type": "stream",
     "text": [
      "  9%|█████████████▌                                                                                                                                     | 45/489 [04:54<36:37,  4.95s/it]"
     ]
    },
    {
     "name": "stdout",
     "output_type": "stream",
     "text": [
      "case_00045: 3D image shape (128, 232, 232)\n",
      "case_00045: 3D seg shape (128, 232, 232)\n"
     ]
    },
    {
     "name": "stderr",
     "output_type": "stream",
     "text": [
      "  9%|█████████████▊                                                                                                                                     | 46/489 [04:56<30:07,  4.08s/it]"
     ]
    },
    {
     "name": "stdout",
     "output_type": "stream",
     "text": [
      "case_00046: 3D image shape (128, 232, 232)\n",
      "case_00046: 3D seg shape (128, 232, 232)\n"
     ]
    },
    {
     "name": "stderr",
     "output_type": "stream",
     "text": [
      " 10%|██████████████▏                                                                                                                                    | 47/489 [05:02<32:12,  4.37s/it]"
     ]
    },
    {
     "name": "stdout",
     "output_type": "stream",
     "text": [
      "case_00047: 3D image shape (128, 232, 232)\n",
      "case_00047: 3D seg shape (128, 232, 232)\n"
     ]
    },
    {
     "name": "stderr",
     "output_type": "stream",
     "text": [
      " 10%|██████████████▍                                                                                                                                    | 48/489 [05:06<32:22,  4.40s/it]"
     ]
    },
    {
     "name": "stdout",
     "output_type": "stream",
     "text": [
      "case_00048: 3D image shape (128, 232, 232)\n",
      "case_00048: 3D seg shape (128, 232, 232)\n"
     ]
    },
    {
     "name": "stderr",
     "output_type": "stream",
     "text": [
      " 10%|██████████████▋                                                                                                                                    | 49/489 [05:09<28:53,  3.94s/it]"
     ]
    },
    {
     "name": "stdout",
     "output_type": "stream",
     "text": [
      "case_00049: 3D image shape (128, 232, 232)\n",
      "case_00049: 3D seg shape (128, 232, 232)\n"
     ]
    },
    {
     "name": "stderr",
     "output_type": "stream",
     "text": [
      " 10%|██████████████▊                                                                                                                                  | 50/489 [05:31<1:09:43,  9.53s/it]"
     ]
    },
    {
     "name": "stdout",
     "output_type": "stream",
     "text": [
      "case_00050: 3D image shape (128, 232, 232)\n",
      "case_00050: 3D seg shape (128, 232, 232)\n"
     ]
    },
    {
     "name": "stderr",
     "output_type": "stream",
     "text": [
      " 10%|███████████████▎                                                                                                                                   | 51/489 [05:35<56:04,  7.68s/it]"
     ]
    },
    {
     "name": "stdout",
     "output_type": "stream",
     "text": [
      "case_00051: 3D image shape (128, 232, 232)\n",
      "case_00051: 3D seg shape (128, 232, 232)\n"
     ]
    },
    {
     "name": "stderr",
     "output_type": "stream",
     "text": [
      " 11%|███████████████▋                                                                                                                                   | 52/489 [05:37<44:37,  6.13s/it]"
     ]
    },
    {
     "name": "stdout",
     "output_type": "stream",
     "text": [
      "case_00052: 3D image shape (128, 232, 232)\n",
      "case_00052: 3D seg shape (128, 232, 232)\n"
     ]
    },
    {
     "name": "stderr",
     "output_type": "stream",
     "text": [
      " 11%|███████████████▋                                                                                                                                 | 53/489 [05:59<1:18:21, 10.78s/it]"
     ]
    },
    {
     "name": "stdout",
     "output_type": "stream",
     "text": [
      "case_00053: 3D image shape (128, 232, 232)\n",
      "case_00053: 3D seg shape (128, 232, 232)\n"
     ]
    },
    {
     "name": "stderr",
     "output_type": "stream",
     "text": [
      " 11%|████████████████                                                                                                                                 | 54/489 [06:17<1:32:56, 12.82s/it]"
     ]
    },
    {
     "name": "stdout",
     "output_type": "stream",
     "text": [
      "case_00054: 3D image shape (128, 232, 232)\n",
      "case_00054: 3D seg shape (128, 232, 232)\n"
     ]
    },
    {
     "name": "stderr",
     "output_type": "stream",
     "text": [
      " 11%|████████████████▎                                                                                                                                | 55/489 [06:20<1:12:06,  9.97s/it]"
     ]
    },
    {
     "name": "stdout",
     "output_type": "stream",
     "text": [
      "case_00055: 3D image shape (128, 232, 232)\n",
      "case_00055: 3D seg shape (128, 232, 232)\n"
     ]
    },
    {
     "name": "stderr",
     "output_type": "stream",
     "text": [
      " 11%|████████████████▊                                                                                                                                  | 56/489 [06:23<57:08,  7.92s/it]"
     ]
    },
    {
     "name": "stdout",
     "output_type": "stream",
     "text": [
      "case_00056: 3D image shape (128, 232, 232)\n",
      "case_00056: 3D seg shape (128, 232, 232)\n"
     ]
    },
    {
     "name": "stderr",
     "output_type": "stream",
     "text": [
      " 12%|█████████████████▏                                                                                                                                 | 57/489 [06:26<46:20,  6.44s/it]"
     ]
    },
    {
     "name": "stdout",
     "output_type": "stream",
     "text": [
      "case_00057: 3D image shape (128, 232, 232)\n",
      "case_00057: 3D seg shape (128, 232, 232)\n"
     ]
    },
    {
     "name": "stderr",
     "output_type": "stream",
     "text": [
      " 12%|█████████████████▍                                                                                                                                 | 58/489 [06:29<38:32,  5.36s/it]"
     ]
    },
    {
     "name": "stdout",
     "output_type": "stream",
     "text": [
      "case_00058: 3D image shape (128, 232, 232)\n",
      "case_00058: 3D seg shape (128, 232, 232)\n"
     ]
    },
    {
     "name": "stderr",
     "output_type": "stream",
     "text": [
      " 12%|█████████████████▋                                                                                                                                 | 59/489 [06:32<33:59,  4.74s/it]"
     ]
    },
    {
     "name": "stdout",
     "output_type": "stream",
     "text": [
      "case_00059: 3D image shape (128, 232, 232)\n",
      "case_00059: 3D seg shape (128, 232, 232)\n"
     ]
    },
    {
     "name": "stderr",
     "output_type": "stream",
     "text": [
      " 12%|█████████████████▊                                                                                                                               | 60/489 [06:56<1:15:44, 10.59s/it]"
     ]
    },
    {
     "name": "stdout",
     "output_type": "stream",
     "text": [
      "case_00060: 3D image shape (128, 232, 232)\n",
      "case_00060: 3D seg shape (128, 232, 232)\n"
     ]
    },
    {
     "name": "stderr",
     "output_type": "stream",
     "text": [
      " 12%|██████████████████                                                                                                                               | 61/489 [07:01<1:02:41,  8.79s/it]"
     ]
    },
    {
     "name": "stdout",
     "output_type": "stream",
     "text": [
      "case_00061: 3D image shape (128, 232, 232)\n",
      "case_00061: 3D seg shape (128, 232, 232)\n"
     ]
    },
    {
     "name": "stderr",
     "output_type": "stream",
     "text": [
      " 13%|██████████████████▋                                                                                                                                | 62/489 [07:02<46:11,  6.49s/it]"
     ]
    },
    {
     "name": "stdout",
     "output_type": "stream",
     "text": [
      "case_00062: 3D image shape (128, 232, 232)\n",
      "case_00062: 3D seg shape (128, 232, 232)\n"
     ]
    },
    {
     "name": "stderr",
     "output_type": "stream",
     "text": [
      " 13%|██████████████████▉                                                                                                                                | 63/489 [07:05<38:17,  5.39s/it]"
     ]
    },
    {
     "name": "stdout",
     "output_type": "stream",
     "text": [
      "case_00063: 3D image shape (128, 232, 232)\n",
      "case_00063: 3D seg shape (128, 232, 232)\n"
     ]
    },
    {
     "name": "stderr",
     "output_type": "stream",
     "text": [
      " 13%|██████████████████▉                                                                                                                              | 64/489 [07:22<1:02:37,  8.84s/it]"
     ]
    },
    {
     "name": "stdout",
     "output_type": "stream",
     "text": [
      "case_00064: 3D image shape (128, 232, 232)\n",
      "case_00064: 3D seg shape (128, 232, 232)\n"
     ]
    },
    {
     "name": "stderr",
     "output_type": "stream",
     "text": [
      " 13%|███████████████████▌                                                                                                                               | 65/489 [07:24<47:28,  6.72s/it]"
     ]
    },
    {
     "name": "stdout",
     "output_type": "stream",
     "text": [
      "case_00065: 3D image shape (128, 232, 232)\n",
      "case_00065: 3D seg shape (128, 232, 232)\n"
     ]
    },
    {
     "name": "stderr",
     "output_type": "stream",
     "text": [
      " 13%|███████████████████▊                                                                                                                               | 66/489 [07:27<40:32,  5.75s/it]"
     ]
    },
    {
     "name": "stdout",
     "output_type": "stream",
     "text": [
      "case_00066: 3D image shape (128, 232, 232)\n",
      "case_00066: 3D seg shape (128, 232, 232)\n"
     ]
    },
    {
     "name": "stderr",
     "output_type": "stream",
     "text": [
      " 14%|████████████████████▏                                                                                                                              | 67/489 [07:41<57:42,  8.20s/it]"
     ]
    },
    {
     "name": "stdout",
     "output_type": "stream",
     "text": [
      "case_00067: 3D image shape (128, 232, 232)\n",
      "case_00067: 3D seg shape (128, 232, 232)\n"
     ]
    },
    {
     "name": "stderr",
     "output_type": "stream",
     "text": [
      " 14%|████████████████████▍                                                                                                                              | 68/489 [07:50<59:36,  8.50s/it]"
     ]
    },
    {
     "name": "stdout",
     "output_type": "stream",
     "text": [
      "case_00068: 3D image shape (128, 232, 232)\n",
      "case_00068: 3D seg shape (128, 232, 232)\n"
     ]
    },
    {
     "name": "stderr",
     "output_type": "stream",
     "text": [
      " 14%|████████████████████▍                                                                                                                            | 69/489 [08:10<1:24:20, 12.05s/it]"
     ]
    },
    {
     "name": "stdout",
     "output_type": "stream",
     "text": [
      "case_00069: 3D image shape (128, 232, 232)\n",
      "case_00069: 3D seg shape (128, 232, 232)\n"
     ]
    },
    {
     "name": "stderr",
     "output_type": "stream",
     "text": [
      " 14%|████████████████████▊                                                                                                                            | 70/489 [08:14<1:05:22,  9.36s/it]"
     ]
    },
    {
     "name": "stdout",
     "output_type": "stream",
     "text": [
      "case_00070: 3D image shape (128, 232, 232)\n",
      "case_00070: 3D seg shape (128, 232, 232)\n"
     ]
    },
    {
     "name": "stderr",
     "output_type": "stream",
     "text": [
      " 15%|█████████████████████▎                                                                                                                             | 71/489 [08:16<50:19,  7.22s/it]"
     ]
    },
    {
     "name": "stdout",
     "output_type": "stream",
     "text": [
      "case_00071: 3D image shape (128, 232, 232)\n",
      "case_00071: 3D seg shape (128, 232, 232)\n"
     ]
    },
    {
     "name": "stderr",
     "output_type": "stream",
     "text": [
      " 15%|█████████████████████▎                                                                                                                           | 72/489 [08:36<1:16:36, 11.02s/it]"
     ]
    },
    {
     "name": "stdout",
     "output_type": "stream",
     "text": [
      "case_00072: 3D image shape (128, 232, 232)\n",
      "case_00072: 3D seg shape (128, 232, 232)\n"
     ]
    },
    {
     "name": "stderr",
     "output_type": "stream",
     "text": [
      " 15%|█████████████████████▋                                                                                                                           | 73/489 [08:41<1:04:28,  9.30s/it]"
     ]
    },
    {
     "name": "stdout",
     "output_type": "stream",
     "text": [
      "case_00073: 3D image shape (128, 232, 232)\n",
      "case_00073: 3D seg shape (128, 232, 232)\n"
     ]
    },
    {
     "name": "stderr",
     "output_type": "stream",
     "text": [
      " 15%|██████████████████████▏                                                                                                                            | 74/489 [08:46<54:27,  7.87s/it]"
     ]
    },
    {
     "name": "stdout",
     "output_type": "stream",
     "text": [
      "case_00074: 3D image shape (128, 232, 232)\n",
      "case_00074: 3D seg shape (128, 232, 232)\n"
     ]
    },
    {
     "name": "stderr",
     "output_type": "stream",
     "text": [
      " 15%|██████████████████████▌                                                                                                                            | 75/489 [08:48<43:38,  6.32s/it]"
     ]
    },
    {
     "name": "stdout",
     "output_type": "stream",
     "text": [
      "case_00075: 3D image shape (128, 232, 232)\n",
      "case_00075: 3D seg shape (128, 232, 232)\n"
     ]
    },
    {
     "name": "stderr",
     "output_type": "stream",
     "text": [
      " 16%|██████████████████████▊                                                                                                                            | 76/489 [08:51<36:39,  5.33s/it]"
     ]
    },
    {
     "name": "stdout",
     "output_type": "stream",
     "text": [
      "case_00076: 3D image shape (128, 232, 232)\n",
      "case_00076: 3D seg shape (128, 232, 232)\n"
     ]
    },
    {
     "name": "stderr",
     "output_type": "stream",
     "text": [
      " 16%|███████████████████████▏                                                                                                                           | 77/489 [08:53<30:12,  4.40s/it]"
     ]
    },
    {
     "name": "stdout",
     "output_type": "stream",
     "text": [
      "case_00077: 3D image shape (128, 232, 232)\n",
      "case_00077: 3D seg shape (128, 232, 232)\n"
     ]
    },
    {
     "name": "stderr",
     "output_type": "stream",
     "text": [
      " 16%|███████████████████████▍                                                                                                                           | 78/489 [08:56<27:05,  3.95s/it]"
     ]
    },
    {
     "name": "stdout",
     "output_type": "stream",
     "text": [
      "case_00078: 3D image shape (128, 232, 232)\n",
      "case_00078: 3D seg shape (128, 232, 232)\n"
     ]
    },
    {
     "name": "stderr",
     "output_type": "stream",
     "text": [
      " 16%|███████████████████████▋                                                                                                                           | 79/489 [09:07<40:06,  5.87s/it]"
     ]
    },
    {
     "name": "stdout",
     "output_type": "stream",
     "text": [
      "case_00079: 3D image shape (128, 232, 232)\n",
      "case_00079: 3D seg shape (128, 232, 232)\n"
     ]
    },
    {
     "name": "stderr",
     "output_type": "stream",
     "text": [
      " 16%|████████████████████████                                                                                                                           | 80/489 [09:11<36:45,  5.39s/it]"
     ]
    },
    {
     "name": "stdout",
     "output_type": "stream",
     "text": [
      "case_00080: 3D image shape (128, 232, 232)\n",
      "case_00080: 3D seg shape (128, 232, 232)\n"
     ]
    },
    {
     "name": "stderr",
     "output_type": "stream",
     "text": [
      " 17%|████████████████████████▎                                                                                                                          | 81/489 [09:14<32:10,  4.73s/it]"
     ]
    },
    {
     "name": "stdout",
     "output_type": "stream",
     "text": [
      "case_00081: 3D image shape (128, 232, 232)\n",
      "case_00081: 3D seg shape (128, 232, 232)\n"
     ]
    },
    {
     "name": "stderr",
     "output_type": "stream",
     "text": [
      " 17%|████████████████████████▋                                                                                                                          | 82/489 [09:19<32:41,  4.82s/it]"
     ]
    },
    {
     "name": "stdout",
     "output_type": "stream",
     "text": [
      "case_00082: 3D image shape (128, 232, 232)\n",
      "case_00082: 3D seg shape (128, 232, 232)\n"
     ]
    },
    {
     "name": "stderr",
     "output_type": "stream",
     "text": [
      " 17%|████████████████████████▉                                                                                                                          | 83/489 [09:24<31:43,  4.69s/it]"
     ]
    },
    {
     "name": "stdout",
     "output_type": "stream",
     "text": [
      "case_00083: 3D image shape (128, 232, 232)\n",
      "case_00083: 3D seg shape (128, 232, 232)\n"
     ]
    },
    {
     "name": "stderr",
     "output_type": "stream",
     "text": [
      " 17%|█████████████████████████▎                                                                                                                         | 84/489 [09:27<28:38,  4.24s/it]"
     ]
    },
    {
     "name": "stdout",
     "output_type": "stream",
     "text": [
      "case_00084: 3D image shape (128, 232, 232)\n",
      "case_00084: 3D seg shape (128, 232, 232)\n"
     ]
    },
    {
     "name": "stderr",
     "output_type": "stream",
     "text": [
      " 17%|█████████████████████████▌                                                                                                                         | 85/489 [09:35<37:32,  5.58s/it]"
     ]
    },
    {
     "name": "stdout",
     "output_type": "stream",
     "text": [
      "case_00085: 3D image shape (128, 232, 232)\n",
      "case_00085: 3D seg shape (128, 232, 232)\n"
     ]
    },
    {
     "name": "stderr",
     "output_type": "stream",
     "text": [
      " 18%|█████████████████████████▊                                                                                                                         | 86/489 [09:38<32:02,  4.77s/it]"
     ]
    },
    {
     "name": "stdout",
     "output_type": "stream",
     "text": [
      "case_00086: 3D image shape (128, 232, 232)\n",
      "case_00086: 3D seg shape (128, 232, 232)\n"
     ]
    },
    {
     "name": "stderr",
     "output_type": "stream",
     "text": [
      " 18%|██████████████████████████▏                                                                                                                        | 87/489 [09:45<34:47,  5.19s/it]"
     ]
    },
    {
     "name": "stdout",
     "output_type": "stream",
     "text": [
      "case_00087: 3D image shape (128, 232, 232)\n",
      "case_00087: 3D seg shape (128, 232, 232)\n"
     ]
    },
    {
     "name": "stderr",
     "output_type": "stream",
     "text": [
      " 18%|██████████████████████████▊                                                                                                                        | 89/489 [09:49<25:30,  3.83s/it]"
     ]
    },
    {
     "name": "stdout",
     "output_type": "stream",
     "text": [
      "case_00088: 3D image shape (128, 232, 232)\n",
      "case_00088: 3D seg shape (128, 232, 232)\n",
      "case_00089: 3D image shape (128, 232, 232)\n",
      "case_00089: 3D seg shape (128, 232, 232)\n"
     ]
    },
    {
     "name": "stderr",
     "output_type": "stream",
     "text": [
      " 18%|███████████████████████████                                                                                                                        | 90/489 [09:51<21:52,  3.29s/it]"
     ]
    },
    {
     "name": "stdout",
     "output_type": "stream",
     "text": [
      "case_00090: 3D image shape (128, 232, 232)\n",
      "case_00090: 3D seg shape (128, 232, 232)\n"
     ]
    },
    {
     "name": "stderr",
     "output_type": "stream",
     "text": [
      " 19%|███████████████████████████▎                                                                                                                       | 91/489 [09:54<20:30,  3.09s/it]"
     ]
    },
    {
     "name": "stdout",
     "output_type": "stream",
     "text": [
      "case_00091: 3D image shape (128, 232, 232)\n",
      "case_00091: 3D seg shape (128, 232, 232)\n"
     ]
    },
    {
     "name": "stderr",
     "output_type": "stream",
     "text": [
      " 19%|███████████████████████████▎                                                                                                                     | 92/489 [10:18<1:02:12,  9.40s/it]"
     ]
    },
    {
     "name": "stdout",
     "output_type": "stream",
     "text": [
      "case_00092: 3D image shape (128, 232, 232)\n",
      "case_00092: 3D seg shape (128, 232, 232)\n"
     ]
    },
    {
     "name": "stderr",
     "output_type": "stream",
     "text": [
      " 19%|███████████████████████████▉                                                                                                                       | 93/489 [10:22<50:14,  7.61s/it]"
     ]
    },
    {
     "name": "stdout",
     "output_type": "stream",
     "text": [
      "case_00093: 3D image shape (128, 232, 232)\n",
      "case_00093: 3D seg shape (128, 232, 232)\n"
     ]
    },
    {
     "name": "stderr",
     "output_type": "stream",
     "text": [
      " 19%|████████████████████████████▏                                                                                                                    | 95/489 [10:49<1:03:18,  9.64s/it]"
     ]
    },
    {
     "name": "stdout",
     "output_type": "stream",
     "text": [
      "case_00094: 3D image shape (128, 232, 232)\n",
      "case_00094: 3D seg shape (128, 232, 232)\n",
      "case_00095: 3D image shape (128, 232, 232)\n",
      "case_00095: 3D seg shape (128, 232, 232)\n"
     ]
    },
    {
     "name": "stderr",
     "output_type": "stream",
     "text": [
      " 20%|████████████████████████████▍                                                                                                                    | 96/489 [11:00<1:04:45,  9.89s/it]"
     ]
    },
    {
     "name": "stdout",
     "output_type": "stream",
     "text": [
      "case_00096: 3D image shape (128, 232, 232)\n",
      "case_00096: 3D seg shape (128, 232, 232)\n"
     ]
    },
    {
     "name": "stderr",
     "output_type": "stream",
     "text": [
      " 20%|████████████████████████████▊                                                                                                                    | 97/489 [11:22<1:28:43, 13.58s/it]"
     ]
    },
    {
     "name": "stdout",
     "output_type": "stream",
     "text": [
      "case_00097: 3D image shape (128, 232, 232)\n",
      "case_00097: 3D seg shape (128, 232, 232)\n"
     ]
    },
    {
     "name": "stderr",
     "output_type": "stream",
     "text": [
      " 20%|█████████████████████████████                                                                                                                    | 98/489 [11:25<1:07:28, 10.35s/it]"
     ]
    },
    {
     "name": "stdout",
     "output_type": "stream",
     "text": [
      "case_00098: 3D image shape (128, 232, 232)\n",
      "case_00098: 3D seg shape (128, 232, 232)\n"
     ]
    },
    {
     "name": "stderr",
     "output_type": "stream",
     "text": [
      " 20%|█████████████████████████████▎                                                                                                                   | 99/489 [11:32<1:02:36,  9.63s/it]"
     ]
    },
    {
     "name": "stdout",
     "output_type": "stream",
     "text": [
      "case_00099: 3D image shape (128, 232, 232)\n",
      "case_00099: 3D seg shape (128, 232, 232)\n"
     ]
    },
    {
     "name": "stderr",
     "output_type": "stream",
     "text": [
      " 20%|█████████████████████████████▊                                                                                                                    | 100/489 [11:36<50:05,  7.73s/it]"
     ]
    },
    {
     "name": "stdout",
     "output_type": "stream",
     "text": [
      "case_00100: 3D image shape (128, 232, 232)\n",
      "case_00100: 3D seg shape (128, 232, 232)\n"
     ]
    },
    {
     "name": "stderr",
     "output_type": "stream",
     "text": [
      " 21%|█████████████████████████████▋                                                                                                                  | 101/489 [11:52<1:05:54, 10.19s/it]"
     ]
    },
    {
     "name": "stdout",
     "output_type": "stream",
     "text": [
      "case_00101: 3D image shape (128, 232, 232)\n",
      "case_00101: 3D seg shape (128, 232, 232)\n"
     ]
    },
    {
     "name": "stderr",
     "output_type": "stream",
     "text": [
      " 21%|██████████████████████████████                                                                                                                  | 102/489 [12:12<1:24:27, 13.10s/it]"
     ]
    },
    {
     "name": "stdout",
     "output_type": "stream",
     "text": [
      "case_00102: 3D image shape (128, 232, 232)\n",
      "case_00102: 3D seg shape (128, 232, 232)\n"
     ]
    },
    {
     "name": "stderr",
     "output_type": "stream",
     "text": [
      " 21%|██████████████████████████████▎                                                                                                                 | 103/489 [12:22<1:19:10, 12.31s/it]"
     ]
    },
    {
     "name": "stdout",
     "output_type": "stream",
     "text": [
      "case_00103: 3D image shape (128, 232, 232)\n",
      "case_00103: 3D seg shape (128, 232, 232)\n"
     ]
    },
    {
     "name": "stderr",
     "output_type": "stream",
     "text": [
      " 21%|██████████████████████████████▋                                                                                                                 | 104/489 [12:44<1:37:27, 15.19s/it]"
     ]
    },
    {
     "name": "stdout",
     "output_type": "stream",
     "text": [
      "case_00104: 3D image shape (128, 232, 232)\n",
      "case_00104: 3D seg shape (128, 232, 232)\n"
     ]
    },
    {
     "name": "stderr",
     "output_type": "stream",
     "text": [
      " 21%|██████████████████████████████▉                                                                                                                 | 105/489 [12:48<1:15:36, 11.82s/it]"
     ]
    },
    {
     "name": "stdout",
     "output_type": "stream",
     "text": [
      "case_00105: 3D image shape (128, 232, 232)\n",
      "case_00105: 3D seg shape (128, 232, 232)\n"
     ]
    },
    {
     "name": "stderr",
     "output_type": "stream",
     "text": [
      " 22%|███████████████████████████████▏                                                                                                                | 106/489 [12:53<1:02:04,  9.72s/it]"
     ]
    },
    {
     "name": "stdout",
     "output_type": "stream",
     "text": [
      "case_00106: 3D image shape (128, 232, 232)\n",
      "case_00106: 3D seg shape (128, 232, 232)\n"
     ]
    },
    {
     "name": "stderr",
     "output_type": "stream",
     "text": [
      " 22%|███████████████████████████████▉                                                                                                                  | 107/489 [12:56<49:46,  7.82s/it]"
     ]
    },
    {
     "name": "stdout",
     "output_type": "stream",
     "text": [
      "case_00107: 3D image shape (128, 232, 232)\n",
      "case_00107: 3D seg shape (128, 232, 232)\n"
     ]
    },
    {
     "name": "stderr",
     "output_type": "stream",
     "text": [
      " 22%|████████████████████████████████▏                                                                                                                 | 108/489 [12:59<39:46,  6.26s/it]"
     ]
    },
    {
     "name": "stdout",
     "output_type": "stream",
     "text": [
      "case_00108: 3D image shape (128, 232, 232)\n",
      "case_00108: 3D seg shape (128, 232, 232)\n"
     ]
    },
    {
     "name": "stderr",
     "output_type": "stream",
     "text": [
      " 22%|████████████████████████████████▊                                                                                                                 | 110/489 [13:03<26:24,  4.18s/it]"
     ]
    },
    {
     "name": "stdout",
     "output_type": "stream",
     "text": [
      "case_00109: 3D image shape (128, 232, 232)\n",
      "case_00109: 3D seg shape (128, 232, 232)\n",
      "case_00110: 3D image shape (128, 232, 232)\n",
      "case_00110: 3D seg shape (128, 232, 232)\n"
     ]
    },
    {
     "name": "stderr",
     "output_type": "stream",
     "text": [
      " 23%|█████████████████████████████████▏                                                                                                                | 111/489 [13:04<21:06,  3.35s/it]"
     ]
    },
    {
     "name": "stdout",
     "output_type": "stream",
     "text": [
      "case_00111: 3D image shape (128, 232, 232)\n",
      "case_00111: 3D seg shape (128, 232, 232)\n"
     ]
    },
    {
     "name": "stderr",
     "output_type": "stream",
     "text": [
      " 23%|█████████████████████████████████▍                                                                                                                | 112/489 [13:10<25:38,  4.08s/it]"
     ]
    },
    {
     "name": "stdout",
     "output_type": "stream",
     "text": [
      "case_00112: 3D image shape (128, 232, 232)\n",
      "case_00112: 3D seg shape (128, 232, 232)\n"
     ]
    },
    {
     "name": "stderr",
     "output_type": "stream",
     "text": [
      " 23%|█████████████████████████████████▋                                                                                                                | 113/489 [13:14<24:53,  3.97s/it]"
     ]
    },
    {
     "name": "stdout",
     "output_type": "stream",
     "text": [
      "case_00113: 3D image shape (128, 232, 232)\n",
      "case_00113: 3D seg shape (128, 232, 232)\n"
     ]
    },
    {
     "name": "stderr",
     "output_type": "stream",
     "text": [
      " 23%|██████████████████████████████████                                                                                                                | 114/489 [13:16<20:23,  3.26s/it]"
     ]
    },
    {
     "name": "stdout",
     "output_type": "stream",
     "text": [
      "case_00114: 3D image shape (128, 232, 232)\n",
      "case_00114: 3D seg shape (128, 232, 232)\n"
     ]
    },
    {
     "name": "stderr",
     "output_type": "stream",
     "text": [
      " 24%|██████████████████████████████████▎                                                                                                               | 115/489 [13:25<32:28,  5.21s/it]"
     ]
    },
    {
     "name": "stdout",
     "output_type": "stream",
     "text": [
      "case_00115: 3D image shape (128, 232, 232)\n",
      "case_00115: 3D seg shape (128, 232, 232)\n"
     ]
    },
    {
     "name": "stderr",
     "output_type": "stream",
     "text": [
      " 24%|██████████████████████████████████▋                                                                                                               | 116/489 [13:36<42:38,  6.86s/it]"
     ]
    },
    {
     "name": "stdout",
     "output_type": "stream",
     "text": [
      "case_00116: 3D image shape (128, 232, 232)\n",
      "case_00116: 3D seg shape (128, 232, 232)\n"
     ]
    },
    {
     "name": "stderr",
     "output_type": "stream",
     "text": [
      " 24%|██████████████████████████████████▉                                                                                                               | 117/489 [13:50<55:35,  8.97s/it]"
     ]
    },
    {
     "name": "stdout",
     "output_type": "stream",
     "text": [
      "case_00117: 3D image shape (128, 232, 232)\n",
      "case_00117: 3D seg shape (128, 232, 232)\n"
     ]
    },
    {
     "name": "stderr",
     "output_type": "stream",
     "text": [
      " 24%|███████████████████████████████████▏                                                                                                              | 118/489 [13:52<43:13,  6.99s/it]"
     ]
    },
    {
     "name": "stdout",
     "output_type": "stream",
     "text": [
      "case_00118: 3D image shape (128, 232, 232)\n",
      "case_00118: 3D seg shape (128, 232, 232)\n"
     ]
    },
    {
     "name": "stderr",
     "output_type": "stream",
     "text": [
      " 24%|███████████████████████████████████                                                                                                             | 119/489 [14:14<1:10:53, 11.50s/it]"
     ]
    },
    {
     "name": "stdout",
     "output_type": "stream",
     "text": [
      "case_00119: 3D image shape (128, 232, 232)\n",
      "case_00119: 3D seg shape (128, 232, 232)\n"
     ]
    },
    {
     "name": "stderr",
     "output_type": "stream",
     "text": [
      " 25%|███████████████████████████████████▊                                                                                                              | 120/489 [14:17<55:03,  8.95s/it]"
     ]
    },
    {
     "name": "stdout",
     "output_type": "stream",
     "text": [
      "case_00120: 3D image shape (128, 232, 232)\n",
      "case_00120: 3D seg shape (128, 232, 232)\n"
     ]
    },
    {
     "name": "stderr",
     "output_type": "stream",
     "text": [
      " 25%|████████████████████████████████████▏                                                                                                             | 121/489 [14:27<55:40,  9.08s/it]"
     ]
    },
    {
     "name": "stdout",
     "output_type": "stream",
     "text": [
      "case_00121: 3D image shape (128, 232, 232)\n",
      "case_00121: 3D seg shape (128, 232, 232)\n"
     ]
    },
    {
     "name": "stderr",
     "output_type": "stream",
     "text": [
      " 25%|████████████████████████████████████▍                                                                                                             | 122/489 [14:29<43:24,  7.10s/it]"
     ]
    },
    {
     "name": "stdout",
     "output_type": "stream",
     "text": [
      "case_00122: 3D image shape (128, 232, 232)\n",
      "case_00122: 3D seg shape (128, 232, 232)\n"
     ]
    },
    {
     "name": "stderr",
     "output_type": "stream",
     "text": [
      " 25%|████████████████████████████████████▋                                                                                                             | 123/489 [14:31<33:33,  5.50s/it]"
     ]
    },
    {
     "name": "stdout",
     "output_type": "stream",
     "text": [
      "case_00123: 3D image shape (128, 232, 232)\n",
      "case_00123: 3D seg shape (128, 232, 232)\n"
     ]
    },
    {
     "name": "stderr",
     "output_type": "stream",
     "text": [
      " 25%|█████████████████████████████████████                                                                                                             | 124/489 [14:42<44:17,  7.28s/it]"
     ]
    },
    {
     "name": "stdout",
     "output_type": "stream",
     "text": [
      "case_00124: 3D image shape (128, 232, 232)\n",
      "case_00124: 3D seg shape (128, 232, 232)\n"
     ]
    },
    {
     "name": "stderr",
     "output_type": "stream",
     "text": [
      " 26%|█████████████████████████████████████▎                                                                                                            | 125/489 [14:51<45:45,  7.54s/it]"
     ]
    },
    {
     "name": "stdout",
     "output_type": "stream",
     "text": [
      "case_00125: 3D image shape (128, 232, 232)\n",
      "case_00125: 3D seg shape (128, 232, 232)\n"
     ]
    },
    {
     "name": "stderr",
     "output_type": "stream",
     "text": [
      " 26%|█████████████████████████████████████▌                                                                                                            | 126/489 [14:56<41:31,  6.86s/it]"
     ]
    },
    {
     "name": "stdout",
     "output_type": "stream",
     "text": [
      "case_00126: 3D image shape (128, 232, 232)\n",
      "case_00126: 3D seg shape (128, 232, 232)\n"
     ]
    },
    {
     "name": "stderr",
     "output_type": "stream",
     "text": [
      " 26%|█████████████████████████████████████▉                                                                                                            | 127/489 [14:59<35:10,  5.83s/it]"
     ]
    },
    {
     "name": "stdout",
     "output_type": "stream",
     "text": [
      "case_00127: 3D image shape (128, 232, 232)\n",
      "case_00127: 3D seg shape (128, 232, 232)\n"
     ]
    },
    {
     "name": "stderr",
     "output_type": "stream",
     "text": [
      " 26%|██████████████████████████████████████▏                                                                                                           | 128/489 [15:03<30:39,  5.09s/it]"
     ]
    },
    {
     "name": "stdout",
     "output_type": "stream",
     "text": [
      "case_00128: 3D image shape (128, 232, 232)\n",
      "case_00128: 3D seg shape (128, 232, 232)\n"
     ]
    },
    {
     "name": "stderr",
     "output_type": "stream",
     "text": [
      " 26%|██████████████████████████████████████▌                                                                                                           | 129/489 [15:09<32:54,  5.49s/it]"
     ]
    },
    {
     "name": "stdout",
     "output_type": "stream",
     "text": [
      "case_00129: 3D image shape (128, 232, 232)\n",
      "case_00129: 3D seg shape (128, 232, 232)\n"
     ]
    },
    {
     "name": "stderr",
     "output_type": "stream",
     "text": [
      " 27%|███████████████████████████████████████                                                                                                           | 131/489 [15:12<21:21,  3.58s/it]"
     ]
    },
    {
     "name": "stdout",
     "output_type": "stream",
     "text": [
      "case_00130: 3D image shape (128, 232, 232)\n",
      "case_00130: 3D seg shape (128, 232, 232)\n",
      "case_00131: 3D image shape (128, 232, 232)\n",
      "case_00131: 3D seg shape (128, 232, 232)\n"
     ]
    },
    {
     "name": "stderr",
     "output_type": "stream",
     "text": [
      " 27%|███████████████████████████████████████▍                                                                                                          | 132/489 [15:17<23:22,  3.93s/it]"
     ]
    },
    {
     "name": "stdout",
     "output_type": "stream",
     "text": [
      "case_00132: 3D image shape (128, 232, 232)\n",
      "case_00132: 3D seg shape (128, 232, 232)\n"
     ]
    },
    {
     "name": "stderr",
     "output_type": "stream",
     "text": [
      " 27%|███████████████████████████████████████▋                                                                                                          | 133/489 [15:34<46:42,  7.87s/it]"
     ]
    },
    {
     "name": "stdout",
     "output_type": "stream",
     "text": [
      "case_00133: 3D image shape (128, 232, 232)\n",
      "case_00133: 3D seg shape (128, 232, 232)\n"
     ]
    },
    {
     "name": "stderr",
     "output_type": "stream",
     "text": [
      " 27%|████████████████████████████████████████                                                                                                          | 134/489 [15:40<42:33,  7.19s/it]"
     ]
    },
    {
     "name": "stdout",
     "output_type": "stream",
     "text": [
      "case_00134: 3D image shape (128, 232, 232)\n",
      "case_00134: 3D seg shape (128, 232, 232)\n"
     ]
    },
    {
     "name": "stderr",
     "output_type": "stream",
     "text": [
      " 28%|████████████████████████████████████████▎                                                                                                         | 135/489 [15:42<33:21,  5.65s/it]"
     ]
    },
    {
     "name": "stdout",
     "output_type": "stream",
     "text": [
      "case_00135: 3D image shape (128, 232, 232)\n",
      "case_00135: 3D seg shape (128, 232, 232)\n"
     ]
    },
    {
     "name": "stderr",
     "output_type": "stream",
     "text": [
      " 28%|████████████████████████████████████████▌                                                                                                         | 136/489 [16:03<59:40, 10.14s/it]"
     ]
    },
    {
     "name": "stdout",
     "output_type": "stream",
     "text": [
      "case_00136: 3D image shape (128, 232, 232)\n",
      "case_00136: 3D seg shape (128, 232, 232)\n"
     ]
    },
    {
     "name": "stderr",
     "output_type": "stream",
     "text": [
      " 28%|████████████████████████████████████████▉                                                                                                         | 137/489 [16:06<47:26,  8.09s/it]"
     ]
    },
    {
     "name": "stdout",
     "output_type": "stream",
     "text": [
      "case_00137: 3D image shape (128, 232, 232)\n",
      "case_00137: 3D seg shape (128, 232, 232)\n"
     ]
    },
    {
     "name": "stderr",
     "output_type": "stream",
     "text": [
      " 28%|█████████████████████████████████████████▏                                                                                                        | 138/489 [16:10<39:34,  6.76s/it]"
     ]
    },
    {
     "name": "stdout",
     "output_type": "stream",
     "text": [
      "case_00138: 3D image shape (128, 232, 232)\n",
      "case_00138: 3D seg shape (128, 232, 232)\n"
     ]
    },
    {
     "name": "stderr",
     "output_type": "stream",
     "text": [
      " 28%|█████████████████████████████████████████▌                                                                                                        | 139/489 [16:12<32:23,  5.55s/it]"
     ]
    },
    {
     "name": "stdout",
     "output_type": "stream",
     "text": [
      "case_00139: 3D image shape (128, 232, 232)\n",
      "case_00139: 3D seg shape (128, 232, 232)\n"
     ]
    },
    {
     "name": "stderr",
     "output_type": "stream",
     "text": [
      " 29%|█████████████████████████████████████████▊                                                                                                        | 140/489 [16:16<28:24,  4.88s/it]"
     ]
    },
    {
     "name": "stdout",
     "output_type": "stream",
     "text": [
      "case_00140: 3D image shape (128, 232, 232)\n",
      "case_00140: 3D seg shape (128, 232, 232)\n"
     ]
    },
    {
     "name": "stderr",
     "output_type": "stream",
     "text": [
      " 29%|██████████████████████████████████████████                                                                                                        | 141/489 [16:25<36:08,  6.23s/it]"
     ]
    },
    {
     "name": "stdout",
     "output_type": "stream",
     "text": [
      "case_00141: 3D image shape (128, 232, 232)\n",
      "case_00141: 3D seg shape (128, 232, 232)\n"
     ]
    },
    {
     "name": "stderr",
     "output_type": "stream",
     "text": [
      " 29%|█████████████████████████████████████████▊                                                                                                      | 142/489 [16:47<1:03:25, 10.97s/it]"
     ]
    },
    {
     "name": "stdout",
     "output_type": "stream",
     "text": [
      "case_00142: 3D image shape (128, 232, 232)\n",
      "case_00142: 3D seg shape (128, 232, 232)\n"
     ]
    },
    {
     "name": "stderr",
     "output_type": "stream",
     "text": [
      " 29%|██████████████████████████████████████████▋                                                                                                       | 143/489 [16:56<59:47, 10.37s/it]"
     ]
    },
    {
     "name": "stdout",
     "output_type": "stream",
     "text": [
      "case_00143: 3D image shape (128, 232, 232)\n",
      "case_00143: 3D seg shape (128, 232, 232)\n"
     ]
    },
    {
     "name": "stderr",
     "output_type": "stream",
     "text": [
      " 29%|██████████████████████████████████████████▉                                                                                                       | 144/489 [16:59<47:05,  8.19s/it]"
     ]
    },
    {
     "name": "stdout",
     "output_type": "stream",
     "text": [
      "case_00144: 3D image shape (128, 232, 232)\n",
      "case_00144: 3D seg shape (128, 232, 232)\n"
     ]
    },
    {
     "name": "stderr",
     "output_type": "stream",
     "text": [
      " 30%|███████████████████████████████████████████▎                                                                                                      | 145/489 [17:06<44:18,  7.73s/it]"
     ]
    },
    {
     "name": "stdout",
     "output_type": "stream",
     "text": [
      "case_00145: 3D image shape (128, 232, 232)\n",
      "case_00145: 3D seg shape (128, 232, 232)\n"
     ]
    },
    {
     "name": "stderr",
     "output_type": "stream",
     "text": [
      " 30%|███████████████████████████████████████████▌                                                                                                      | 146/489 [17:09<35:58,  6.29s/it]"
     ]
    },
    {
     "name": "stdout",
     "output_type": "stream",
     "text": [
      "case_00146: 3D image shape (128, 232, 232)\n",
      "case_00146: 3D seg shape (128, 232, 232)\n"
     ]
    },
    {
     "name": "stderr",
     "output_type": "stream",
     "text": [
      " 30%|███████████████████████████████████████████▉                                                                                                      | 147/489 [17:28<57:41, 10.12s/it]"
     ]
    },
    {
     "name": "stdout",
     "output_type": "stream",
     "text": [
      "case_00147: 3D image shape (128, 232, 232)\n",
      "case_00147: 3D seg shape (128, 232, 232)\n"
     ]
    },
    {
     "name": "stderr",
     "output_type": "stream",
     "text": [
      " 30%|████████████████████████████████████████████▏                                                                                                     | 148/489 [17:30<44:27,  7.82s/it]"
     ]
    },
    {
     "name": "stdout",
     "output_type": "stream",
     "text": [
      "case_00148: 3D image shape (128, 232, 232)\n",
      "case_00148: 3D seg shape (128, 232, 232)\n"
     ]
    },
    {
     "name": "stderr",
     "output_type": "stream",
     "text": [
      " 30%|████████████████████████████████████████████▍                                                                                                     | 149/489 [17:32<33:20,  5.88s/it]"
     ]
    },
    {
     "name": "stdout",
     "output_type": "stream",
     "text": [
      "case_00149: 3D image shape (128, 232, 232)\n",
      "case_00149: 3D seg shape (128, 232, 232)\n"
     ]
    },
    {
     "name": "stderr",
     "output_type": "stream",
     "text": [
      " 31%|████████████████████████████████████████████▊                                                                                                     | 150/489 [17:35<28:46,  5.09s/it]"
     ]
    },
    {
     "name": "stdout",
     "output_type": "stream",
     "text": [
      "case_00150: 3D image shape (128, 232, 232)\n",
      "case_00150: 3D seg shape (128, 232, 232)\n"
     ]
    },
    {
     "name": "stderr",
     "output_type": "stream",
     "text": [
      " 31%|█████████████████████████████████████████████                                                                                                     | 151/489 [17:38<25:38,  4.55s/it]"
     ]
    },
    {
     "name": "stdout",
     "output_type": "stream",
     "text": [
      "case_00151: 3D image shape (128, 232, 232)\n",
      "case_00151: 3D seg shape (128, 232, 232)\n"
     ]
    },
    {
     "name": "stderr",
     "output_type": "stream",
     "text": [
      " 31%|████████████████████████████████████████████▊                                                                                                   | 152/489 [18:13<1:17:04, 13.72s/it]"
     ]
    },
    {
     "name": "stdout",
     "output_type": "stream",
     "text": [
      "case_00152: 3D image shape (128, 232, 232)\n",
      "case_00152: 3D seg shape (128, 232, 232)\n"
     ]
    },
    {
     "name": "stderr",
     "output_type": "stream",
     "text": [
      " 31%|█████████████████████████████████████████████▋                                                                                                    | 153/489 [18:15<56:19, 10.06s/it]"
     ]
    },
    {
     "name": "stdout",
     "output_type": "stream",
     "text": [
      "case_00153: 3D image shape (128, 232, 232)\n",
      "case_00153: 3D seg shape (128, 232, 232)\n"
     ]
    },
    {
     "name": "stderr",
     "output_type": "stream",
     "text": [
      " 31%|█████████████████████████████████████████████▉                                                                                                    | 154/489 [18:17<43:13,  7.74s/it]"
     ]
    },
    {
     "name": "stdout",
     "output_type": "stream",
     "text": [
      "case_00154: 3D image shape (128, 232, 232)\n",
      "case_00154: 3D seg shape (128, 232, 232)\n"
     ]
    },
    {
     "name": "stderr",
     "output_type": "stream",
     "text": [
      " 32%|██████████████████████████████████████████████▎                                                                                                   | 155/489 [18:31<54:13,  9.74s/it]"
     ]
    },
    {
     "name": "stdout",
     "output_type": "stream",
     "text": [
      "case_00155: 3D image shape (128, 232, 232)\n",
      "case_00155: 3D seg shape (128, 232, 232)\n"
     ]
    },
    {
     "name": "stderr",
     "output_type": "stream",
     "text": [
      " 32%|█████████████████████████████████████████████▉                                                                                                  | 156/489 [18:48<1:06:02, 11.90s/it]"
     ]
    },
    {
     "name": "stdout",
     "output_type": "stream",
     "text": [
      "case_00156: 3D image shape (128, 232, 232)\n",
      "case_00156: 3D seg shape (128, 232, 232)\n"
     ]
    },
    {
     "name": "stderr",
     "output_type": "stream",
     "text": [
      " 32%|██████████████████████████████████████████████▏                                                                                                 | 157/489 [19:19<1:36:11, 17.39s/it]"
     ]
    },
    {
     "name": "stdout",
     "output_type": "stream",
     "text": [
      "case_00157: 3D image shape (128, 232, 232)\n",
      "case_00157: 3D seg shape (128, 232, 232)\n"
     ]
    },
    {
     "name": "stderr",
     "output_type": "stream",
     "text": [
      " 32%|██████████████████████████████████████████████▌                                                                                                 | 158/489 [19:36<1:35:47, 17.36s/it]"
     ]
    },
    {
     "name": "stdout",
     "output_type": "stream",
     "text": [
      "case_00158: 3D image shape (128, 232, 232)\n",
      "case_00158: 3D seg shape (128, 232, 232)\n"
     ]
    },
    {
     "name": "stderr",
     "output_type": "stream",
     "text": [
      " 33%|██████████████████████████████████████████████▊                                                                                                 | 159/489 [20:00<1:46:08, 19.30s/it]"
     ]
    },
    {
     "name": "stdout",
     "output_type": "stream",
     "text": [
      "case_00159: 3D image shape (128, 232, 232)\n",
      "case_00159: 3D seg shape (128, 232, 232)\n"
     ]
    },
    {
     "name": "stderr",
     "output_type": "stream",
     "text": [
      " 33%|███████████████████████████████████████████████                                                                                                 | 160/489 [20:23<1:52:04, 20.44s/it]"
     ]
    },
    {
     "name": "stdout",
     "output_type": "stream",
     "text": [
      "case_00160: 3D image shape (128, 232, 232)\n",
      "case_00160: 3D seg shape (128, 232, 232)\n"
     ]
    },
    {
     "name": "stderr",
     "output_type": "stream",
     "text": [
      " 33%|███████████████████████████████████████████████▍                                                                                                | 161/489 [20:35<1:38:36, 18.04s/it]"
     ]
    },
    {
     "name": "stdout",
     "output_type": "stream",
     "text": [
      "case_00161: 3D image shape (128, 232, 232)\n",
      "case_00161: 3D seg shape (128, 232, 232)\n"
     ]
    },
    {
     "name": "stderr",
     "output_type": "stream",
     "text": [
      " 33%|████████████████████████████████████████████████▋                                                                                                 | 163/489 [20:40<55:04, 10.14s/it]"
     ]
    },
    {
     "name": "stdout",
     "output_type": "stream",
     "text": [
      "case_00162: 3D image shape (128, 232, 232)\n",
      "case_00162: 3D seg shape (128, 232, 232)\n",
      "case_00163: 3D image shape (128, 232, 232)\n",
      "case_00163: 3D seg shape (128, 232, 232)\n"
     ]
    },
    {
     "name": "stderr",
     "output_type": "stream",
     "text": [
      " 34%|████████████████████████████████████████████████▉                                                                                                 | 164/489 [20:43<43:31,  8.04s/it]"
     ]
    },
    {
     "name": "stdout",
     "output_type": "stream",
     "text": [
      "case_00164: 3D image shape (128, 232, 232)\n",
      "case_00164: 3D seg shape (128, 232, 232)\n"
     ]
    },
    {
     "name": "stderr",
     "output_type": "stream",
     "text": [
      " 34%|█████████████████████████████████████████████████▎                                                                                                | 165/489 [20:46<35:06,  6.50s/it]"
     ]
    },
    {
     "name": "stdout",
     "output_type": "stream",
     "text": [
      "case_00165: 3D image shape (128, 232, 232)\n",
      "case_00165: 3D seg shape (128, 232, 232)\n"
     ]
    },
    {
     "name": "stderr",
     "output_type": "stream",
     "text": [
      " 34%|████████████████████████████████████████████████▉                                                                                               | 166/489 [21:09<1:00:47, 11.29s/it]"
     ]
    },
    {
     "name": "stdout",
     "output_type": "stream",
     "text": [
      "case_00166: 3D image shape (128, 232, 232)\n",
      "case_00166: 3D seg shape (128, 232, 232)\n"
     ]
    },
    {
     "name": "stderr",
     "output_type": "stream",
     "text": [
      " 34%|█████████████████████████████████████████████████▊                                                                                                | 167/489 [21:12<47:32,  8.86s/it]"
     ]
    },
    {
     "name": "stdout",
     "output_type": "stream",
     "text": [
      "case_00167: 3D image shape (128, 232, 232)\n",
      "case_00167: 3D seg shape (128, 232, 232)\n"
     ]
    },
    {
     "name": "stderr",
     "output_type": "stream",
     "text": [
      " 34%|██████████████████████████████████████████████████▏                                                                                               | 168/489 [21:15<38:12,  7.14s/it]"
     ]
    },
    {
     "name": "stdout",
     "output_type": "stream",
     "text": [
      "case_00168: 3D image shape (128, 232, 232)\n",
      "case_00168: 3D seg shape (128, 232, 232)\n"
     ]
    },
    {
     "name": "stderr",
     "output_type": "stream",
     "text": [
      " 35%|██████████████████████████████████████████████████▍                                                                                               | 169/489 [21:18<30:40,  5.75s/it]"
     ]
    },
    {
     "name": "stdout",
     "output_type": "stream",
     "text": [
      "case_00169: 3D image shape (128, 232, 232)\n",
      "case_00169: 3D seg shape (128, 232, 232)\n"
     ]
    },
    {
     "name": "stderr",
     "output_type": "stream",
     "text": [
      " 35%|██████████████████████████████████████████████████▊                                                                                               | 170/489 [21:21<26:15,  4.94s/it]"
     ]
    },
    {
     "name": "stdout",
     "output_type": "stream",
     "text": [
      "case_00170: 3D image shape (128, 232, 232)\n",
      "case_00170: 3D seg shape (128, 232, 232)\n"
     ]
    },
    {
     "name": "stderr",
     "output_type": "stream",
     "text": [
      " 35%|███████████████████████████████████████████████████                                                                                               | 171/489 [21:31<34:21,  6.48s/it]"
     ]
    },
    {
     "name": "stdout",
     "output_type": "stream",
     "text": [
      "case_00171: 3D image shape (128, 232, 232)\n",
      "case_00171: 3D seg shape (128, 232, 232)\n"
     ]
    },
    {
     "name": "stderr",
     "output_type": "stream",
     "text": [
      " 35%|███████████████████████████████████████████████████▎                                                                                              | 172/489 [21:35<30:32,  5.78s/it]"
     ]
    },
    {
     "name": "stdout",
     "output_type": "stream",
     "text": [
      "case_00172: 3D image shape (128, 232, 232)\n",
      "case_00172: 3D seg shape (128, 232, 232)\n"
     ]
    },
    {
     "name": "stderr",
     "output_type": "stream",
     "text": [
      " 35%|███████████████████████████████████████████████████▋                                                                                              | 173/489 [21:38<25:44,  4.89s/it]"
     ]
    },
    {
     "name": "stdout",
     "output_type": "stream",
     "text": [
      "case_00173: 3D image shape (128, 232, 232)\n",
      "case_00173: 3D seg shape (128, 232, 232)\n"
     ]
    },
    {
     "name": "stderr",
     "output_type": "stream",
     "text": [
      " 36%|███████████████████████████████████████████████████▉                                                                                              | 174/489 [21:41<22:55,  4.37s/it]"
     ]
    },
    {
     "name": "stdout",
     "output_type": "stream",
     "text": [
      "case_00174: 3D image shape (128, 232, 232)\n",
      "case_00174: 3D seg shape (128, 232, 232)\n"
     ]
    },
    {
     "name": "stderr",
     "output_type": "stream",
     "text": [
      " 36%|████████████████████████████████████████████████████▏                                                                                             | 175/489 [21:43<19:35,  3.74s/it]"
     ]
    },
    {
     "name": "stdout",
     "output_type": "stream",
     "text": [
      "case_00175: 3D image shape (128, 232, 232)\n",
      "case_00175: 3D seg shape (128, 232, 232)\n"
     ]
    },
    {
     "name": "stderr",
     "output_type": "stream",
     "text": [
      " 36%|████████████████████████████████████████████████████▌                                                                                             | 176/489 [21:46<19:00,  3.64s/it]"
     ]
    },
    {
     "name": "stdout",
     "output_type": "stream",
     "text": [
      "case_00176: 3D image shape (128, 232, 232)\n",
      "case_00176: 3D seg shape (128, 232, 232)\n"
     ]
    },
    {
     "name": "stderr",
     "output_type": "stream",
     "text": [
      " 36%|████████████████████████████████████████████████████▊                                                                                             | 177/489 [21:50<18:10,  3.50s/it]"
     ]
    },
    {
     "name": "stdout",
     "output_type": "stream",
     "text": [
      "case_00177: 3D image shape (128, 232, 232)\n",
      "case_00177: 3D seg shape (128, 232, 232)\n"
     ]
    },
    {
     "name": "stderr",
     "output_type": "stream",
     "text": [
      " 36%|█████████████████████████████████████████████████████▏                                                                                            | 178/489 [21:52<17:05,  3.30s/it]"
     ]
    },
    {
     "name": "stdout",
     "output_type": "stream",
     "text": [
      "case_00178: 3D image shape (128, 232, 232)\n",
      "case_00178: 3D seg shape (128, 232, 232)\n"
     ]
    },
    {
     "name": "stderr",
     "output_type": "stream",
     "text": [
      " 37%|█████████████████████████████████████████████████████▍                                                                                            | 179/489 [21:55<16:20,  3.16s/it]"
     ]
    },
    {
     "name": "stdout",
     "output_type": "stream",
     "text": [
      "case_00179: 3D image shape (128, 232, 232)\n",
      "case_00179: 3D seg shape (128, 232, 232)\n"
     ]
    },
    {
     "name": "stderr",
     "output_type": "stream",
     "text": [
      " 37%|█████████████████████████████████████████████████████▋                                                                                            | 180/489 [21:59<16:26,  3.19s/it]"
     ]
    },
    {
     "name": "stdout",
     "output_type": "stream",
     "text": [
      "case_00180: 3D image shape (128, 232, 232)\n",
      "case_00180: 3D seg shape (128, 232, 232)\n"
     ]
    },
    {
     "name": "stderr",
     "output_type": "stream",
     "text": [
      " 37%|██████████████████████████████████████████████████████                                                                                            | 181/489 [22:03<18:11,  3.54s/it]"
     ]
    },
    {
     "name": "stdout",
     "output_type": "stream",
     "text": [
      "case_00181: 3D image shape (128, 232, 232)\n",
      "case_00181: 3D seg shape (128, 232, 232)\n"
     ]
    },
    {
     "name": "stderr",
     "output_type": "stream",
     "text": [
      " 37%|██████████████████████████████████████████████████████▎                                                                                           | 182/489 [22:06<17:22,  3.39s/it]"
     ]
    },
    {
     "name": "stdout",
     "output_type": "stream",
     "text": [
      "case_00182: 3D image shape (128, 232, 232)\n",
      "case_00182: 3D seg shape (128, 232, 232)\n"
     ]
    },
    {
     "name": "stderr",
     "output_type": "stream",
     "text": [
      " 37%|██████████████████████████████████████████████████████▋                                                                                           | 183/489 [22:09<16:47,  3.29s/it]"
     ]
    },
    {
     "name": "stdout",
     "output_type": "stream",
     "text": [
      "case_00183: 3D image shape (128, 232, 232)\n",
      "case_00183: 3D seg shape (128, 232, 232)\n"
     ]
    },
    {
     "name": "stderr",
     "output_type": "stream",
     "text": [
      " 38%|██████████████████████████████████████████████████████▉                                                                                           | 184/489 [22:15<21:03,  4.14s/it]"
     ]
    },
    {
     "name": "stdout",
     "output_type": "stream",
     "text": [
      "case_00184: 3D image shape (128, 232, 232)\n",
      "case_00184: 3D seg shape (128, 232, 232)\n"
     ]
    },
    {
     "name": "stderr",
     "output_type": "stream",
     "text": [
      " 38%|███████████████████████████████████████████████████████▏                                                                                          | 185/489 [22:20<21:37,  4.27s/it]"
     ]
    },
    {
     "name": "stdout",
     "output_type": "stream",
     "text": [
      "case_00185: 3D image shape (128, 232, 232)\n",
      "case_00185: 3D seg shape (128, 232, 232)\n"
     ]
    },
    {
     "name": "stderr",
     "output_type": "stream",
     "text": [
      " 38%|███████████████████████████████████████████████████████▌                                                                                          | 186/489 [22:27<26:07,  5.17s/it]"
     ]
    },
    {
     "name": "stdout",
     "output_type": "stream",
     "text": [
      "case_00186: 3D image shape (128, 232, 232)\n",
      "case_00186: 3D seg shape (128, 232, 232)\n"
     ]
    },
    {
     "name": "stderr",
     "output_type": "stream",
     "text": [
      " 38%|███████████████████████████████████████████████████████▊                                                                                          | 187/489 [22:31<24:57,  4.96s/it]"
     ]
    },
    {
     "name": "stdout",
     "output_type": "stream",
     "text": [
      "case_00187: 3D image shape (128, 232, 232)\n",
      "case_00187: 3D seg shape (128, 232, 232)\n"
     ]
    },
    {
     "name": "stderr",
     "output_type": "stream",
     "text": [
      " 38%|████████████████████████████████████████████████████████▏                                                                                         | 188/489 [22:34<21:19,  4.25s/it]"
     ]
    },
    {
     "name": "stdout",
     "output_type": "stream",
     "text": [
      "case_00188: 3D image shape (128, 232, 232)\n",
      "case_00188: 3D seg shape (128, 232, 232)\n"
     ]
    },
    {
     "name": "stderr",
     "output_type": "stream",
     "text": [
      " 39%|████████████████████████████████████████████████████████▍                                                                                         | 189/489 [22:46<33:08,  6.63s/it]"
     ]
    },
    {
     "name": "stdout",
     "output_type": "stream",
     "text": [
      "case_00189: 3D image shape (128, 232, 232)\n",
      "case_00189: 3D seg shape (128, 232, 232)\n"
     ]
    },
    {
     "name": "stderr",
     "output_type": "stream",
     "text": [
      " 39%|████████████████████████████████████████████████████████▋                                                                                         | 190/489 [22:51<29:57,  6.01s/it]"
     ]
    },
    {
     "name": "stdout",
     "output_type": "stream",
     "text": [
      "case_00190: 3D image shape (128, 232, 232)\n",
      "case_00190: 3D seg shape (128, 232, 232)\n"
     ]
    },
    {
     "name": "stderr",
     "output_type": "stream",
     "text": [
      " 39%|█████████████████████████████████████████████████████████                                                                                         | 191/489 [22:56<28:31,  5.74s/it]"
     ]
    },
    {
     "name": "stdout",
     "output_type": "stream",
     "text": [
      "case_00191: 3D image shape (128, 232, 232)\n",
      "case_00191: 3D seg shape (128, 232, 232)\n"
     ]
    },
    {
     "name": "stderr",
     "output_type": "stream",
     "text": [
      " 39%|█████████████████████████████████████████████████████████▎                                                                                        | 192/489 [23:06<35:16,  7.13s/it]"
     ]
    },
    {
     "name": "stdout",
     "output_type": "stream",
     "text": [
      "case_00192: 3D image shape (128, 232, 232)\n",
      "case_00192: 3D seg shape (128, 232, 232)\n"
     ]
    },
    {
     "name": "stderr",
     "output_type": "stream",
     "text": [
      " 39%|█████████████████████████████████████████████████████████▌                                                                                        | 193/489 [23:10<30:31,  6.19s/it]"
     ]
    },
    {
     "name": "stdout",
     "output_type": "stream",
     "text": [
      "case_00193: 3D image shape (128, 232, 232)\n",
      "case_00193: 3D seg shape (128, 232, 232)\n"
     ]
    },
    {
     "name": "stderr",
     "output_type": "stream",
     "text": [
      " 40%|█████████████████████████████████████████████████████████▉                                                                                        | 194/489 [23:17<31:37,  6.43s/it]"
     ]
    },
    {
     "name": "stdout",
     "output_type": "stream",
     "text": [
      "case_00194: 3D image shape (128, 232, 232)\n",
      "case_00194: 3D seg shape (128, 232, 232)\n"
     ]
    },
    {
     "name": "stderr",
     "output_type": "stream",
     "text": [
      " 40%|██████████████████████████████████████████████████████████▏                                                                                       | 195/489 [23:21<27:54,  5.70s/it]"
     ]
    },
    {
     "name": "stdout",
     "output_type": "stream",
     "text": [
      "case_00195: 3D image shape (128, 232, 232)\n",
      "case_00195: 3D seg shape (128, 232, 232)\n"
     ]
    },
    {
     "name": "stderr",
     "output_type": "stream",
     "text": [
      " 40%|██████████████████████████████████████████████████████████▌                                                                                       | 196/489 [23:24<24:09,  4.95s/it]"
     ]
    },
    {
     "name": "stdout",
     "output_type": "stream",
     "text": [
      "case_00196: 3D image shape (128, 232, 232)\n",
      "case_00196: 3D seg shape (128, 232, 232)\n"
     ]
    },
    {
     "name": "stderr",
     "output_type": "stream",
     "text": [
      " 40%|██████████████████████████████████████████████████████████▊                                                                                       | 197/489 [23:30<25:05,  5.16s/it]"
     ]
    },
    {
     "name": "stdout",
     "output_type": "stream",
     "text": [
      "case_00197: 3D image shape (128, 232, 232)\n",
      "case_00197: 3D seg shape (128, 232, 232)\n"
     ]
    },
    {
     "name": "stderr",
     "output_type": "stream",
     "text": [
      " 40%|███████████████████████████████████████████████████████████                                                                                       | 198/489 [23:35<24:55,  5.14s/it]"
     ]
    },
    {
     "name": "stdout",
     "output_type": "stream",
     "text": [
      "case_00198: 3D image shape (128, 232, 232)\n",
      "case_00198: 3D seg shape (128, 232, 232)\n"
     ]
    },
    {
     "name": "stderr",
     "output_type": "stream",
     "text": [
      " 41%|███████████████████████████████████████████████████████████▍                                                                                      | 199/489 [23:44<29:45,  6.16s/it]"
     ]
    },
    {
     "name": "stdout",
     "output_type": "stream",
     "text": [
      "case_00199: 3D image shape (128, 232, 232)\n",
      "case_00199: 3D seg shape (128, 232, 232)\n"
     ]
    },
    {
     "name": "stderr",
     "output_type": "stream",
     "text": [
      " 41%|███████████████████████████████████████████████████████████▋                                                                                      | 200/489 [23:48<26:19,  5.47s/it]"
     ]
    },
    {
     "name": "stdout",
     "output_type": "stream",
     "text": [
      "case_00200: 3D image shape (128, 232, 232)\n",
      "case_00200: 3D seg shape (128, 232, 232)\n"
     ]
    },
    {
     "name": "stderr",
     "output_type": "stream",
     "text": [
      " 41%|████████████████████████████████████████████████████████████                                                                                      | 201/489 [23:51<23:39,  4.93s/it]"
     ]
    },
    {
     "name": "stdout",
     "output_type": "stream",
     "text": [
      "case_00201: 3D image shape (128, 232, 232)\n",
      "case_00201: 3D seg shape (128, 232, 232)\n"
     ]
    },
    {
     "name": "stderr",
     "output_type": "stream",
     "text": [
      " 41%|████████████████████████████████████████████████████████████▎                                                                                     | 202/489 [23:55<21:44,  4.55s/it]"
     ]
    },
    {
     "name": "stdout",
     "output_type": "stream",
     "text": [
      "case_00202: 3D image shape (128, 232, 232)\n",
      "case_00202: 3D seg shape (128, 232, 232)\n"
     ]
    },
    {
     "name": "stderr",
     "output_type": "stream",
     "text": [
      " 42%|████████████████████████████████████████████████████████████▌                                                                                     | 203/489 [24:06<31:33,  6.62s/it]"
     ]
    },
    {
     "name": "stdout",
     "output_type": "stream",
     "text": [
      "case_00203: 3D image shape (128, 232, 232)\n",
      "case_00203: 3D seg shape (128, 232, 232)\n"
     ]
    },
    {
     "name": "stderr",
     "output_type": "stream",
     "text": [
      " 42%|████████████████████████████████████████████████████████████▉                                                                                     | 204/489 [24:28<53:00, 11.16s/it]"
     ]
    },
    {
     "name": "stdout",
     "output_type": "stream",
     "text": [
      "case_00204: 3D image shape (128, 232, 232)\n",
      "case_00204: 3D seg shape (128, 232, 232)\n"
     ]
    },
    {
     "name": "stderr",
     "output_type": "stream",
     "text": [
      " 42%|█████████████████████████████████████████████████████████████▏                                                                                    | 205/489 [24:31<40:43,  8.60s/it]"
     ]
    },
    {
     "name": "stdout",
     "output_type": "stream",
     "text": [
      "case_00205: 3D image shape (128, 232, 232)\n",
      "case_00205: 3D seg shape (128, 232, 232)\n"
     ]
    },
    {
     "name": "stderr",
     "output_type": "stream",
     "text": [
      " 42%|█████████████████████████████████████████████████████████████▌                                                                                    | 206/489 [24:34<32:39,  6.92s/it]"
     ]
    },
    {
     "name": "stdout",
     "output_type": "stream",
     "text": [
      "case_00206: 3D image shape (128, 232, 232)\n",
      "case_00206: 3D seg shape (128, 232, 232)\n"
     ]
    },
    {
     "name": "stderr",
     "output_type": "stream",
     "text": [
      " 42%|█████████████████████████████████████████████████████████████▊                                                                                    | 207/489 [24:36<25:33,  5.44s/it]"
     ]
    },
    {
     "name": "stdout",
     "output_type": "stream",
     "text": [
      "case_00207: 3D image shape (128, 232, 232)\n",
      "case_00207: 3D seg shape (128, 232, 232)\n"
     ]
    },
    {
     "name": "stderr",
     "output_type": "stream",
     "text": [
      " 43%|██████████████████████████████████████████████████████████████                                                                                    | 208/489 [24:40<24:01,  5.13s/it]"
     ]
    },
    {
     "name": "stdout",
     "output_type": "stream",
     "text": [
      "case_00208: 3D image shape (128, 232, 232)\n",
      "case_00208: 3D seg shape (128, 232, 232)\n"
     ]
    },
    {
     "name": "stderr",
     "output_type": "stream",
     "text": [
      " 43%|██████████████████████████████████████████████████████████████▍                                                                                   | 209/489 [24:43<20:48,  4.46s/it]"
     ]
    },
    {
     "name": "stdout",
     "output_type": "stream",
     "text": [
      "case_00209: 3D image shape (128, 232, 232)\n",
      "case_00209: 3D seg shape (128, 232, 232)\n"
     ]
    },
    {
     "name": "stderr",
     "output_type": "stream",
     "text": [
      " 43%|██████████████████████████████████████████████████████████████▋                                                                                   | 210/489 [24:46<19:01,  4.09s/it]"
     ]
    },
    {
     "name": "stdout",
     "output_type": "stream",
     "text": [
      "case_00210: 3D image shape (128, 232, 232)\n",
      "case_00210: 3D seg shape (128, 232, 232)\n"
     ]
    },
    {
     "name": "stderr",
     "output_type": "stream",
     "text": [
      " 43%|██████████████████████████████████████████████████████████████▉                                                                                   | 211/489 [24:48<15:25,  3.33s/it]"
     ]
    },
    {
     "name": "stdout",
     "output_type": "stream",
     "text": [
      "case_00211: 3D image shape (128, 232, 232)\n",
      "case_00211: 3D seg shape (128, 232, 232)\n"
     ]
    },
    {
     "name": "stderr",
     "output_type": "stream",
     "text": [
      " 43%|███████████████████████████████████████████████████████████████▎                                                                                  | 212/489 [24:51<15:13,  3.30s/it]"
     ]
    },
    {
     "name": "stdout",
     "output_type": "stream",
     "text": [
      "case_00212: 3D image shape (128, 232, 232)\n",
      "case_00212: 3D seg shape (128, 232, 232)\n"
     ]
    },
    {
     "name": "stderr",
     "output_type": "stream",
     "text": [
      " 44%|███████████████████████████████████████████████████████████████▌                                                                                  | 213/489 [24:54<14:35,  3.17s/it]"
     ]
    },
    {
     "name": "stdout",
     "output_type": "stream",
     "text": [
      "case_00213: 3D image shape (128, 232, 232)\n",
      "case_00213: 3D seg shape (128, 232, 232)\n"
     ]
    },
    {
     "name": "stderr",
     "output_type": "stream",
     "text": [
      " 44%|███████████████████████████████████████████████████████████████▉                                                                                  | 214/489 [25:14<37:56,  8.28s/it]"
     ]
    },
    {
     "name": "stdout",
     "output_type": "stream",
     "text": [
      "case_00214: 3D image shape (128, 232, 232)\n",
      "case_00214: 3D seg shape (128, 232, 232)\n"
     ]
    },
    {
     "name": "stderr",
     "output_type": "stream",
     "text": [
      " 44%|████████████████████████████████████████████████████████████████▏                                                                                 | 215/489 [25:30<47:32, 10.41s/it]"
     ]
    },
    {
     "name": "stdout",
     "output_type": "stream",
     "text": [
      "case_00215: 3D image shape (128, 232, 232)\n",
      "case_00215: 3D seg shape (128, 232, 232)\n"
     ]
    },
    {
     "name": "stderr",
     "output_type": "stream",
     "text": [
      " 44%|████████████████████████████████████████████████████████████████▍                                                                                 | 216/489 [25:32<36:57,  8.12s/it]"
     ]
    },
    {
     "name": "stdout",
     "output_type": "stream",
     "text": [
      "case_00216: 3D image shape (128, 232, 232)\n",
      "case_00216: 3D seg shape (128, 232, 232)\n"
     ]
    },
    {
     "name": "stderr",
     "output_type": "stream",
     "text": [
      " 44%|████████████████████████████████████████████████████████████████▊                                                                                 | 217/489 [25:56<57:33, 12.70s/it]"
     ]
    },
    {
     "name": "stdout",
     "output_type": "stream",
     "text": [
      "case_00217: 3D image shape (128, 232, 232)\n",
      "case_00217: 3D seg shape (128, 232, 232)\n"
     ]
    },
    {
     "name": "stderr",
     "output_type": "stream",
     "text": [
      " 45%|█████████████████████████████████████████████████████████████████                                                                                 | 218/489 [26:00<46:13, 10.23s/it]"
     ]
    },
    {
     "name": "stdout",
     "output_type": "stream",
     "text": [
      "case_00218: 3D image shape (128, 232, 232)\n",
      "case_00218: 3D seg shape (128, 232, 232)\n"
     ]
    },
    {
     "name": "stderr",
     "output_type": "stream",
     "text": [
      " 45%|█████████████████████████████████████████████████████████████████▍                                                                                | 219/489 [26:05<39:04,  8.68s/it]"
     ]
    },
    {
     "name": "stdout",
     "output_type": "stream",
     "text": [
      "case_00219: 3D image shape (128, 232, 232)\n",
      "case_00219: 3D seg shape (128, 232, 232)\n"
     ]
    },
    {
     "name": "stderr",
     "output_type": "stream",
     "text": [
      " 45%|█████████████████████████████████████████████████████████████████▋                                                                                | 220/489 [26:11<34:24,  7.67s/it]"
     ]
    },
    {
     "name": "stdout",
     "output_type": "stream",
     "text": [
      "case_00220: 3D image shape (128, 232, 232)\n",
      "case_00220: 3D seg shape (128, 232, 232)\n"
     ]
    },
    {
     "name": "stderr",
     "output_type": "stream",
     "text": [
      " 45%|█████████████████████████████████████████████████████████████████▉                                                                                | 221/489 [26:16<31:23,  7.03s/it]"
     ]
    },
    {
     "name": "stdout",
     "output_type": "stream",
     "text": [
      "case_00221: 3D image shape (128, 232, 232)\n",
      "case_00221: 3D seg shape (128, 232, 232)\n"
     ]
    },
    {
     "name": "stderr",
     "output_type": "stream",
     "text": [
      " 45%|██████████████████████████████████████████████████████████████████▎                                                                               | 222/489 [26:20<27:38,  6.21s/it]"
     ]
    },
    {
     "name": "stdout",
     "output_type": "stream",
     "text": [
      "case_00222: 3D image shape (128, 232, 232)\n",
      "case_00222: 3D seg shape (128, 232, 232)\n"
     ]
    },
    {
     "name": "stderr",
     "output_type": "stream",
     "text": [
      " 46%|██████████████████████████████████████████████████████████████████▌                                                                               | 223/489 [26:23<23:06,  5.21s/it]"
     ]
    },
    {
     "name": "stdout",
     "output_type": "stream",
     "text": [
      "case_00223: 3D image shape (128, 232, 232)\n",
      "case_00223: 3D seg shape (128, 232, 232)\n"
     ]
    },
    {
     "name": "stderr",
     "output_type": "stream",
     "text": [
      " 46%|██████████████████████████████████████████████████████████████████▉                                                                               | 224/489 [26:37<34:36,  7.83s/it]"
     ]
    },
    {
     "name": "stdout",
     "output_type": "stream",
     "text": [
      "case_00224: 3D image shape (128, 232, 232)\n",
      "case_00224: 3D seg shape (128, 232, 232)\n"
     ]
    },
    {
     "name": "stderr",
     "output_type": "stream",
     "text": [
      " 46%|███████████████████████████████████████████████████████████████████▏                                                                              | 225/489 [26:40<28:24,  6.46s/it]"
     ]
    },
    {
     "name": "stdout",
     "output_type": "stream",
     "text": [
      "case_00225: 3D image shape (128, 232, 232)\n",
      "case_00225: 3D seg shape (128, 232, 232)\n"
     ]
    },
    {
     "name": "stderr",
     "output_type": "stream",
     "text": [
      " 46%|███████████████████████████████████████████████████████████████████▍                                                                              | 226/489 [26:44<24:17,  5.54s/it]"
     ]
    },
    {
     "name": "stdout",
     "output_type": "stream",
     "text": [
      "case_00226: 3D image shape (128, 232, 232)\n",
      "case_00226: 3D seg shape (128, 232, 232)\n"
     ]
    },
    {
     "name": "stderr",
     "output_type": "stream",
     "text": [
      " 46%|███████████████████████████████████████████████████████████████████▊                                                                              | 227/489 [26:49<24:01,  5.50s/it]"
     ]
    },
    {
     "name": "stdout",
     "output_type": "stream",
     "text": [
      "case_00227: 3D image shape (128, 232, 232)\n",
      "case_00227: 3D seg shape (128, 232, 232)\n"
     ]
    },
    {
     "name": "stderr",
     "output_type": "stream",
     "text": [
      " 47%|████████████████████████████████████████████████████████████████████                                                                              | 228/489 [26:54<22:48,  5.24s/it]"
     ]
    },
    {
     "name": "stdout",
     "output_type": "stream",
     "text": [
      "case_00228: 3D image shape (128, 232, 232)\n",
      "case_00228: 3D seg shape (128, 232, 232)\n"
     ]
    },
    {
     "name": "stderr",
     "output_type": "stream",
     "text": [
      " 47%|████████████████████████████████████████████████████████████████████▎                                                                             | 229/489 [26:57<19:52,  4.59s/it]"
     ]
    },
    {
     "name": "stdout",
     "output_type": "stream",
     "text": [
      "case_00229: 3D image shape (128, 232, 232)\n",
      "case_00229: 3D seg shape (128, 232, 232)\n"
     ]
    },
    {
     "name": "stderr",
     "output_type": "stream",
     "text": [
      " 47%|████████████████████████████████████████████████████████████████████▋                                                                             | 230/489 [27:06<25:10,  5.83s/it]"
     ]
    },
    {
     "name": "stdout",
     "output_type": "stream",
     "text": [
      "case_00230: 3D image shape (128, 232, 232)\n",
      "case_00230: 3D seg shape (128, 232, 232)\n"
     ]
    },
    {
     "name": "stderr",
     "output_type": "stream",
     "text": [
      " 47%|████████████████████████████████████████████████████████████████████▉                                                                             | 231/489 [27:09<21:24,  4.98s/it]"
     ]
    },
    {
     "name": "stdout",
     "output_type": "stream",
     "text": [
      "case_00231: 3D image shape (128, 232, 232)\n",
      "case_00231: 3D seg shape (128, 232, 232)\n"
     ]
    },
    {
     "name": "stderr",
     "output_type": "stream",
     "text": [
      " 47%|█████████████████████████████████████████████████████████████████████▎                                                                            | 232/489 [27:14<21:32,  5.03s/it]"
     ]
    },
    {
     "name": "stdout",
     "output_type": "stream",
     "text": [
      "case_00232: 3D image shape (128, 232, 232)\n",
      "case_00232: 3D seg shape (128, 232, 232)\n"
     ]
    },
    {
     "name": "stderr",
     "output_type": "stream",
     "text": [
      " 48%|█████████████████████████████████████████████████████████████████████▌                                                                            | 233/489 [27:17<19:01,  4.46s/it]"
     ]
    },
    {
     "name": "stdout",
     "output_type": "stream",
     "text": [
      "case_00233: 3D image shape (128, 232, 232)\n",
      "case_00233: 3D seg shape (128, 232, 232)\n"
     ]
    },
    {
     "name": "stderr",
     "output_type": "stream",
     "text": [
      " 48%|█████████████████████████████████████████████████████████████████████▊                                                                            | 234/489 [27:20<17:40,  4.16s/it]"
     ]
    },
    {
     "name": "stdout",
     "output_type": "stream",
     "text": [
      "case_00234: 3D image shape (128, 232, 232)\n",
      "case_00234: 3D seg shape (128, 232, 232)\n"
     ]
    },
    {
     "name": "stderr",
     "output_type": "stream",
     "text": [
      " 48%|██████████████████████████████████████████████████████████████████████▏                                                                           | 235/489 [27:25<18:37,  4.40s/it]"
     ]
    },
    {
     "name": "stdout",
     "output_type": "stream",
     "text": [
      "case_00235: 3D image shape (128, 232, 232)\n",
      "case_00235: 3D seg shape (128, 232, 232)\n"
     ]
    },
    {
     "name": "stderr",
     "output_type": "stream",
     "text": [
      " 48%|██████████████████████████████████████████████████████████████████████▍                                                                           | 236/489 [27:31<19:40,  4.66s/it]"
     ]
    },
    {
     "name": "stdout",
     "output_type": "stream",
     "text": [
      "case_00236: 3D image shape (128, 232, 232)\n",
      "case_00236: 3D seg shape (128, 232, 232)\n"
     ]
    },
    {
     "name": "stderr",
     "output_type": "stream",
     "text": [
      " 48%|██████████████████████████████████████████████████████████████████████▊                                                                           | 237/489 [27:33<17:05,  4.07s/it]"
     ]
    },
    {
     "name": "stdout",
     "output_type": "stream",
     "text": [
      "case_00237: 3D image shape (128, 232, 232)\n",
      "case_00237: 3D seg shape (128, 232, 232)\n"
     ]
    },
    {
     "name": "stderr",
     "output_type": "stream",
     "text": [
      " 49%|███████████████████████████████████████████████████████████████████████                                                                           | 238/489 [27:39<18:27,  4.41s/it]"
     ]
    },
    {
     "name": "stdout",
     "output_type": "stream",
     "text": [
      "case_00238: 3D image shape (128, 232, 232)\n",
      "case_00238: 3D seg shape (128, 232, 232)\n"
     ]
    },
    {
     "name": "stderr",
     "output_type": "stream",
     "text": [
      " 49%|███████████████████████████████████████████████████████████████████████▎                                                                          | 239/489 [27:42<17:04,  4.10s/it]"
     ]
    },
    {
     "name": "stdout",
     "output_type": "stream",
     "text": [
      "case_00239: 3D image shape (128, 232, 232)\n",
      "case_00239: 3D seg shape (128, 232, 232)\n"
     ]
    },
    {
     "name": "stderr",
     "output_type": "stream",
     "text": [
      " 49%|███████████████████████████████████████████████████████████████████████▋                                                                          | 240/489 [27:45<15:39,  3.77s/it]"
     ]
    },
    {
     "name": "stdout",
     "output_type": "stream",
     "text": [
      "case_00240: 3D image shape (128, 232, 232)\n",
      "case_00240: 3D seg shape (128, 232, 232)\n"
     ]
    },
    {
     "name": "stderr",
     "output_type": "stream",
     "text": [
      " 49%|███████████████████████████████████████████████████████████████████████▉                                                                          | 241/489 [27:51<18:05,  4.38s/it]"
     ]
    },
    {
     "name": "stdout",
     "output_type": "stream",
     "text": [
      "case_00241: 3D image shape (128, 232, 232)\n",
      "case_00241: 3D seg shape (128, 232, 232)\n"
     ]
    },
    {
     "name": "stderr",
     "output_type": "stream",
     "text": [
      " 49%|████████████████████████████████████████████████████████████████████████▎                                                                         | 242/489 [27:54<16:39,  4.05s/it]"
     ]
    },
    {
     "name": "stdout",
     "output_type": "stream",
     "text": [
      "case_00242: 3D image shape (128, 232, 232)\n",
      "case_00242: 3D seg shape (128, 232, 232)\n"
     ]
    },
    {
     "name": "stderr",
     "output_type": "stream",
     "text": [
      " 50%|████████████████████████████████████████████████████████████████████████▌                                                                         | 243/489 [27:57<15:05,  3.68s/it]"
     ]
    },
    {
     "name": "stdout",
     "output_type": "stream",
     "text": [
      "case_00243: 3D image shape (128, 232, 232)\n",
      "case_00243: 3D seg shape (128, 232, 232)\n"
     ]
    },
    {
     "name": "stderr",
     "output_type": "stream",
     "text": [
      " 50%|████████████████████████████████████████████████████████████████████████▊                                                                         | 244/489 [28:00<14:13,  3.48s/it]"
     ]
    },
    {
     "name": "stdout",
     "output_type": "stream",
     "text": [
      "case_00244: 3D image shape (128, 232, 232)\n",
      "case_00244: 3D seg shape (128, 232, 232)\n"
     ]
    },
    {
     "name": "stderr",
     "output_type": "stream",
     "text": [
      " 50%|█████████████████████████████████████████████████████████████████████████▏                                                                        | 245/489 [28:03<13:12,  3.25s/it]"
     ]
    },
    {
     "name": "stdout",
     "output_type": "stream",
     "text": [
      "case_00245: 3D image shape (128, 232, 232)\n",
      "case_00245: 3D seg shape (128, 232, 232)\n"
     ]
    },
    {
     "name": "stderr",
     "output_type": "stream",
     "text": [
      " 50%|█████████████████████████████████████████████████████████████████████████▍                                                                        | 246/489 [28:07<14:50,  3.67s/it]"
     ]
    },
    {
     "name": "stdout",
     "output_type": "stream",
     "text": [
      "case_00246: 3D image shape (128, 232, 232)\n",
      "case_00246: 3D seg shape (128, 232, 232)\n"
     ]
    },
    {
     "name": "stderr",
     "output_type": "stream",
     "text": [
      " 51%|█████████████████████████████████████████████████████████████████████████▋                                                                        | 247/489 [28:26<33:38,  8.34s/it]"
     ]
    },
    {
     "name": "stdout",
     "output_type": "stream",
     "text": [
      "case_00247: 3D image shape (128, 232, 232)\n",
      "case_00247: 3D seg shape (128, 232, 232)\n"
     ]
    },
    {
     "name": "stderr",
     "output_type": "stream",
     "text": [
      " 51%|██████████████████████████████████████████████████████████████████████████                                                                        | 248/489 [28:35<34:12,  8.52s/it]"
     ]
    },
    {
     "name": "stdout",
     "output_type": "stream",
     "text": [
      "case_00248: 3D image shape (128, 232, 232)\n",
      "case_00248: 3D seg shape (128, 232, 232)\n"
     ]
    },
    {
     "name": "stderr",
     "output_type": "stream",
     "text": [
      " 51%|██████████████████████████████████████████████████████████████████████████▎                                                                       | 249/489 [28:38<26:35,  6.65s/it]"
     ]
    },
    {
     "name": "stdout",
     "output_type": "stream",
     "text": [
      "case_00249: 3D image shape (128, 232, 232)\n",
      "case_00249: 3D seg shape (128, 232, 232)\n"
     ]
    },
    {
     "name": "stderr",
     "output_type": "stream",
     "text": [
      " 51%|██████████████████████████████████████████████████████████████████████████▋                                                                       | 250/489 [28:46<28:58,  7.27s/it]"
     ]
    },
    {
     "name": "stdout",
     "output_type": "stream",
     "text": [
      "case_00250: 3D image shape (128, 232, 232)\n",
      "case_00250: 3D seg shape (128, 232, 232)\n"
     ]
    },
    {
     "name": "stderr",
     "output_type": "stream",
     "text": [
      " 51%|██████████████████████████████████████████████████████████████████████████▉                                                                       | 251/489 [28:53<27:52,  7.03s/it]"
     ]
    },
    {
     "name": "stdout",
     "output_type": "stream",
     "text": [
      "case_00251: 3D image shape (128, 232, 232)\n",
      "case_00251: 3D seg shape (128, 232, 232)\n"
     ]
    },
    {
     "name": "stderr",
     "output_type": "stream",
     "text": [
      " 52%|███████████████████████████████████████████████████████████████████████████▏                                                                      | 252/489 [28:54<21:20,  5.40s/it]"
     ]
    },
    {
     "name": "stdout",
     "output_type": "stream",
     "text": [
      "case_00252: 3D image shape (128, 232, 232)\n",
      "case_00252: 3D seg shape (128, 232, 232)\n"
     ]
    },
    {
     "name": "stderr",
     "output_type": "stream",
     "text": [
      " 52%|███████████████████████████████████████████████████████████████████████████▌                                                                      | 253/489 [28:56<17:03,  4.34s/it]"
     ]
    },
    {
     "name": "stdout",
     "output_type": "stream",
     "text": [
      "case_00253: 3D image shape (128, 232, 232)\n",
      "case_00253: 3D seg shape (128, 232, 232)\n"
     ]
    },
    {
     "name": "stderr",
     "output_type": "stream",
     "text": [
      " 52%|███████████████████████████████████████████████████████████████████████████▊                                                                      | 254/489 [29:11<29:43,  7.59s/it]"
     ]
    },
    {
     "name": "stdout",
     "output_type": "stream",
     "text": [
      "case_00254: 3D image shape (128, 232, 232)\n",
      "case_00254: 3D seg shape (128, 232, 232)\n"
     ]
    },
    {
     "name": "stderr",
     "output_type": "stream",
     "text": [
      " 52%|████████████████████████████████████████████████████████████████████████████▏                                                                     | 255/489 [29:20<30:13,  7.75s/it]"
     ]
    },
    {
     "name": "stdout",
     "output_type": "stream",
     "text": [
      "case_00255: 3D image shape (128, 232, 232)\n",
      "case_00255: 3D seg shape (128, 232, 232)\n"
     ]
    },
    {
     "name": "stderr",
     "output_type": "stream",
     "text": [
      " 52%|████████████████████████████████████████████████████████████████████████████▍                                                                     | 256/489 [29:25<27:24,  7.06s/it]"
     ]
    },
    {
     "name": "stdout",
     "output_type": "stream",
     "text": [
      "case_00256: 3D image shape (128, 232, 232)\n",
      "case_00256: 3D seg shape (128, 232, 232)\n"
     ]
    },
    {
     "name": "stderr",
     "output_type": "stream",
     "text": [
      " 53%|█████████████████████████████████████████████████████████████████████████████                                                                     | 258/489 [29:29<16:49,  4.37s/it]"
     ]
    },
    {
     "name": "stdout",
     "output_type": "stream",
     "text": [
      "case_00257: 3D image shape (128, 232, 232)\n",
      "case_00257: 3D seg shape (128, 232, 232)\n",
      "case_00258: 3D image shape (128, 232, 232)\n",
      "case_00258: 3D seg shape (128, 232, 232)\n"
     ]
    },
    {
     "name": "stderr",
     "output_type": "stream",
     "text": [
      " 53%|█████████████████████████████████████████████████████████████████████████████▎                                                                    | 259/489 [29:32<15:35,  4.07s/it]"
     ]
    },
    {
     "name": "stdout",
     "output_type": "stream",
     "text": [
      "case_00259: 3D image shape (128, 232, 232)\n",
      "case_00259: 3D seg shape (128, 232, 232)\n"
     ]
    },
    {
     "name": "stderr",
     "output_type": "stream",
     "text": [
      " 53%|█████████████████████████████████████████████████████████████████████████████▋                                                                    | 260/489 [29:35<13:56,  3.65s/it]"
     ]
    },
    {
     "name": "stdout",
     "output_type": "stream",
     "text": [
      "case_00260: 3D image shape (128, 232, 232)\n",
      "case_00260: 3D seg shape (128, 232, 232)\n"
     ]
    },
    {
     "name": "stderr",
     "output_type": "stream",
     "text": [
      " 53%|█████████████████████████████████████████████████████████████████████████████▉                                                                    | 261/489 [29:37<11:51,  3.12s/it]"
     ]
    },
    {
     "name": "stdout",
     "output_type": "stream",
     "text": [
      "case_00261: 3D image shape (128, 232, 232)\n",
      "case_00261: 3D seg shape (128, 232, 232)\n"
     ]
    },
    {
     "name": "stderr",
     "output_type": "stream",
     "text": [
      " 54%|██████████████████████████████████████████████████████████████████████████████▏                                                                   | 262/489 [29:56<30:20,  8.02s/it]"
     ]
    },
    {
     "name": "stdout",
     "output_type": "stream",
     "text": [
      "case_00262: 3D image shape (128, 232, 232)\n",
      "case_00262: 3D seg shape (128, 232, 232)\n"
     ]
    },
    {
     "name": "stderr",
     "output_type": "stream",
     "text": [
      " 54%|██████████████████████████████████████████████████████████████████████████████▌                                                                   | 263/489 [29:58<23:34,  6.26s/it]"
     ]
    },
    {
     "name": "stdout",
     "output_type": "stream",
     "text": [
      "case_00263: 3D image shape (128, 232, 232)\n",
      "case_00263: 3D seg shape (128, 232, 232)\n"
     ]
    },
    {
     "name": "stderr",
     "output_type": "stream",
     "text": [
      " 54%|██████████████████████████████████████████████████████████████████████████████▊                                                                   | 264/489 [30:19<40:02, 10.68s/it]"
     ]
    },
    {
     "name": "stdout",
     "output_type": "stream",
     "text": [
      "case_00264: 3D image shape (128, 232, 232)\n",
      "case_00264: 3D seg shape (128, 232, 232)\n"
     ]
    },
    {
     "name": "stderr",
     "output_type": "stream",
     "text": [
      " 54%|███████████████████████████████████████████████████████████████████████████████                                                                   | 265/489 [30:34<44:13, 11.85s/it]"
     ]
    },
    {
     "name": "stdout",
     "output_type": "stream",
     "text": [
      "case_00265: 3D image shape (128, 232, 232)\n",
      "case_00265: 3D seg shape (128, 232, 232)\n"
     ]
    },
    {
     "name": "stderr",
     "output_type": "stream",
     "text": [
      " 54%|███████████████████████████████████████████████████████████████████████████████▍                                                                  | 266/489 [30:37<34:07,  9.18s/it]"
     ]
    },
    {
     "name": "stdout",
     "output_type": "stream",
     "text": [
      "case_00266: 3D image shape (128, 232, 232)\n",
      "case_00266: 3D seg shape (128, 232, 232)\n"
     ]
    },
    {
     "name": "stderr",
     "output_type": "stream",
     "text": [
      " 55%|███████████████████████████████████████████████████████████████████████████████▋                                                                  | 267/489 [30:40<26:54,  7.27s/it]"
     ]
    },
    {
     "name": "stdout",
     "output_type": "stream",
     "text": [
      "case_00267: 3D image shape (128, 232, 232)\n",
      "case_00267: 3D seg shape (128, 232, 232)\n"
     ]
    },
    {
     "name": "stderr",
     "output_type": "stream",
     "text": [
      " 55%|████████████████████████████████████████████████████████████████████████████████                                                                  | 268/489 [30:41<20:35,  5.59s/it]"
     ]
    },
    {
     "name": "stdout",
     "output_type": "stream",
     "text": [
      "case_00268: 3D image shape (128, 232, 232)\n",
      "case_00268: 3D seg shape (128, 232, 232)\n"
     ]
    },
    {
     "name": "stderr",
     "output_type": "stream",
     "text": [
      " 55%|████████████████████████████████████████████████████████████████████████████████▎                                                                 | 269/489 [30:47<20:16,  5.53s/it]"
     ]
    },
    {
     "name": "stdout",
     "output_type": "stream",
     "text": [
      "case_00269: 3D image shape (128, 232, 232)\n",
      "case_00269: 3D seg shape (128, 232, 232)\n"
     ]
    },
    {
     "name": "stderr",
     "output_type": "stream",
     "text": [
      " 55%|████████████████████████████████████████████████████████████████████████████████▌                                                                 | 270/489 [30:50<17:42,  4.85s/it]"
     ]
    },
    {
     "name": "stdout",
     "output_type": "stream",
     "text": [
      "case_00270: 3D image shape (128, 232, 232)\n",
      "case_00270: 3D seg shape (128, 232, 232)\n"
     ]
    },
    {
     "name": "stderr",
     "output_type": "stream",
     "text": [
      " 55%|████████████████████████████████████████████████████████████████████████████████▉                                                                 | 271/489 [30:53<15:37,  4.30s/it]"
     ]
    },
    {
     "name": "stdout",
     "output_type": "stream",
     "text": [
      "case_00271: 3D image shape (128, 232, 232)\n",
      "case_00271: 3D seg shape (128, 232, 232)\n"
     ]
    },
    {
     "name": "stderr",
     "output_type": "stream",
     "text": [
      " 56%|█████████████████████████████████████████████████████████████████████████████████▏                                                                | 272/489 [31:07<26:26,  7.31s/it]"
     ]
    },
    {
     "name": "stdout",
     "output_type": "stream",
     "text": [
      "case_00272: 3D image shape (128, 232, 232)\n",
      "case_00272: 3D seg shape (128, 232, 232)\n"
     ]
    },
    {
     "name": "stderr",
     "output_type": "stream",
     "text": [
      " 56%|█████████████████████████████████████████████████████████████████████████████████▌                                                                | 273/489 [31:28<41:01, 11.40s/it]"
     ]
    },
    {
     "name": "stdout",
     "output_type": "stream",
     "text": [
      "case_00273: 3D image shape (128, 232, 232)\n",
      "case_00273: 3D seg shape (128, 232, 232)\n"
     ]
    },
    {
     "name": "stderr",
     "output_type": "stream",
     "text": [
      " 56%|█████████████████████████████████████████████████████████████████████████████████▊                                                                | 274/489 [31:36<36:37, 10.22s/it]"
     ]
    },
    {
     "name": "stdout",
     "output_type": "stream",
     "text": [
      "case_00274: 3D image shape (128, 232, 232)\n",
      "case_00274: 3D seg shape (128, 232, 232)\n"
     ]
    },
    {
     "name": "stderr",
     "output_type": "stream",
     "text": [
      " 56%|██████████████████████████████████████████████████████████████████████████████████                                                                | 275/489 [31:40<29:39,  8.32s/it]"
     ]
    },
    {
     "name": "stdout",
     "output_type": "stream",
     "text": [
      "case_00275: 3D image shape (128, 232, 232)\n",
      "case_00275: 3D seg shape (128, 232, 232)\n"
     ]
    },
    {
     "name": "stderr",
     "output_type": "stream",
     "text": [
      " 56%|██████████████████████████████████████████████████████████████████████████████████▍                                                               | 276/489 [31:43<23:55,  6.74s/it]"
     ]
    },
    {
     "name": "stdout",
     "output_type": "stream",
     "text": [
      "case_00276: 3D image shape (128, 232, 232)\n",
      "case_00276: 3D seg shape (128, 232, 232)\n"
     ]
    },
    {
     "name": "stderr",
     "output_type": "stream",
     "text": [
      " 57%|██████████████████████████████████████████████████████████████████████████████████▋                                                               | 277/489 [32:06<40:53, 11.58s/it]"
     ]
    },
    {
     "name": "stdout",
     "output_type": "stream",
     "text": [
      "case_00277: 3D image shape (128, 232, 232)\n",
      "case_00277: 3D seg shape (128, 232, 232)\n"
     ]
    },
    {
     "name": "stderr",
     "output_type": "stream",
     "text": [
      " 57%|███████████████████████████████████████████████████████████████████████████████████                                                               | 278/489 [32:08<31:17,  8.90s/it]"
     ]
    },
    {
     "name": "stdout",
     "output_type": "stream",
     "text": [
      "case_00278: 3D image shape (128, 232, 232)\n",
      "case_00278: 3D seg shape (128, 232, 232)\n"
     ]
    },
    {
     "name": "stderr",
     "output_type": "stream",
     "text": [
      " 57%|███████████████████████████████████████████████████████████████████████████████████▌                                                              | 280/489 [32:15<20:57,  6.02s/it]"
     ]
    },
    {
     "name": "stdout",
     "output_type": "stream",
     "text": [
      "case_00279: 3D image shape (128, 232, 232)\n",
      "case_00279: 3D seg shape (128, 232, 232)\n",
      "case_00280: 3D image shape (128, 232, 232)\n",
      "case_00280: 3D seg shape (128, 232, 232)\n"
     ]
    },
    {
     "name": "stderr",
     "output_type": "stream",
     "text": [
      " 57%|███████████████████████████████████████████████████████████████████████████████████▉                                                              | 281/489 [32:18<17:23,  5.02s/it]"
     ]
    },
    {
     "name": "stdout",
     "output_type": "stream",
     "text": [
      "case_00281: 3D image shape (128, 232, 232)\n",
      "case_00281: 3D seg shape (128, 232, 232)\n"
     ]
    },
    {
     "name": "stderr",
     "output_type": "stream",
     "text": [
      " 58%|████████████████████████████████████████████████████████████████████████████████████▏                                                             | 282/489 [32:27<21:12,  6.15s/it]"
     ]
    },
    {
     "name": "stdout",
     "output_type": "stream",
     "text": [
      "case_00282: 3D image shape (128, 232, 232)\n",
      "case_00282: 3D seg shape (128, 232, 232)\n"
     ]
    },
    {
     "name": "stderr",
     "output_type": "stream",
     "text": [
      " 58%|████████████████████████████████████████████████████████████████████████████████████▍                                                             | 283/489 [32:30<18:01,  5.25s/it]"
     ]
    },
    {
     "name": "stdout",
     "output_type": "stream",
     "text": [
      "case_00283: 3D image shape (128, 232, 232)\n",
      "case_00283: 3D seg shape (128, 232, 232)\n"
     ]
    },
    {
     "name": "stderr",
     "output_type": "stream",
     "text": [
      " 58%|████████████████████████████████████████████████████████████████████████████████████▊                                                             | 284/489 [32:41<23:56,  7.00s/it]"
     ]
    },
    {
     "name": "stdout",
     "output_type": "stream",
     "text": [
      "case_00284: 3D image shape (128, 232, 232)\n",
      "case_00284: 3D seg shape (128, 232, 232)\n"
     ]
    },
    {
     "name": "stderr",
     "output_type": "stream",
     "text": [
      " 58%|█████████████████████████████████████████████████████████████████████████████████████▍                                                            | 286/489 [32:50<18:37,  5.51s/it]"
     ]
    },
    {
     "name": "stdout",
     "output_type": "stream",
     "text": [
      "case_00285: 3D image shape (128, 232, 232)\n",
      "case_00285: 3D seg shape (128, 232, 232)\n",
      "case_00286: 3D image shape (128, 232, 232)\n",
      "case_00286: 3D seg shape (128, 232, 232)\n"
     ]
    },
    {
     "name": "stderr",
     "output_type": "stream",
     "text": [
      " 59%|█████████████████████████████████████████████████████████████████████████████████████▋                                                            | 287/489 [32:54<16:34,  4.92s/it]"
     ]
    },
    {
     "name": "stdout",
     "output_type": "stream",
     "text": [
      "case_00287: 3D image shape (128, 232, 232)\n",
      "case_00287: 3D seg shape (128, 232, 232)\n"
     ]
    },
    {
     "name": "stderr",
     "output_type": "stream",
     "text": [
      " 59%|█████████████████████████████████████████████████████████████████████████████████████▉                                                            | 288/489 [32:56<13:24,  4.00s/it]"
     ]
    },
    {
     "name": "stdout",
     "output_type": "stream",
     "text": [
      "case_00288: 3D image shape (128, 232, 232)\n",
      "case_00288: 3D seg shape (128, 232, 232)\n"
     ]
    },
    {
     "name": "stderr",
     "output_type": "stream",
     "text": [
      " 59%|██████████████████████████████████████████████████████████████████████████████████████▎                                                           | 289/489 [33:05<18:23,  5.52s/it]"
     ]
    },
    {
     "name": "stdout",
     "output_type": "stream",
     "text": [
      "case_00289: 3D image shape (128, 232, 232)\n",
      "case_00289: 3D seg shape (128, 232, 232)\n"
     ]
    },
    {
     "name": "stderr",
     "output_type": "stream",
     "text": [
      " 59%|██████████████████████████████████████████████████████████████████████████████████████▌                                                           | 290/489 [33:08<15:50,  4.78s/it]"
     ]
    },
    {
     "name": "stdout",
     "output_type": "stream",
     "text": [
      "case_00290: 3D image shape (128, 232, 232)\n",
      "case_00290: 3D seg shape (128, 232, 232)\n"
     ]
    },
    {
     "name": "stderr",
     "output_type": "stream",
     "text": [
      " 60%|██████████████████████████████████████████████████████████████████████████████████████▉                                                           | 291/489 [33:31<33:41, 10.21s/it]"
     ]
    },
    {
     "name": "stdout",
     "output_type": "stream",
     "text": [
      "case_00291: 3D image shape (128, 232, 232)\n",
      "case_00291: 3D seg shape (128, 232, 232)\n"
     ]
    },
    {
     "name": "stderr",
     "output_type": "stream",
     "text": [
      " 60%|███████████████████████████████████████████████████████████████████████████████████████▏                                                          | 292/489 [33:35<27:42,  8.44s/it]"
     ]
    },
    {
     "name": "stdout",
     "output_type": "stream",
     "text": [
      "case_00292: 3D image shape (128, 232, 232)\n",
      "case_00292: 3D seg shape (128, 232, 232)\n"
     ]
    },
    {
     "name": "stderr",
     "output_type": "stream",
     "text": [
      " 60%|███████████████████████████████████████████████████████████████████████████████████████▍                                                          | 293/489 [33:38<22:20,  6.84s/it]"
     ]
    },
    {
     "name": "stdout",
     "output_type": "stream",
     "text": [
      "case_00293: 3D image shape (128, 232, 232)\n",
      "case_00293: 3D seg shape (128, 232, 232)\n"
     ]
    },
    {
     "name": "stderr",
     "output_type": "stream",
     "text": [
      " 60%|███████████████████████████████████████████████████████████████████████████████████████▊                                                          | 294/489 [33:57<33:53, 10.43s/it]"
     ]
    },
    {
     "name": "stdout",
     "output_type": "stream",
     "text": [
      "case_00294: 3D image shape (128, 232, 232)\n",
      "case_00294: 3D seg shape (128, 232, 232)\n"
     ]
    },
    {
     "name": "stderr",
     "output_type": "stream",
     "text": [
      " 60%|████████████████████████████████████████████████████████████████████████████████████████                                                          | 295/489 [34:18<44:28, 13.76s/it]"
     ]
    },
    {
     "name": "stdout",
     "output_type": "stream",
     "text": [
      "case_00295: 3D image shape (128, 232, 232)\n",
      "case_00295: 3D seg shape (128, 232, 232)\n"
     ]
    },
    {
     "name": "stderr",
     "output_type": "stream",
     "text": [
      " 61%|████████████████████████████████████████████████████████████████████████████████████████▋                                                         | 297/489 [34:40<37:02, 11.58s/it]"
     ]
    },
    {
     "name": "stdout",
     "output_type": "stream",
     "text": [
      "case_00296: 3D image shape (128, 232, 232)\n",
      "case_00296: 3D seg shape (128, 232, 232)\n",
      "case_00297: 3D image shape (128, 232, 232)\n",
      "case_00297: 3D seg shape (128, 232, 232)\n"
     ]
    },
    {
     "name": "stderr",
     "output_type": "stream",
     "text": [
      " 61%|████████████████████████████████████████████████████████████████████████████████████████▉                                                         | 298/489 [34:44<28:53,  9.07s/it]"
     ]
    },
    {
     "name": "stdout",
     "output_type": "stream",
     "text": [
      "case_00298: 3D image shape (128, 232, 232)\n",
      "case_00298: 3D seg shape (128, 232, 232)\n"
     ]
    },
    {
     "name": "stderr",
     "output_type": "stream",
     "text": [
      " 61%|█████████████████████████████████████████████████████████████████████████████████████████▎                                                        | 299/489 [35:04<39:25, 12.45s/it]"
     ]
    },
    {
     "name": "stdout",
     "output_type": "stream",
     "text": [
      "case_00299: 3D image shape (128, 232, 232)\n",
      "case_00299: 3D seg shape (128, 232, 232)\n"
     ]
    },
    {
     "name": "stderr",
     "output_type": "stream",
     "text": [
      " 61%|█████████████████████████████████████████████████████████████████████████████████████████▌                                                        | 300/489 [35:24<46:53, 14.88s/it]"
     ]
    },
    {
     "name": "stdout",
     "output_type": "stream",
     "text": [
      "case_00400: 3D image shape (128, 232, 232)\n",
      "case_00400: 3D seg shape (128, 232, 232)\n"
     ]
    },
    {
     "name": "stderr",
     "output_type": "stream",
     "text": [
      " 62%|█████████████████████████████████████████████████████████████████████████████████████████▊                                                        | 301/489 [35:28<36:12, 11.55s/it]"
     ]
    },
    {
     "name": "stdout",
     "output_type": "stream",
     "text": [
      "case_00401: 3D image shape (128, 232, 232)\n",
      "case_00401: 3D seg shape (128, 232, 232)\n"
     ]
    },
    {
     "name": "stderr",
     "output_type": "stream",
     "text": [
      " 62%|██████████████████████████████████████████████████████████████████████████████████████████▏                                                       | 302/489 [35:33<29:32,  9.48s/it]"
     ]
    },
    {
     "name": "stdout",
     "output_type": "stream",
     "text": [
      "case_00402: 3D image shape (128, 232, 232)\n",
      "case_00402: 3D seg shape (128, 232, 232)\n"
     ]
    },
    {
     "name": "stderr",
     "output_type": "stream",
     "text": [
      " 62%|██████████████████████████████████████████████████████████████████████████████████████████▍                                                       | 303/489 [35:35<22:11,  7.16s/it]"
     ]
    },
    {
     "name": "stdout",
     "output_type": "stream",
     "text": [
      "case_00403: 3D image shape (128, 232, 232)\n",
      "case_00403: 3D seg shape (128, 232, 232)\n"
     ]
    },
    {
     "name": "stderr",
     "output_type": "stream",
     "text": [
      " 62%|██████████████████████████████████████████████████████████████████████████████████████████▊                                                       | 304/489 [35:37<17:17,  5.61s/it]"
     ]
    },
    {
     "name": "stdout",
     "output_type": "stream",
     "text": [
      "case_00404: 3D image shape (128, 232, 232)\n",
      "case_00404: 3D seg shape (128, 232, 232)\n"
     ]
    },
    {
     "name": "stderr",
     "output_type": "stream",
     "text": [
      " 62%|███████████████████████████████████████████████████████████████████████████████████████████                                                       | 305/489 [35:41<15:56,  5.20s/it]"
     ]
    },
    {
     "name": "stdout",
     "output_type": "stream",
     "text": [
      "case_00405: 3D image shape (128, 232, 232)\n",
      "case_00405: 3D seg shape (128, 232, 232)\n"
     ]
    },
    {
     "name": "stderr",
     "output_type": "stream",
     "text": [
      " 63%|███████████████████████████████████████████████████████████████████████████████████████████▎                                                      | 306/489 [35:44<14:03,  4.61s/it]"
     ]
    },
    {
     "name": "stdout",
     "output_type": "stream",
     "text": [
      "case_00406: 3D image shape (128, 232, 232)\n",
      "case_00406: 3D seg shape (128, 232, 232)\n"
     ]
    },
    {
     "name": "stderr",
     "output_type": "stream",
     "text": [
      " 63%|███████████████████████████████████████████████████████████████████████████████████████████▋                                                      | 307/489 [35:47<12:25,  4.10s/it]"
     ]
    },
    {
     "name": "stdout",
     "output_type": "stream",
     "text": [
      "case_00407: 3D image shape (128, 232, 232)\n",
      "case_00407: 3D seg shape (128, 232, 232)\n"
     ]
    },
    {
     "name": "stderr",
     "output_type": "stream",
     "text": [
      " 63%|███████████████████████████████████████████████████████████████████████████████████████████▉                                                      | 308/489 [35:50<11:28,  3.80s/it]"
     ]
    },
    {
     "name": "stdout",
     "output_type": "stream",
     "text": [
      "case_00408: 3D image shape (128, 232, 232)\n",
      "case_00408: 3D seg shape (128, 232, 232)\n"
     ]
    },
    {
     "name": "stderr",
     "output_type": "stream",
     "text": [
      " 63%|████████████████████████████████████████████████████████████████████████████████████████████▎                                                     | 309/489 [35:53<10:43,  3.58s/it]"
     ]
    },
    {
     "name": "stdout",
     "output_type": "stream",
     "text": [
      "case_00409: 3D image shape (128, 232, 232)\n",
      "case_00409: 3D seg shape (128, 232, 232)\n"
     ]
    },
    {
     "name": "stderr",
     "output_type": "stream",
     "text": [
      " 63%|████████████████████████████████████████████████████████████████████████████████████████████▌                                                     | 310/489 [35:57<10:46,  3.61s/it]"
     ]
    },
    {
     "name": "stdout",
     "output_type": "stream",
     "text": [
      "case_00410: 3D image shape (128, 232, 232)\n",
      "case_00410: 3D seg shape (128, 232, 232)\n"
     ]
    },
    {
     "name": "stderr",
     "output_type": "stream",
     "text": [
      " 64%|████████████████████████████████████████████████████████████████████████████████████████████▊                                                     | 311/489 [36:00<10:12,  3.44s/it]"
     ]
    },
    {
     "name": "stdout",
     "output_type": "stream",
     "text": [
      "case_00411: 3D image shape (128, 232, 232)\n",
      "case_00411: 3D seg shape (128, 232, 232)\n"
     ]
    },
    {
     "name": "stderr",
     "output_type": "stream",
     "text": [
      " 64%|█████████████████████████████████████████████████████████████████████████████████████████████▏                                                    | 312/489 [36:03<09:53,  3.35s/it]"
     ]
    },
    {
     "name": "stdout",
     "output_type": "stream",
     "text": [
      "case_00412: 3D image shape (128, 232, 232)\n",
      "case_00412: 3D seg shape (128, 232, 232)\n"
     ]
    },
    {
     "name": "stderr",
     "output_type": "stream",
     "text": [
      " 64%|█████████████████████████████████████████████████████████████████████████████████████████████▍                                                    | 313/489 [36:18<20:15,  6.91s/it]"
     ]
    },
    {
     "name": "stdout",
     "output_type": "stream",
     "text": [
      "case_00413: 3D image shape (128, 232, 232)\n",
      "case_00413: 3D seg shape (128, 232, 232)\n"
     ]
    },
    {
     "name": "stderr",
     "output_type": "stream",
     "text": [
      " 64%|█████████████████████████████████████████████████████████████████████████████████████████████▊                                                    | 314/489 [36:22<17:08,  5.88s/it]"
     ]
    },
    {
     "name": "stdout",
     "output_type": "stream",
     "text": [
      "case_00414: 3D image shape (128, 232, 232)\n",
      "case_00414: 3D seg shape (128, 232, 232)\n"
     ]
    },
    {
     "name": "stderr",
     "output_type": "stream",
     "text": [
      " 64%|██████████████████████████████████████████████████████████████████████████████████████████████                                                    | 315/489 [36:25<14:53,  5.14s/it]"
     ]
    },
    {
     "name": "stdout",
     "output_type": "stream",
     "text": [
      "case_00415: 3D image shape (128, 232, 232)\n",
      "case_00415: 3D seg shape (128, 232, 232)\n"
     ]
    },
    {
     "name": "stderr",
     "output_type": "stream",
     "text": [
      " 65%|██████████████████████████████████████████████████████████████████████████████████████████████▎                                                   | 316/489 [36:30<15:01,  5.21s/it]"
     ]
    },
    {
     "name": "stdout",
     "output_type": "stream",
     "text": [
      "case_00416: 3D image shape (128, 232, 232)\n",
      "case_00416: 3D seg shape (128, 232, 232)\n"
     ]
    },
    {
     "name": "stderr",
     "output_type": "stream",
     "text": [
      " 65%|██████████████████████████████████████████████████████████████████████████████████████████████▋                                                   | 317/489 [36:32<12:09,  4.24s/it]"
     ]
    },
    {
     "name": "stdout",
     "output_type": "stream",
     "text": [
      "case_00417: 3D image shape (128, 232, 232)\n",
      "case_00417: 3D seg shape (128, 232, 232)\n"
     ]
    },
    {
     "name": "stderr",
     "output_type": "stream",
     "text": [
      " 65%|██████████████████████████████████████████████████████████████████████████████████████████████▉                                                   | 318/489 [36:37<12:41,  4.45s/it]"
     ]
    },
    {
     "name": "stdout",
     "output_type": "stream",
     "text": [
      "case_00418: 3D image shape (128, 232, 232)\n",
      "case_00418: 3D seg shape (128, 232, 232)\n"
     ]
    },
    {
     "name": "stderr",
     "output_type": "stream",
     "text": [
      " 65%|███████████████████████████████████████████████████████████████████████████████████████████████▏                                                  | 319/489 [36:39<10:29,  3.70s/it]"
     ]
    },
    {
     "name": "stdout",
     "output_type": "stream",
     "text": [
      "case_00419: 3D image shape (128, 232, 232)\n",
      "case_00419: 3D seg shape (128, 232, 232)\n"
     ]
    },
    {
     "name": "stderr",
     "output_type": "stream",
     "text": [
      " 65%|███████████████████████████████████████████████████████████████████████████████████████████████▌                                                  | 320/489 [36:43<10:25,  3.70s/it]"
     ]
    },
    {
     "name": "stdout",
     "output_type": "stream",
     "text": [
      "case_00420: 3D image shape (128, 232, 232)\n",
      "case_00420: 3D seg shape (128, 232, 232)\n"
     ]
    },
    {
     "name": "stderr",
     "output_type": "stream",
     "text": [
      " 66%|███████████████████████████████████████████████████████████████████████████████████████████████▊                                                  | 321/489 [36:46<09:58,  3.56s/it]"
     ]
    },
    {
     "name": "stdout",
     "output_type": "stream",
     "text": [
      "case_00421: 3D image shape (128, 232, 232)\n",
      "case_00421: 3D seg shape (128, 232, 232)\n"
     ]
    },
    {
     "name": "stderr",
     "output_type": "stream",
     "text": [
      " 66%|████████████████████████████████████████████████████████████████████████████████████████████████▏                                                 | 322/489 [36:50<10:20,  3.72s/it]"
     ]
    },
    {
     "name": "stdout",
     "output_type": "stream",
     "text": [
      "case_00422: 3D image shape (128, 232, 232)\n",
      "case_00422: 3D seg shape (128, 232, 232)\n"
     ]
    },
    {
     "name": "stderr",
     "output_type": "stream",
     "text": [
      " 66%|████████████████████████████████████████████████████████████████████████████████████████████████▍                                                 | 323/489 [36:52<08:28,  3.06s/it]"
     ]
    },
    {
     "name": "stdout",
     "output_type": "stream",
     "text": [
      "case_00423: 3D image shape (128, 232, 232)\n",
      "case_00423: 3D seg shape (128, 232, 232)\n"
     ]
    },
    {
     "name": "stderr",
     "output_type": "stream",
     "text": [
      " 66%|████████████████████████████████████████████████████████████████████████████████████████████████▋                                                 | 324/489 [36:54<07:21,  2.68s/it]"
     ]
    },
    {
     "name": "stdout",
     "output_type": "stream",
     "text": [
      "case_00424: 3D image shape (128, 232, 232)\n",
      "case_00424: 3D seg shape (128, 232, 232)\n"
     ]
    },
    {
     "name": "stderr",
     "output_type": "stream",
     "text": [
      " 67%|█████████████████████████████████████████████████████████████████████████████████████████████████▎                                                | 326/489 [36:59<06:50,  2.52s/it]"
     ]
    },
    {
     "name": "stdout",
     "output_type": "stream",
     "text": [
      "case_00425: 3D image shape (128, 232, 232)\n",
      "case_00425: 3D seg shape (128, 232, 232)\n",
      "case_00426: 3D image shape (128, 232, 232)\n",
      "case_00426: 3D seg shape (128, 232, 232)\n"
     ]
    },
    {
     "name": "stderr",
     "output_type": "stream",
     "text": [
      " 67%|█████████████████████████████████████████████████████████████████████████████████████████████████▋                                                | 327/489 [37:02<07:38,  2.83s/it]"
     ]
    },
    {
     "name": "stdout",
     "output_type": "stream",
     "text": [
      "case_00427: 3D image shape (128, 232, 232)\n",
      "case_00427: 3D seg shape (128, 232, 232)\n"
     ]
    },
    {
     "name": "stderr",
     "output_type": "stream",
     "text": [
      " 67%|█████████████████████████████████████████████████████████████████████████████████████████████████▉                                                | 328/489 [37:04<06:49,  2.55s/it]"
     ]
    },
    {
     "name": "stdout",
     "output_type": "stream",
     "text": [
      "case_00428: 3D image shape (128, 232, 232)\n",
      "case_00428: 3D seg shape (128, 232, 232)\n"
     ]
    },
    {
     "name": "stderr",
     "output_type": "stream",
     "text": [
      " 67%|██████████████████████████████████████████████████████████████████████████████████████████████████▏                                               | 329/489 [37:07<07:24,  2.78s/it]"
     ]
    },
    {
     "name": "stdout",
     "output_type": "stream",
     "text": [
      "case_00429: 3D image shape (128, 232, 232)\n",
      "case_00429: 3D seg shape (128, 232, 232)\n"
     ]
    },
    {
     "name": "stderr",
     "output_type": "stream",
     "text": [
      " 67%|██████████████████████████████████████████████████████████████████████████████████████████████████▌                                               | 330/489 [37:11<08:03,  3.04s/it]"
     ]
    },
    {
     "name": "stdout",
     "output_type": "stream",
     "text": [
      "case_00430: 3D image shape (128, 232, 232)\n",
      "case_00430: 3D seg shape (128, 232, 232)\n"
     ]
    },
    {
     "name": "stderr",
     "output_type": "stream",
     "text": [
      " 68%|██████████████████████████████████████████████████████████████████████████████████████████████████▊                                               | 331/489 [37:13<07:31,  2.86s/it]"
     ]
    },
    {
     "name": "stdout",
     "output_type": "stream",
     "text": [
      "case_00431: 3D image shape (128, 232, 232)\n",
      "case_00431: 3D seg shape (128, 232, 232)\n"
     ]
    },
    {
     "name": "stderr",
     "output_type": "stream",
     "text": [
      " 68%|███████████████████████████████████████████████████████████████████████████████████████████████████                                               | 332/489 [37:18<08:56,  3.42s/it]"
     ]
    },
    {
     "name": "stdout",
     "output_type": "stream",
     "text": [
      "case_00432: 3D image shape (128, 232, 232)\n",
      "case_00432: 3D seg shape (128, 232, 232)\n"
     ]
    },
    {
     "name": "stderr",
     "output_type": "stream",
     "text": [
      " 68%|███████████████████████████████████████████████████████████████████████████████████████████████████▍                                              | 333/489 [37:24<10:46,  4.14s/it]"
     ]
    },
    {
     "name": "stdout",
     "output_type": "stream",
     "text": [
      "case_00433: 3D image shape (128, 232, 232)\n",
      "case_00433: 3D seg shape (128, 232, 232)\n"
     ]
    },
    {
     "name": "stderr",
     "output_type": "stream",
     "text": [
      " 68%|███████████████████████████████████████████████████████████████████████████████████████████████████▋                                              | 334/489 [37:28<10:33,  4.08s/it]"
     ]
    },
    {
     "name": "stdout",
     "output_type": "stream",
     "text": [
      "case_00434: 3D image shape (128, 232, 232)\n",
      "case_00434: 3D seg shape (128, 232, 232)\n"
     ]
    },
    {
     "name": "stderr",
     "output_type": "stream",
     "text": [
      " 69%|████████████████████████████████████████████████████████████████████████████████████████████████████                                              | 335/489 [37:30<08:52,  3.46s/it]"
     ]
    },
    {
     "name": "stdout",
     "output_type": "stream",
     "text": [
      "case_00435: 3D image shape (128, 232, 232)\n",
      "case_00435: 3D seg shape (128, 232, 232)\n"
     ]
    },
    {
     "name": "stderr",
     "output_type": "stream",
     "text": [
      " 69%|████████████████████████████████████████████████████████████████████████████████████████████████████▎                                             | 336/489 [37:32<07:38,  3.00s/it]"
     ]
    },
    {
     "name": "stdout",
     "output_type": "stream",
     "text": [
      "case_00436: 3D image shape (128, 232, 232)\n",
      "case_00436: 3D seg shape (128, 232, 232)\n"
     ]
    },
    {
     "name": "stderr",
     "output_type": "stream",
     "text": [
      " 69%|████████████████████████████████████████████████████████████████████████████████████████████████████▌                                             | 337/489 [37:34<06:45,  2.67s/it]"
     ]
    },
    {
     "name": "stdout",
     "output_type": "stream",
     "text": [
      "case_00437: 3D image shape (128, 232, 232)\n",
      "case_00437: 3D seg shape (128, 232, 232)\n"
     ]
    },
    {
     "name": "stderr",
     "output_type": "stream",
     "text": [
      " 69%|████████████████████████████████████████████████████████████████████████████████████████████████████▉                                             | 338/489 [37:39<08:44,  3.47s/it]"
     ]
    },
    {
     "name": "stdout",
     "output_type": "stream",
     "text": [
      "case_00438: 3D image shape (128, 232, 232)\n",
      "case_00438: 3D seg shape (128, 232, 232)\n"
     ]
    },
    {
     "name": "stderr",
     "output_type": "stream",
     "text": [
      " 69%|█████████████████████████████████████████████████████████████████████████████████████████████████████▏                                            | 339/489 [37:43<08:50,  3.54s/it]"
     ]
    },
    {
     "name": "stdout",
     "output_type": "stream",
     "text": [
      "case_00439: 3D image shape (128, 232, 232)\n",
      "case_00439: 3D seg shape (128, 232, 232)\n"
     ]
    },
    {
     "name": "stderr",
     "output_type": "stream",
     "text": [
      " 70%|█████████████████████████████████████████████████████████████████████████████████████████████████████▌                                            | 340/489 [37:46<08:08,  3.28s/it]"
     ]
    },
    {
     "name": "stdout",
     "output_type": "stream",
     "text": [
      "case_00440: 3D image shape (128, 232, 232)\n",
      "case_00440: 3D seg shape (128, 232, 232)\n"
     ]
    },
    {
     "name": "stderr",
     "output_type": "stream",
     "text": [
      " 70%|█████████████████████████████████████████████████████████████████████████████████████████████████████▊                                            | 341/489 [37:47<07:03,  2.86s/it]"
     ]
    },
    {
     "name": "stdout",
     "output_type": "stream",
     "text": [
      "case_00441: 3D image shape (128, 232, 232)\n",
      "case_00441: 3D seg shape (128, 232, 232)\n"
     ]
    },
    {
     "name": "stderr",
     "output_type": "stream",
     "text": [
      " 70%|██████████████████████████████████████████████████████████████████████████████████████████████████████                                            | 342/489 [37:49<06:20,  2.59s/it]"
     ]
    },
    {
     "name": "stdout",
     "output_type": "stream",
     "text": [
      "case_00442: 3D image shape (128, 232, 232)\n",
      "case_00442: 3D seg shape (128, 232, 232)\n"
     ]
    },
    {
     "name": "stderr",
     "output_type": "stream",
     "text": [
      " 70%|██████████████████████████████████████████████████████████████████████████████████████████████████████▍                                           | 343/489 [38:24<30:00, 12.33s/it]"
     ]
    },
    {
     "name": "stdout",
     "output_type": "stream",
     "text": [
      "case_00443: 3D image shape (128, 232, 232)\n",
      "case_00443: 3D seg shape (128, 232, 232)\n"
     ]
    },
    {
     "name": "stderr",
     "output_type": "stream",
     "text": [
      " 70%|██████████████████████████████████████████████████████████████████████████████████████████████████████▋                                           | 344/489 [38:27<22:46,  9.42s/it]"
     ]
    },
    {
     "name": "stdout",
     "output_type": "stream",
     "text": [
      "case_00444: 3D image shape (128, 232, 232)\n",
      "case_00444: 3D seg shape (128, 232, 232)\n"
     ]
    },
    {
     "name": "stderr",
     "output_type": "stream",
     "text": [
      " 71%|███████████████████████████████████████████████████████████████████████████████████████████████████████                                           | 345/489 [38:31<18:42,  7.79s/it]"
     ]
    },
    {
     "name": "stdout",
     "output_type": "stream",
     "text": [
      "case_00445: 3D image shape (128, 232, 232)\n",
      "case_00445: 3D seg shape (128, 232, 232)\n"
     ]
    },
    {
     "name": "stderr",
     "output_type": "stream",
     "text": [
      " 71%|███████████████████████████████████████████████████████████████████████████████████████████████████████▎                                          | 346/489 [38:35<15:40,  6.57s/it]"
     ]
    },
    {
     "name": "stdout",
     "output_type": "stream",
     "text": [
      "case_00446: 3D image shape (128, 232, 232)\n",
      "case_00446: 3D seg shape (128, 232, 232)\n"
     ]
    },
    {
     "name": "stderr",
     "output_type": "stream",
     "text": [
      " 71%|███████████████████████████████████████████████████████████████████████████████████████████████████████▌                                          | 347/489 [38:38<13:24,  5.66s/it]"
     ]
    },
    {
     "name": "stdout",
     "output_type": "stream",
     "text": [
      "case_00447: 3D image shape (128, 232, 232)\n",
      "case_00447: 3D seg shape (128, 232, 232)\n"
     ]
    },
    {
     "name": "stderr",
     "output_type": "stream",
     "text": [
      " 71%|███████████████████████████████████████████████████████████████████████████████████████████████████████▉                                          | 348/489 [38:45<13:53,  5.91s/it]"
     ]
    },
    {
     "name": "stdout",
     "output_type": "stream",
     "text": [
      "case_00448: 3D image shape (128, 232, 232)\n",
      "case_00448: 3D seg shape (128, 232, 232)\n"
     ]
    },
    {
     "name": "stderr",
     "output_type": "stream",
     "text": [
      " 71%|████████████████████████████████████████████████████████████████████████████████████████████████████████▏                                         | 349/489 [38:53<15:27,  6.62s/it]"
     ]
    },
    {
     "name": "stdout",
     "output_type": "stream",
     "text": [
      "case_00449: 3D image shape (128, 232, 232)\n",
      "case_00449: 3D seg shape (128, 232, 232)\n"
     ]
    },
    {
     "name": "stderr",
     "output_type": "stream",
     "text": [
      " 72%|████████████████████████████████████████████████████████████████████████████████████████████████████████▍                                         | 350/489 [38:58<13:49,  5.97s/it]"
     ]
    },
    {
     "name": "stdout",
     "output_type": "stream",
     "text": [
      "case_00450: 3D image shape (128, 232, 232)\n",
      "case_00450: 3D seg shape (128, 232, 232)\n"
     ]
    },
    {
     "name": "stderr",
     "output_type": "stream",
     "text": [
      " 72%|████████████████████████████████████████████████████████████████████████████████████████████████████████▊                                         | 351/489 [39:01<12:00,  5.22s/it]"
     ]
    },
    {
     "name": "stdout",
     "output_type": "stream",
     "text": [
      "case_00451: 3D image shape (128, 232, 232)\n",
      "case_00451: 3D seg shape (128, 232, 232)\n"
     ]
    },
    {
     "name": "stderr",
     "output_type": "stream",
     "text": [
      " 72%|█████████████████████████████████████████████████████████████████████████████████████████████████████████                                         | 352/489 [39:06<11:36,  5.08s/it]"
     ]
    },
    {
     "name": "stdout",
     "output_type": "stream",
     "text": [
      "case_00452: 3D image shape (128, 232, 232)\n",
      "case_00452: 3D seg shape (128, 232, 232)\n"
     ]
    },
    {
     "name": "stderr",
     "output_type": "stream",
     "text": [
      " 72%|█████████████████████████████████████████████████████████████████████████████████████████████████████████▍                                        | 353/489 [39:08<09:28,  4.18s/it]"
     ]
    },
    {
     "name": "stdout",
     "output_type": "stream",
     "text": [
      "case_00453: 3D image shape (128, 232, 232)\n",
      "case_00453: 3D seg shape (128, 232, 232)\n"
     ]
    },
    {
     "name": "stderr",
     "output_type": "stream",
     "text": [
      " 72%|█████████████████████████████████████████████████████████████████████████████████████████████████████████▋                                        | 354/489 [39:12<09:31,  4.23s/it]"
     ]
    },
    {
     "name": "stdout",
     "output_type": "stream",
     "text": [
      "case_00454: 3D image shape (128, 232, 232)\n",
      "case_00454: 3D seg shape (128, 232, 232)\n"
     ]
    },
    {
     "name": "stderr",
     "output_type": "stream",
     "text": [
      " 73%|█████████████████████████████████████████████████████████████████████████████████████████████████████████▉                                        | 355/489 [39:15<08:29,  3.80s/it]"
     ]
    },
    {
     "name": "stdout",
     "output_type": "stream",
     "text": [
      "case_00455: 3D image shape (128, 232, 232)\n",
      "case_00455: 3D seg shape (128, 232, 232)\n"
     ]
    },
    {
     "name": "stderr",
     "output_type": "stream",
     "text": [
      " 73%|██████████████████████████████████████████████████████████████████████████████████████████████████████████▎                                       | 356/489 [39:21<09:37,  4.34s/it]"
     ]
    },
    {
     "name": "stdout",
     "output_type": "stream",
     "text": [
      "case_00456: 3D image shape (128, 232, 232)\n",
      "case_00456: 3D seg shape (128, 232, 232)\n"
     ]
    },
    {
     "name": "stderr",
     "output_type": "stream",
     "text": [
      " 73%|██████████████████████████████████████████████████████████████████████████████████████████████████████████▌                                       | 357/489 [39:24<08:59,  4.09s/it]"
     ]
    },
    {
     "name": "stdout",
     "output_type": "stream",
     "text": [
      "case_00457: 3D image shape (128, 232, 232)\n",
      "case_00457: 3D seg shape (128, 232, 232)\n"
     ]
    },
    {
     "name": "stderr",
     "output_type": "stream",
     "text": [
      " 73%|██████████████████████████████████████████████████████████████████████████████████████████████████████████▉                                       | 358/489 [39:29<09:29,  4.35s/it]"
     ]
    },
    {
     "name": "stdout",
     "output_type": "stream",
     "text": [
      "case_00458: 3D image shape (128, 232, 232)\n",
      "case_00458: 3D seg shape (128, 232, 232)\n"
     ]
    },
    {
     "name": "stderr",
     "output_type": "stream",
     "text": [
      " 73%|███████████████████████████████████████████████████████████████████████████████████████████████████████████▏                                      | 359/489 [39:32<08:44,  4.03s/it]"
     ]
    },
    {
     "name": "stdout",
     "output_type": "stream",
     "text": [
      "case_00459: 3D image shape (128, 232, 232)\n",
      "case_00459: 3D seg shape (128, 232, 232)\n"
     ]
    },
    {
     "name": "stderr",
     "output_type": "stream",
     "text": [
      " 74%|███████████████████████████████████████████████████████████████████████████████████████████████████████████▍                                      | 360/489 [39:34<07:27,  3.47s/it]"
     ]
    },
    {
     "name": "stdout",
     "output_type": "stream",
     "text": [
      "case_00460: 3D image shape (128, 232, 232)\n",
      "case_00460: 3D seg shape (128, 232, 232)\n"
     ]
    },
    {
     "name": "stderr",
     "output_type": "stream",
     "text": [
      " 74%|███████████████████████████████████████████████████████████████████████████████████████████████████████████▊                                      | 361/489 [39:38<07:12,  3.38s/it]"
     ]
    },
    {
     "name": "stdout",
     "output_type": "stream",
     "text": [
      "case_00461: 3D image shape (128, 232, 232)\n",
      "case_00461: 3D seg shape (128, 232, 232)\n"
     ]
    },
    {
     "name": "stderr",
     "output_type": "stream",
     "text": [
      " 74%|████████████████████████████████████████████████████████████████████████████████████████████████████████████                                      | 362/489 [39:43<08:22,  3.95s/it]"
     ]
    },
    {
     "name": "stdout",
     "output_type": "stream",
     "text": [
      "case_00462: 3D image shape (128, 232, 232)\n",
      "case_00462: 3D seg shape (128, 232, 232)\n"
     ]
    },
    {
     "name": "stderr",
     "output_type": "stream",
     "text": [
      " 74%|████████████████████████████████████████████████████████████████████████████████████████████████████████████▍                                     | 363/489 [39:47<08:15,  3.94s/it]"
     ]
    },
    {
     "name": "stdout",
     "output_type": "stream",
     "text": [
      "case_00463: 3D image shape (128, 232, 232)\n",
      "case_00463: 3D seg shape (128, 232, 232)\n"
     ]
    },
    {
     "name": "stderr",
     "output_type": "stream",
     "text": [
      " 74%|████████████████████████████████████████████████████████████████████████████████████████████████████████████▋                                     | 364/489 [39:49<07:14,  3.48s/it]"
     ]
    },
    {
     "name": "stdout",
     "output_type": "stream",
     "text": [
      "case_00464: 3D image shape (128, 232, 232)\n",
      "case_00464: 3D seg shape (128, 232, 232)\n"
     ]
    },
    {
     "name": "stderr",
     "output_type": "stream",
     "text": [
      " 75%|████████████████████████████████████████████████████████████████████████████████████████████████████████████▉                                     | 365/489 [39:52<06:29,  3.14s/it]"
     ]
    },
    {
     "name": "stdout",
     "output_type": "stream",
     "text": [
      "case_00465: 3D image shape (128, 232, 232)\n",
      "case_00465: 3D seg shape (128, 232, 232)\n"
     ]
    },
    {
     "name": "stderr",
     "output_type": "stream",
     "text": [
      " 75%|█████████████████████████████████████████████████████████████████████████████████████████████████████████████▎                                    | 366/489 [39:55<06:49,  3.33s/it]"
     ]
    },
    {
     "name": "stdout",
     "output_type": "stream",
     "text": [
      "case_00466: 3D image shape (128, 232, 232)\n",
      "case_00466: 3D seg shape (128, 232, 232)\n"
     ]
    },
    {
     "name": "stderr",
     "output_type": "stream",
     "text": [
      " 75%|█████████████████████████████████████████████████████████████████████████████████████████████████████████████▌                                    | 367/489 [40:00<07:42,  3.79s/it]"
     ]
    },
    {
     "name": "stdout",
     "output_type": "stream",
     "text": [
      "case_00467: 3D image shape (128, 232, 232)\n",
      "case_00467: 3D seg shape (128, 232, 232)\n"
     ]
    },
    {
     "name": "stderr",
     "output_type": "stream",
     "text": [
      " 75%|█████████████████████████████████████████████████████████████████████████████████████████████████████████████▊                                    | 368/489 [40:04<07:25,  3.68s/it]"
     ]
    },
    {
     "name": "stdout",
     "output_type": "stream",
     "text": [
      "case_00468: 3D image shape (128, 232, 232)\n",
      "case_00468: 3D seg shape (128, 232, 232)\n"
     ]
    },
    {
     "name": "stderr",
     "output_type": "stream",
     "text": [
      " 75%|██████████████████████████████████████████████████████████████████████████████████████████████████████████████▏                                   | 369/489 [40:06<06:18,  3.15s/it]"
     ]
    },
    {
     "name": "stdout",
     "output_type": "stream",
     "text": [
      "case_00469: 3D image shape (128, 232, 232)\n",
      "case_00469: 3D seg shape (128, 232, 232)\n"
     ]
    },
    {
     "name": "stderr",
     "output_type": "stream",
     "text": [
      " 76%|██████████████████████████████████████████████████████████████████████████████████████████████████████████████▍                                   | 370/489 [40:09<06:10,  3.11s/it]"
     ]
    },
    {
     "name": "stdout",
     "output_type": "stream",
     "text": [
      "case_00470: 3D image shape (128, 232, 232)\n",
      "case_00470: 3D seg shape (128, 232, 232)\n"
     ]
    },
    {
     "name": "stderr",
     "output_type": "stream",
     "text": [
      " 76%|██████████████████████████████████████████████████████████████████████████████████████████████████████████████▊                                   | 371/489 [40:10<05:17,  2.69s/it]"
     ]
    },
    {
     "name": "stdout",
     "output_type": "stream",
     "text": [
      "case_00471: 3D image shape (128, 232, 232)\n",
      "case_00471: 3D seg shape (128, 232, 232)\n"
     ]
    },
    {
     "name": "stderr",
     "output_type": "stream",
     "text": [
      " 76%|███████████████████████████████████████████████████████████████████████████████████████████████████████████████                                   | 372/489 [40:13<04:57,  2.54s/it]"
     ]
    },
    {
     "name": "stdout",
     "output_type": "stream",
     "text": [
      "case_00472: 3D image shape (128, 232, 232)\n",
      "case_00472: 3D seg shape (128, 232, 232)\n"
     ]
    },
    {
     "name": "stderr",
     "output_type": "stream",
     "text": [
      " 76%|███████████████████████████████████████████████████████████████████████████████████████████████████████████████▎                                  | 373/489 [40:18<06:34,  3.40s/it]"
     ]
    },
    {
     "name": "stdout",
     "output_type": "stream",
     "text": [
      "case_00473: 3D image shape (128, 232, 232)\n",
      "case_00473: 3D seg shape (128, 232, 232)\n"
     ]
    },
    {
     "name": "stderr",
     "output_type": "stream",
     "text": [
      " 76%|███████████████████████████████████████████████████████████████████████████████████████████████████████████████▋                                  | 374/489 [40:20<05:35,  2.92s/it]"
     ]
    },
    {
     "name": "stdout",
     "output_type": "stream",
     "text": [
      "case_00474: 3D image shape (128, 232, 232)\n",
      "case_00474: 3D seg shape (128, 232, 232)\n"
     ]
    },
    {
     "name": "stderr",
     "output_type": "stream",
     "text": [
      " 77%|███████████████████████████████████████████████████████████████████████████████████████████████████████████████▉                                  | 375/489 [40:27<07:56,  4.18s/it]"
     ]
    },
    {
     "name": "stdout",
     "output_type": "stream",
     "text": [
      "case_00475: 3D image shape (128, 232, 232)\n",
      "case_00475: 3D seg shape (128, 232, 232)\n"
     ]
    },
    {
     "name": "stderr",
     "output_type": "stream",
     "text": [
      " 77%|████████████████████████████████████████████████████████████████████████████████████████████████████████████████▎                                 | 376/489 [40:30<07:34,  4.02s/it]"
     ]
    },
    {
     "name": "stdout",
     "output_type": "stream",
     "text": [
      "case_00476: 3D image shape (128, 232, 232)\n",
      "case_00476: 3D seg shape (128, 232, 232)\n"
     ]
    },
    {
     "name": "stderr",
     "output_type": "stream",
     "text": [
      " 77%|████████████████████████████████████████████████████████████████████████████████████████████████████████████████▌                                 | 377/489 [40:33<06:27,  3.46s/it]"
     ]
    },
    {
     "name": "stdout",
     "output_type": "stream",
     "text": [
      "case_00477: 3D image shape (128, 232, 232)\n",
      "case_00477: 3D seg shape (128, 232, 232)\n"
     ]
    },
    {
     "name": "stderr",
     "output_type": "stream",
     "text": [
      " 78%|█████████████████████████████████████████████████████████████████████████████████████████████████████████████████▏                                | 379/489 [40:39<05:56,  3.24s/it]"
     ]
    },
    {
     "name": "stdout",
     "output_type": "stream",
     "text": [
      "case_00478: 3D image shape (128, 232, 232)\n",
      "case_00478: 3D seg shape (128, 232, 232)\n",
      "case_00479: 3D image shape (128, 232, 232)\n",
      "case_00479: 3D seg shape (128, 232, 232)\n"
     ]
    },
    {
     "name": "stderr",
     "output_type": "stream",
     "text": [
      " 78%|█████████████████████████████████████████████████████████████████████████████████████████████████████████████████▍                                | 380/489 [40:44<07:18,  4.02s/it]"
     ]
    },
    {
     "name": "stdout",
     "output_type": "stream",
     "text": [
      "case_00480: 3D image shape (128, 232, 232)\n",
      "case_00480: 3D seg shape (128, 232, 232)\n"
     ]
    },
    {
     "name": "stderr",
     "output_type": "stream",
     "text": [
      " 78%|█████████████████████████████████████████████████████████████████████████████████████████████████████████████████▊                                | 381/489 [40:49<07:38,  4.25s/it]"
     ]
    },
    {
     "name": "stdout",
     "output_type": "stream",
     "text": [
      "case_00481: 3D image shape (128, 232, 232)\n",
      "case_00481: 3D seg shape (128, 232, 232)\n"
     ]
    },
    {
     "name": "stderr",
     "output_type": "stream",
     "text": [
      " 78%|██████████████████████████████████████████████████████████████████████████████████████████████████████████████████                                | 382/489 [40:53<07:29,  4.20s/it]"
     ]
    },
    {
     "name": "stdout",
     "output_type": "stream",
     "text": [
      "case_00482: 3D image shape (128, 232, 232)\n",
      "case_00482: 3D seg shape (128, 232, 232)\n"
     ]
    },
    {
     "name": "stderr",
     "output_type": "stream",
     "text": [
      " 78%|██████████████████████████████████████████████████████████████████████████████████████████████████████████████████▎                               | 383/489 [41:03<10:06,  5.72s/it]"
     ]
    },
    {
     "name": "stdout",
     "output_type": "stream",
     "text": [
      "case_00483: 3D image shape (128, 232, 232)\n",
      "case_00483: 3D seg shape (128, 232, 232)\n"
     ]
    },
    {
     "name": "stderr",
     "output_type": "stream",
     "text": [
      " 79%|██████████████████████████████████████████████████████████████████████████████████████████████████████████████████▋                               | 384/489 [41:04<07:57,  4.55s/it]"
     ]
    },
    {
     "name": "stdout",
     "output_type": "stream",
     "text": [
      "case_00484: 3D image shape (128, 232, 232)\n",
      "case_00484: 3D seg shape (128, 232, 232)\n"
     ]
    },
    {
     "name": "stderr",
     "output_type": "stream",
     "text": [
      " 79%|██████████████████████████████████████████████████████████████████████████████████████████████████████████████████▉                               | 385/489 [41:07<06:48,  3.92s/it]"
     ]
    },
    {
     "name": "stdout",
     "output_type": "stream",
     "text": [
      "case_00485: 3D image shape (128, 232, 232)\n",
      "case_00485: 3D seg shape (128, 232, 232)\n"
     ]
    },
    {
     "name": "stderr",
     "output_type": "stream",
     "text": [
      " 79%|███████████████████████████████████████████████████████████████████████████████████████████████████████████████████▏                              | 386/489 [41:10<06:15,  3.65s/it]"
     ]
    },
    {
     "name": "stdout",
     "output_type": "stream",
     "text": [
      "case_00486: 3D image shape (128, 232, 232)\n",
      "case_00486: 3D seg shape (128, 232, 232)\n"
     ]
    },
    {
     "name": "stderr",
     "output_type": "stream",
     "text": [
      " 79%|███████████████████████████████████████████████████████████████████████████████████████████████████████████████████▌                              | 387/489 [41:15<07:04,  4.16s/it]"
     ]
    },
    {
     "name": "stdout",
     "output_type": "stream",
     "text": [
      "case_00487: 3D image shape (128, 232, 232)\n",
      "case_00487: 3D seg shape (128, 232, 232)\n"
     ]
    },
    {
     "name": "stderr",
     "output_type": "stream",
     "text": [
      " 79%|███████████████████████████████████████████████████████████████████████████████████████████████████████████████████▊                              | 388/489 [41:22<08:26,  5.02s/it]"
     ]
    },
    {
     "name": "stdout",
     "output_type": "stream",
     "text": [
      "case_00488: 3D image shape (128, 232, 232)\n",
      "case_00488: 3D seg shape (128, 232, 232)\n"
     ]
    },
    {
     "name": "stderr",
     "output_type": "stream",
     "text": [
      " 80%|████████████████████████████████████████████████████████████████████████████████████████████████████████████████████▏                             | 389/489 [41:28<08:48,  5.29s/it]"
     ]
    },
    {
     "name": "stdout",
     "output_type": "stream",
     "text": [
      "case_00489: 3D image shape (128, 232, 232)\n",
      "case_00489: 3D seg shape (128, 232, 232)\n"
     ]
    },
    {
     "name": "stderr",
     "output_type": "stream",
     "text": [
      " 80%|████████████████████████████████████████████████████████████████████████████████████████████████████████████████████▍                             | 390/489 [41:34<08:54,  5.40s/it]"
     ]
    },
    {
     "name": "stdout",
     "output_type": "stream",
     "text": [
      "case_00490: 3D image shape (128, 232, 232)\n",
      "case_00490: 3D seg shape (128, 232, 232)\n"
     ]
    },
    {
     "name": "stderr",
     "output_type": "stream",
     "text": [
      " 80%|████████████████████████████████████████████████████████████████████████████████████████████████████████████████████▋                             | 391/489 [41:41<09:39,  5.91s/it]"
     ]
    },
    {
     "name": "stdout",
     "output_type": "stream",
     "text": [
      "case_00491: 3D image shape (128, 232, 232)\n",
      "case_00491: 3D seg shape (128, 232, 232)\n"
     ]
    },
    {
     "name": "stderr",
     "output_type": "stream",
     "text": [
      " 80%|█████████████████████████████████████████████████████████████████████████████████████████████████████████████████████                             | 392/489 [41:43<07:42,  4.77s/it]"
     ]
    },
    {
     "name": "stdout",
     "output_type": "stream",
     "text": [
      "case_00492: 3D image shape (128, 232, 232)\n",
      "case_00492: 3D seg shape (128, 232, 232)\n"
     ]
    },
    {
     "name": "stderr",
     "output_type": "stream",
     "text": [
      " 80%|█████████████████████████████████████████████████████████████████████████████████████████████████████████████████████▎                            | 393/489 [41:47<07:01,  4.39s/it]"
     ]
    },
    {
     "name": "stdout",
     "output_type": "stream",
     "text": [
      "case_00493: 3D image shape (128, 232, 232)\n",
      "case_00493: 3D seg shape (128, 232, 232)\n"
     ]
    },
    {
     "name": "stderr",
     "output_type": "stream",
     "text": [
      " 81%|█████████████████████████████████████████████████████████████████████████████████████████████████████████████████████▋                            | 394/489 [41:51<07:05,  4.48s/it]"
     ]
    },
    {
     "name": "stdout",
     "output_type": "stream",
     "text": [
      "case_00494: 3D image shape (128, 232, 232)\n",
      "case_00494: 3D seg shape (128, 232, 232)\n"
     ]
    },
    {
     "name": "stderr",
     "output_type": "stream",
     "text": [
      " 81%|█████████████████████████████████████████████████████████████████████████████████████████████████████████████████████▉                            | 395/489 [41:55<06:36,  4.21s/it]"
     ]
    },
    {
     "name": "stdout",
     "output_type": "stream",
     "text": [
      "case_00495: 3D image shape (128, 232, 232)\n",
      "case_00495: 3D seg shape (128, 232, 232)\n"
     ]
    },
    {
     "name": "stderr",
     "output_type": "stream",
     "text": [
      " 81%|██████████████████████████████████████████████████████████████████████████████████████████████████████████████████████▏                           | 396/489 [41:57<05:40,  3.66s/it]"
     ]
    },
    {
     "name": "stdout",
     "output_type": "stream",
     "text": [
      "case_00496: 3D image shape (128, 232, 232)\n",
      "case_00496: 3D seg shape (128, 232, 232)\n"
     ]
    },
    {
     "name": "stderr",
     "output_type": "stream",
     "text": [
      " 81%|██████████████████████████████████████████████████████████████████████████████████████████████████████████████████████▊                           | 398/489 [42:01<04:00,  2.64s/it]"
     ]
    },
    {
     "name": "stdout",
     "output_type": "stream",
     "text": [
      "case_00497: 3D image shape (128, 232, 232)\n",
      "case_00497: 3D seg shape (128, 232, 232)\n",
      "case_00498: 3D image shape (128, 232, 232)\n",
      "case_00498: 3D seg shape (128, 232, 232)\n"
     ]
    },
    {
     "name": "stderr",
     "output_type": "stream",
     "text": [
      " 82%|███████████████████████████████████████████████████████████████████████████████████████████████████████████████████████▏                          | 399/489 [42:04<04:14,  2.83s/it]"
     ]
    },
    {
     "name": "stdout",
     "output_type": "stream",
     "text": [
      "case_00499: 3D image shape (128, 232, 232)\n",
      "case_00499: 3D seg shape (128, 232, 232)\n"
     ]
    },
    {
     "name": "stderr",
     "output_type": "stream",
     "text": [
      " 82%|███████████████████████████████████████████████████████████████████████████████████████████████████████████████████████▍                          | 400/489 [42:06<04:00,  2.70s/it]"
     ]
    },
    {
     "name": "stdout",
     "output_type": "stream",
     "text": [
      "case_00500: 3D image shape (128, 232, 232)\n",
      "case_00500: 3D seg shape (128, 232, 232)\n"
     ]
    },
    {
     "name": "stderr",
     "output_type": "stream",
     "text": [
      " 82%|███████████████████████████████████████████████████████████████████████████████████████████████████████████████████████▋                          | 401/489 [42:12<05:06,  3.48s/it]"
     ]
    },
    {
     "name": "stdout",
     "output_type": "stream",
     "text": [
      "case_00501: 3D image shape (128, 232, 232)\n",
      "case_00501: 3D seg shape (128, 232, 232)\n"
     ]
    },
    {
     "name": "stderr",
     "output_type": "stream",
     "text": [
      " 82%|████████████████████████████████████████████████████████████████████████████████████████████████████████████████████████                          | 402/489 [42:34<13:24,  9.25s/it]"
     ]
    },
    {
     "name": "stdout",
     "output_type": "stream",
     "text": [
      "case_00502: 3D image shape (128, 232, 232)\n",
      "case_00502: 3D seg shape (128, 232, 232)\n"
     ]
    },
    {
     "name": "stderr",
     "output_type": "stream",
     "text": [
      " 82%|████████████████████████████████████████████████████████████████████████████████████████████████████████████████████████▎                         | 403/489 [42:39<11:20,  7.91s/it]"
     ]
    },
    {
     "name": "stdout",
     "output_type": "stream",
     "text": [
      "case_00503: 3D image shape (128, 232, 232)\n",
      "case_00503: 3D seg shape (128, 232, 232)\n"
     ]
    },
    {
     "name": "stderr",
     "output_type": "stream",
     "text": [
      " 83%|████████████████████████████████████████████████████████████████████████████████████████████████████████████████████████▌                         | 404/489 [42:42<09:07,  6.45s/it]"
     ]
    },
    {
     "name": "stdout",
     "output_type": "stream",
     "text": [
      "case_00504: 3D image shape (128, 232, 232)\n",
      "case_00504: 3D seg shape (128, 232, 232)\n"
     ]
    },
    {
     "name": "stderr",
     "output_type": "stream",
     "text": [
      " 83%|████████████████████████████████████████████████████████████████████████████████████████████████████████████████████████▉                         | 405/489 [42:49<09:05,  6.49s/it]"
     ]
    },
    {
     "name": "stdout",
     "output_type": "stream",
     "text": [
      "case_00505: 3D image shape (128, 232, 232)\n",
      "case_00505: 3D seg shape (128, 232, 232)\n"
     ]
    },
    {
     "name": "stderr",
     "output_type": "stream",
     "text": [
      " 83%|█████████████████████████████████████████████████████████████████████████████████████████████████████████████████████████▏                        | 406/489 [42:58<10:14,  7.40s/it]"
     ]
    },
    {
     "name": "stdout",
     "output_type": "stream",
     "text": [
      "case_00506: 3D image shape (128, 232, 232)\n",
      "case_00506: 3D seg shape (128, 232, 232)\n"
     ]
    },
    {
     "name": "stderr",
     "output_type": "stream",
     "text": [
      " 83%|█████████████████████████████████████████████████████████████████████████████████████████████████████████████████████████▌                        | 407/489 [43:00<07:43,  5.65s/it]"
     ]
    },
    {
     "name": "stdout",
     "output_type": "stream",
     "text": [
      "case_00507: 3D image shape (128, 232, 232)\n",
      "case_00507: 3D seg shape (128, 232, 232)\n"
     ]
    },
    {
     "name": "stderr",
     "output_type": "stream",
     "text": [
      " 83%|█████████████████████████████████████████████████████████████████████████████████████████████████████████████████████████▊                        | 408/489 [43:03<06:31,  4.83s/it]"
     ]
    },
    {
     "name": "stdout",
     "output_type": "stream",
     "text": [
      "case_00508: 3D image shape (128, 232, 232)\n",
      "case_00508: 3D seg shape (128, 232, 232)\n"
     ]
    },
    {
     "name": "stderr",
     "output_type": "stream",
     "text": [
      " 84%|██████████████████████████████████████████████████████████████████████████████████████████████████████████████████████████                        | 409/489 [43:05<05:36,  4.20s/it]"
     ]
    },
    {
     "name": "stdout",
     "output_type": "stream",
     "text": [
      "case_00509: 3D image shape (128, 232, 232)\n",
      "case_00509: 3D seg shape (128, 232, 232)\n"
     ]
    },
    {
     "name": "stderr",
     "output_type": "stream",
     "text": [
      " 84%|██████████████████████████████████████████████████████████████████████████████████████████████████████████████████████████▍                       | 410/489 [43:12<06:26,  4.89s/it]"
     ]
    },
    {
     "name": "stdout",
     "output_type": "stream",
     "text": [
      "case_00510: 3D image shape (128, 232, 232)\n",
      "case_00510: 3D seg shape (128, 232, 232)\n"
     ]
    },
    {
     "name": "stderr",
     "output_type": "stream",
     "text": [
      " 84%|██████████████████████████████████████████████████████████████████████████████████████████████████████████████████████████▋                       | 411/489 [43:36<13:51, 10.67s/it]"
     ]
    },
    {
     "name": "stdout",
     "output_type": "stream",
     "text": [
      "case_00511: 3D image shape (128, 232, 232)\n",
      "case_00511: 3D seg shape (128, 232, 232)\n"
     ]
    },
    {
     "name": "stderr",
     "output_type": "stream",
     "text": [
      " 84%|███████████████████████████████████████████████████████████████████████████████████████████████████████████████████████████                       | 412/489 [43:39<10:48,  8.42s/it]"
     ]
    },
    {
     "name": "stdout",
     "output_type": "stream",
     "text": [
      "case_00512: 3D image shape (128, 232, 232)\n",
      "case_00512: 3D seg shape (128, 232, 232)\n"
     ]
    },
    {
     "name": "stderr",
     "output_type": "stream",
     "text": [
      " 84%|███████████████████████████████████████████████████████████████████████████████████████████████████████████████████████████▎                      | 413/489 [43:42<08:22,  6.61s/it]"
     ]
    },
    {
     "name": "stdout",
     "output_type": "stream",
     "text": [
      "case_00513: 3D image shape (128, 232, 232)\n",
      "case_00513: 3D seg shape (128, 232, 232)\n"
     ]
    },
    {
     "name": "stderr",
     "output_type": "stream",
     "text": [
      " 85%|███████████████████████████████████████████████████████████████████████████████████████████████████████████████████████████▌                      | 414/489 [43:56<10:59,  8.79s/it]"
     ]
    },
    {
     "name": "stdout",
     "output_type": "stream",
     "text": [
      "case_00514: 3D image shape (128, 232, 232)\n",
      "case_00514: 3D seg shape (128, 232, 232)\n"
     ]
    },
    {
     "name": "stderr",
     "output_type": "stream",
     "text": [
      " 85%|███████████████████████████████████████████████████████████████████████████████████████████████████████████████████████████▉                      | 415/489 [44:16<15:19, 12.43s/it]"
     ]
    },
    {
     "name": "stdout",
     "output_type": "stream",
     "text": [
      "case_00515: 3D image shape (128, 232, 232)\n",
      "case_00515: 3D seg shape (128, 232, 232)\n"
     ]
    },
    {
     "name": "stderr",
     "output_type": "stream",
     "text": [
      " 85%|████████████████████████████████████████████████████████████████████████████████████████████████████████████████████████████▌                     | 417/489 [44:31<11:12,  9.34s/it]"
     ]
    },
    {
     "name": "stdout",
     "output_type": "stream",
     "text": [
      "case_00516: 3D image shape (128, 232, 232)\n",
      "case_00516: 3D seg shape (128, 232, 232)\n",
      "case_00517: 3D image shape (128, 232, 232)\n",
      "case_00517: 3D seg shape (128, 232, 232)\n"
     ]
    },
    {
     "name": "stderr",
     "output_type": "stream",
     "text": [
      " 85%|████████████████████████████████████████████████████████████████████████████████████████████████████████████████████████████▊                     | 418/489 [44:50<14:31, 12.27s/it]"
     ]
    },
    {
     "name": "stdout",
     "output_type": "stream",
     "text": [
      "case_00518: 3D image shape (128, 232, 232)\n",
      "case_00518: 3D seg shape (128, 232, 232)\n"
     ]
    },
    {
     "name": "stderr",
     "output_type": "stream",
     "text": [
      " 86%|█████████████████████████████████████████████████████████████████████████████████████████████████████████████████████████████                     | 419/489 [44:54<11:41, 10.03s/it]"
     ]
    },
    {
     "name": "stdout",
     "output_type": "stream",
     "text": [
      "case_00519: 3D image shape (128, 232, 232)\n",
      "case_00519: 3D seg shape (128, 232, 232)\n"
     ]
    },
    {
     "name": "stderr",
     "output_type": "stream",
     "text": [
      " 86%|█████████████████████████████████████████████████████████████████████████████████████████████████████████████████████████████▍                    | 420/489 [44:57<08:53,  7.73s/it]"
     ]
    },
    {
     "name": "stdout",
     "output_type": "stream",
     "text": [
      "case_00520: 3D image shape (128, 232, 232)\n",
      "case_00520: 3D seg shape (128, 232, 232)\n"
     ]
    },
    {
     "name": "stderr",
     "output_type": "stream",
     "text": [
      " 86%|█████████████████████████████████████████████████████████████████████████████████████████████████████████████████████████████▋                    | 421/489 [45:00<07:14,  6.39s/it]"
     ]
    },
    {
     "name": "stdout",
     "output_type": "stream",
     "text": [
      "case_00521: 3D image shape (128, 232, 232)\n",
      "case_00521: 3D seg shape (128, 232, 232)\n"
     ]
    },
    {
     "name": "stderr",
     "output_type": "stream",
     "text": [
      " 86%|█████████████████████████████████████████████████████████████████████████████████████████████████████████████████████████████▉                    | 422/489 [45:03<05:57,  5.33s/it]"
     ]
    },
    {
     "name": "stdout",
     "output_type": "stream",
     "text": [
      "case_00522: 3D image shape (128, 232, 232)\n",
      "case_00522: 3D seg shape (128, 232, 232)\n"
     ]
    },
    {
     "name": "stderr",
     "output_type": "stream",
     "text": [
      " 87%|██████████████████████████████████████████████████████████████████████████████████████████████████████████████████████████████▎                   | 423/489 [45:06<05:06,  4.64s/it]"
     ]
    },
    {
     "name": "stdout",
     "output_type": "stream",
     "text": [
      "case_00523: 3D image shape (128, 232, 232)\n",
      "case_00523: 3D seg shape (128, 232, 232)\n"
     ]
    },
    {
     "name": "stderr",
     "output_type": "stream",
     "text": [
      " 87%|██████████████████████████████████████████████████████████████████████████████████████████████████████████████████████████████▌                   | 424/489 [45:09<04:32,  4.20s/it]"
     ]
    },
    {
     "name": "stdout",
     "output_type": "stream",
     "text": [
      "case_00524: 3D image shape (128, 232, 232)\n",
      "case_00524: 3D seg shape (128, 232, 232)\n"
     ]
    },
    {
     "name": "stderr",
     "output_type": "stream",
     "text": [
      " 87%|██████████████████████████████████████████████████████████████████████████████████████████████████████████████████████████████▉                   | 425/489 [45:12<04:10,  3.91s/it]"
     ]
    },
    {
     "name": "stdout",
     "output_type": "stream",
     "text": [
      "case_00525: 3D image shape (128, 232, 232)\n",
      "case_00525: 3D seg shape (128, 232, 232)\n"
     ]
    },
    {
     "name": "stderr",
     "output_type": "stream",
     "text": [
      " 87%|███████████████████████████████████████████████████████████████████████████████████████████████████████████████████████████████▏                  | 426/489 [45:16<03:53,  3.70s/it]"
     ]
    },
    {
     "name": "stdout",
     "output_type": "stream",
     "text": [
      "case_00526: 3D image shape (128, 232, 232)\n",
      "case_00526: 3D seg shape (128, 232, 232)\n"
     ]
    },
    {
     "name": "stderr",
     "output_type": "stream",
     "text": [
      " 87%|███████████████████████████████████████████████████████████████████████████████████████████████████████████████████████████████▍                  | 427/489 [45:21<04:12,  4.08s/it]"
     ]
    },
    {
     "name": "stdout",
     "output_type": "stream",
     "text": [
      "case_00527: 3D image shape (128, 232, 232)\n",
      "case_00527: 3D seg shape (128, 232, 232)\n"
     ]
    },
    {
     "name": "stderr",
     "output_type": "stream",
     "text": [
      " 88%|███████████████████████████████████████████████████████████████████████████████████████████████████████████████████████████████▊                  | 428/489 [45:22<03:17,  3.24s/it]"
     ]
    },
    {
     "name": "stdout",
     "output_type": "stream",
     "text": [
      "case_00528: 3D image shape (128, 232, 232)\n",
      "case_00528: 3D seg shape (128, 232, 232)\n"
     ]
    },
    {
     "name": "stderr",
     "output_type": "stream",
     "text": [
      " 88%|████████████████████████████████████████████████████████████████████████████████████████████████████████████████████████████████▍                 | 430/489 [45:38<05:06,  5.19s/it]"
     ]
    },
    {
     "name": "stdout",
     "output_type": "stream",
     "text": [
      "case_00529: 3D image shape (128, 232, 232)\n",
      "case_00529: 3D seg shape (128, 232, 232)\n",
      "case_00530: 3D image shape (128, 232, 232)\n",
      "case_00530: 3D seg shape (128, 232, 232)\n"
     ]
    },
    {
     "name": "stderr",
     "output_type": "stream",
     "text": [
      " 88%|████████████████████████████████████████████████████████████████████████████████████████████████████████████████████████████████▋                 | 431/489 [45:43<04:54,  5.08s/it]"
     ]
    },
    {
     "name": "stdout",
     "output_type": "stream",
     "text": [
      "case_00531: 3D image shape (128, 232, 232)\n",
      "case_00531: 3D seg shape (128, 232, 232)\n"
     ]
    },
    {
     "name": "stderr",
     "output_type": "stream",
     "text": [
      " 88%|████████████████████████████████████████████████████████████████████████████████████████████████████████████████████████████████▉                 | 432/489 [45:45<03:57,  4.16s/it]"
     ]
    },
    {
     "name": "stdout",
     "output_type": "stream",
     "text": [
      "case_00532: 3D image shape (128, 232, 232)\n",
      "case_00532: 3D seg shape (128, 232, 232)\n"
     ]
    },
    {
     "name": "stderr",
     "output_type": "stream",
     "text": [
      " 89%|█████████████████████████████████████████████████████████████████████████████████████████████████████████████████████████████████▎                | 433/489 [45:50<04:00,  4.29s/it]"
     ]
    },
    {
     "name": "stdout",
     "output_type": "stream",
     "text": [
      "case_00533: 3D image shape (128, 232, 232)\n",
      "case_00533: 3D seg shape (128, 232, 232)\n"
     ]
    },
    {
     "name": "stderr",
     "output_type": "stream",
     "text": [
      " 89%|█████████████████████████████████████████████████████████████████████████████████████████████████████████████████████████████████▉                | 435/489 [45:54<02:51,  3.18s/it]"
     ]
    },
    {
     "name": "stdout",
     "output_type": "stream",
     "text": [
      "case_00534: 3D image shape (128, 232, 232)\n",
      "case_00534: 3D seg shape (128, 232, 232)\n",
      "case_00535: 3D image shape (128, 232, 232)\n",
      "case_00535: 3D seg shape (128, 232, 232)\n"
     ]
    },
    {
     "name": "stderr",
     "output_type": "stream",
     "text": [
      " 89%|██████████████████████████████████████████████████████████████████████████████████████████████████████████████████████████████████▏               | 436/489 [46:15<07:24,  8.39s/it]"
     ]
    },
    {
     "name": "stdout",
     "output_type": "stream",
     "text": [
      "case_00536: 3D image shape (128, 232, 232)\n",
      "case_00536: 3D seg shape (128, 232, 232)\n"
     ]
    },
    {
     "name": "stderr",
     "output_type": "stream",
     "text": [
      " 89%|██████████████████████████████████████████████████████████████████████████████████████████████████████████████████████████████████▍               | 437/489 [46:18<05:52,  6.77s/it]"
     ]
    },
    {
     "name": "stdout",
     "output_type": "stream",
     "text": [
      "case_00537: 3D image shape (128, 232, 232)\n",
      "case_00537: 3D seg shape (128, 232, 232)\n"
     ]
    },
    {
     "name": "stderr",
     "output_type": "stream",
     "text": [
      " 90%|██████████████████████████████████████████████████████████████████████████████████████████████████████████████████████████████████▊               | 438/489 [46:20<04:33,  5.36s/it]"
     ]
    },
    {
     "name": "stdout",
     "output_type": "stream",
     "text": [
      "case_00538: 3D image shape (128, 232, 232)\n",
      "case_00538: 3D seg shape (128, 232, 232)\n"
     ]
    },
    {
     "name": "stderr",
     "output_type": "stream",
     "text": [
      " 90%|███████████████████████████████████████████████████████████████████████████████████████████████████████████████████████████████████               | 439/489 [46:32<06:12,  7.44s/it]"
     ]
    },
    {
     "name": "stdout",
     "output_type": "stream",
     "text": [
      "case_00539: 3D image shape (128, 232, 232)\n",
      "case_00539: 3D seg shape (128, 232, 232)\n"
     ]
    },
    {
     "name": "stderr",
     "output_type": "stream",
     "text": [
      " 90%|███████████████████████████████████████████████████████████████████████████████████████████████████████████████████████████████████▎              | 440/489 [46:34<04:37,  5.67s/it]"
     ]
    },
    {
     "name": "stdout",
     "output_type": "stream",
     "text": [
      "case_00540: 3D image shape (128, 232, 232)\n",
      "case_00540: 3D seg shape (128, 232, 232)\n"
     ]
    },
    {
     "name": "stderr",
     "output_type": "stream",
     "text": [
      " 90%|███████████████████████████████████████████████████████████████████████████████████████████████████████████████████████████████████▋              | 441/489 [46:48<06:36,  8.26s/it]"
     ]
    },
    {
     "name": "stdout",
     "output_type": "stream",
     "text": [
      "case_00541: 3D image shape (128, 232, 232)\n",
      "case_00541: 3D seg shape (128, 232, 232)\n"
     ]
    },
    {
     "name": "stderr",
     "output_type": "stream",
     "text": [
      " 90%|███████████████████████████████████████████████████████████████████████████████████████████████████████████████████████████████████▉              | 442/489 [47:03<08:02, 10.26s/it]"
     ]
    },
    {
     "name": "stdout",
     "output_type": "stream",
     "text": [
      "case_00542: 3D image shape (128, 232, 232)\n",
      "case_00542: 3D seg shape (128, 232, 232)\n"
     ]
    },
    {
     "name": "stderr",
     "output_type": "stream",
     "text": [
      " 91%|████████████████████████████████████████████████████████████████████████████████████████████████████████████████████████████████████▎             | 443/489 [47:10<07:05,  9.25s/it]"
     ]
    },
    {
     "name": "stdout",
     "output_type": "stream",
     "text": [
      "case_00543: 3D image shape (128, 232, 232)\n",
      "case_00543: 3D seg shape (128, 232, 232)\n"
     ]
    },
    {
     "name": "stderr",
     "output_type": "stream",
     "text": [
      " 91%|████████████████████████████████████████████████████████████████████████████████████████████████████████████████████████████████████▌             | 444/489 [47:24<08:03, 10.74s/it]"
     ]
    },
    {
     "name": "stdout",
     "output_type": "stream",
     "text": [
      "case_00544: 3D image shape (128, 232, 232)\n",
      "case_00544: 3D seg shape (128, 232, 232)\n"
     ]
    },
    {
     "name": "stderr",
     "output_type": "stream",
     "text": [
      " 91%|████████████████████████████████████████████████████████████████████████████████████████████████████████████████████████████████████▊             | 445/489 [47:41<09:16, 12.65s/it]"
     ]
    },
    {
     "name": "stdout",
     "output_type": "stream",
     "text": [
      "case_00545: 3D image shape (128, 232, 232)\n",
      "case_00545: 3D seg shape (128, 232, 232)\n"
     ]
    },
    {
     "name": "stderr",
     "output_type": "stream",
     "text": [
      " 91%|█████████████████████████████████████████████████████████████████████████████████████████████████████████████████████████████████████▍            | 447/489 [47:53<06:09,  8.80s/it]"
     ]
    },
    {
     "name": "stdout",
     "output_type": "stream",
     "text": [
      "case_00546: 3D image shape (128, 232, 232)\n",
      "case_00546: 3D seg shape (128, 232, 232)\n",
      "case_00547: 3D image shape (128, 232, 232)\n",
      "case_00547: 3D seg shape (128, 232, 232)\n"
     ]
    },
    {
     "name": "stderr",
     "output_type": "stream",
     "text": [
      " 92%|█████████████████████████████████████████████████████████████████████████████████████████████████████████████████████████████████████▊            | 448/489 [47:58<05:16,  7.73s/it]"
     ]
    },
    {
     "name": "stdout",
     "output_type": "stream",
     "text": [
      "case_00548: 3D image shape (128, 232, 232)\n",
      "case_00548: 3D seg shape (128, 232, 232)\n"
     ]
    },
    {
     "name": "stderr",
     "output_type": "stream",
     "text": [
      " 92%|██████████████████████████████████████████████████████████████████████████████████████████████████████████████████████████████████████            | 449/489 [48:00<03:58,  5.97s/it]"
     ]
    },
    {
     "name": "stdout",
     "output_type": "stream",
     "text": [
      "case_00549: 3D image shape (128, 232, 232)\n",
      "case_00549: 3D seg shape (128, 232, 232)\n"
     ]
    },
    {
     "name": "stderr",
     "output_type": "stream",
     "text": [
      " 92%|██████████████████████████████████████████████████████████████████████████████████████████████████████████████████████████████████████▋           | 451/489 [48:03<02:20,  3.70s/it]"
     ]
    },
    {
     "name": "stdout",
     "output_type": "stream",
     "text": [
      "case_00550: 3D image shape (128, 232, 232)\n",
      "case_00550: 3D seg shape (128, 232, 232)\n"
     ]
    },
    {
     "name": "stderr",
     "output_type": "stream",
     "text": [
      " 92%|██████████████████████████████████████████████████████████████████████████████████████████████████████████████████████████████████████▉           | 452/489 [48:05<01:52,  3.05s/it]"
     ]
    },
    {
     "name": "stdout",
     "output_type": "stream",
     "text": [
      "case_00551: 3D image shape (128, 232, 232)\n",
      "case_00551: 3D seg shape (128, 232, 232)\n",
      "case_00552: 3D image shape (128, 232, 232)\n",
      "case_00552: 3D seg shape (128, 232, 232)\n"
     ]
    },
    {
     "name": "stderr",
     "output_type": "stream",
     "text": [
      " 93%|███████████████████████████████████████████████████████████████████████████████████████████████████████████████████████████████████████▎          | 453/489 [48:11<02:17,  3.81s/it]"
     ]
    },
    {
     "name": "stdout",
     "output_type": "stream",
     "text": [
      "case_00553: 3D image shape (128, 232, 232)\n",
      "case_00553: 3D seg shape (128, 232, 232)\n"
     ]
    },
    {
     "name": "stderr",
     "output_type": "stream",
     "text": [
      " 93%|███████████████████████████████████████████████████████████████████████████████████████████████████████████████████████████████████████▌          | 454/489 [48:26<04:13,  7.23s/it]"
     ]
    },
    {
     "name": "stdout",
     "output_type": "stream",
     "text": [
      "case_00554: 3D image shape (128, 232, 232)\n",
      "case_00554: 3D seg shape (128, 232, 232)\n"
     ]
    },
    {
     "name": "stderr",
     "output_type": "stream",
     "text": [
      " 93%|███████████████████████████████████████████████████████████████████████████████████████████████████████████████████████████████████████▊          | 455/489 [48:28<03:14,  5.71s/it]"
     ]
    },
    {
     "name": "stdout",
     "output_type": "stream",
     "text": [
      "case_00555: 3D image shape (128, 232, 232)\n",
      "case_00555: 3D seg shape (128, 232, 232)\n"
     ]
    },
    {
     "name": "stderr",
     "output_type": "stream",
     "text": [
      " 93%|████████████████████████████████████████████████████████████████████████████████████████████████████████████████████████████████████████▍         | 457/489 [48:43<03:18,  6.20s/it]"
     ]
    },
    {
     "name": "stdout",
     "output_type": "stream",
     "text": [
      "case_00556: 3D image shape (128, 232, 232)\n",
      "case_00556: 3D seg shape (128, 232, 232)\n",
      "case_00557: 3D image shape (128, 232, 232)\n",
      "case_00557: 3D seg shape (128, 232, 232)\n"
     ]
    },
    {
     "name": "stderr",
     "output_type": "stream",
     "text": [
      " 94%|████████████████████████████████████████████████████████████████████████████████████████████████████████████████████████████████████████▋         | 458/489 [48:49<03:07,  6.05s/it]"
     ]
    },
    {
     "name": "stdout",
     "output_type": "stream",
     "text": [
      "case_00558: 3D image shape (128, 232, 232)\n",
      "case_00558: 3D seg shape (128, 232, 232)\n"
     ]
    },
    {
     "name": "stderr",
     "output_type": "stream",
     "text": [
      " 94%|█████████████████████████████████████████████████████████████████████████████████████████████████████████████████████████████████████████         | 459/489 [48:54<02:49,  5.66s/it]"
     ]
    },
    {
     "name": "stdout",
     "output_type": "stream",
     "text": [
      "case_00559: 3D image shape (128, 232, 232)\n",
      "case_00559: 3D seg shape (128, 232, 232)\n"
     ]
    },
    {
     "name": "stderr",
     "output_type": "stream",
     "text": [
      " 94%|█████████████████████████████████████████████████████████████████████████████████████████████████████████████████████████████████████████▋        | 461/489 [49:14<03:21,  7.21s/it]"
     ]
    },
    {
     "name": "stdout",
     "output_type": "stream",
     "text": [
      "case_00560: 3D image shape (128, 232, 232)\n",
      "case_00560: 3D seg shape (128, 232, 232)\n",
      "case_00561: 3D image shape (128, 232, 232)\n",
      "case_00561: 3D seg shape (128, 232, 232)\n"
     ]
    },
    {
     "name": "stderr",
     "output_type": "stream",
     "text": [
      " 94%|█████████████████████████████████████████████████████████████████████████████████████████████████████████████████████████████████████████▉        | 462/489 [49:30<04:26,  9.88s/it]"
     ]
    },
    {
     "name": "stdout",
     "output_type": "stream",
     "text": [
      "case_00562: 3D image shape (128, 232, 232)\n",
      "case_00562: 3D seg shape (128, 232, 232)\n"
     ]
    },
    {
     "name": "stderr",
     "output_type": "stream",
     "text": [
      " 95%|██████████████████████████████████████████████████████████████████████████████████████████████████████████████████████████████████████████▏       | 463/489 [49:44<04:52, 11.25s/it]"
     ]
    },
    {
     "name": "stdout",
     "output_type": "stream",
     "text": [
      "case_00563: 3D image shape (128, 232, 232)\n",
      "case_00563: 3D seg shape (128, 232, 232)\n"
     ]
    },
    {
     "name": "stderr",
     "output_type": "stream",
     "text": [
      " 95%|██████████████████████████████████████████████████████████████████████████████████████████████████████████████████████████████████████████▌       | 464/489 [49:51<04:07,  9.91s/it]"
     ]
    },
    {
     "name": "stdout",
     "output_type": "stream",
     "text": [
      "case_00564: 3D image shape (128, 232, 232)\n",
      "case_00564: 3D seg shape (128, 232, 232)\n"
     ]
    },
    {
     "name": "stderr",
     "output_type": "stream",
     "text": [
      " 95%|██████████████████████████████████████████████████████████████████████████████████████████████████████████████████████████████████████████▊       | 465/489 [50:06<04:34, 11.45s/it]"
     ]
    },
    {
     "name": "stdout",
     "output_type": "stream",
     "text": [
      "case_00565: 3D image shape (128, 232, 232)\n",
      "case_00565: 3D seg shape (128, 232, 232)\n"
     ]
    },
    {
     "name": "stderr",
     "output_type": "stream",
     "text": [
      " 95%|███████████████████████████████████████████████████████████████████████████████████████████████████████████████████████████████████████████▏      | 466/489 [50:08<03:17,  8.59s/it]"
     ]
    },
    {
     "name": "stdout",
     "output_type": "stream",
     "text": [
      "case_00566: 3D image shape (128, 232, 232)\n",
      "case_00566: 3D seg shape (128, 232, 232)\n"
     ]
    },
    {
     "name": "stderr",
     "output_type": "stream",
     "text": [
      " 96%|███████████████████████████████████████████████████████████████████████████████████████████████████████████████████████████████████████████▍      | 467/489 [50:13<02:43,  7.45s/it]"
     ]
    },
    {
     "name": "stdout",
     "output_type": "stream",
     "text": [
      "case_00567: 3D image shape (128, 232, 232)\n",
      "case_00567: 3D seg shape (128, 232, 232)\n"
     ]
    },
    {
     "name": "stderr",
     "output_type": "stream",
     "text": [
      " 96%|███████████████████████████████████████████████████████████████████████████████████████████████████████████████████████████████████████████▋      | 468/489 [50:19<02:28,  7.08s/it]"
     ]
    },
    {
     "name": "stdout",
     "output_type": "stream",
     "text": [
      "case_00568: 3D image shape (128, 232, 232)\n",
      "case_00568: 3D seg shape (128, 232, 232)\n"
     ]
    },
    {
     "name": "stderr",
     "output_type": "stream",
     "text": [
      " 96%|████████████████████████████████████████████████████████████████████████████████████████████████████████████████████████████████████████████▎     | 470/489 [50:26<01:36,  5.10s/it]"
     ]
    },
    {
     "name": "stdout",
     "output_type": "stream",
     "text": [
      "case_00569: 3D image shape (128, 232, 232)\n",
      "case_00569: 3D seg shape (128, 232, 232)\n",
      "case_00570: 3D image shape (128, 232, 232)\n",
      "case_00570: 3D seg shape (128, 232, 232)\n"
     ]
    },
    {
     "name": "stderr",
     "output_type": "stream",
     "text": [
      " 96%|████████████████████████████████████████████████████████████████████████████████████████████████████████████████████████████████████████████▋     | 471/489 [50:28<01:12,  4.04s/it]"
     ]
    },
    {
     "name": "stdout",
     "output_type": "stream",
     "text": [
      "case_00571: 3D image shape (128, 232, 232)\n",
      "case_00571: 3D seg shape (128, 232, 232)\n"
     ]
    },
    {
     "name": "stderr",
     "output_type": "stream",
     "text": [
      " 97%|████████████████████████████████████████████████████████████████████████████████████████████████████████████████████████████████████████████▉     | 472/489 [50:30<01:01,  3.60s/it]"
     ]
    },
    {
     "name": "stdout",
     "output_type": "stream",
     "text": [
      "case_00572: 3D image shape (128, 232, 232)\n",
      "case_00572: 3D seg shape (128, 232, 232)\n"
     ]
    },
    {
     "name": "stderr",
     "output_type": "stream",
     "text": [
      " 97%|█████████████████████████████████████████████████████████████████████████████████████████████████████████████████████████████████████████████▏    | 473/489 [50:45<01:50,  6.91s/it]"
     ]
    },
    {
     "name": "stdout",
     "output_type": "stream",
     "text": [
      "case_00573: 3D image shape (128, 232, 232)\n",
      "case_00573: 3D seg shape (128, 232, 232)\n"
     ]
    },
    {
     "name": "stderr",
     "output_type": "stream",
     "text": [
      " 97%|█████████████████████████████████████████████████████████████████████████████████████████████████████████████████████████████████████████████▌    | 474/489 [50:48<01:24,  5.64s/it]"
     ]
    },
    {
     "name": "stdout",
     "output_type": "stream",
     "text": [
      "case_00574: 3D image shape (128, 232, 232)\n",
      "case_00574: 3D seg shape (128, 232, 232)\n"
     ]
    },
    {
     "name": "stderr",
     "output_type": "stream",
     "text": [
      " 97%|█████████████████████████████████████████████████████████████████████████████████████████████████████████████████████████████████████████████▊    | 475/489 [50:49<01:03,  4.52s/it]"
     ]
    },
    {
     "name": "stdout",
     "output_type": "stream",
     "text": [
      "case_00575: 3D image shape (128, 232, 232)\n",
      "case_00575: 3D seg shape (128, 232, 232)\n"
     ]
    },
    {
     "name": "stderr",
     "output_type": "stream",
     "text": [
      " 97%|██████████████████████████████████████████████████████████████████████████████████████████████████████████████████████████████████████████████    | 476/489 [50:57<01:11,  5.53s/it]"
     ]
    },
    {
     "name": "stdout",
     "output_type": "stream",
     "text": [
      "case_00576: 3D image shape (128, 232, 232)\n",
      "case_00576: 3D seg shape (128, 232, 232)\n"
     ]
    },
    {
     "name": "stderr",
     "output_type": "stream",
     "text": [
      " 98%|██████████████████████████████████████████████████████████████████████████████████████████████████████████████████████████████████████████████▍   | 477/489 [51:01<00:58,  4.84s/it]"
     ]
    },
    {
     "name": "stdout",
     "output_type": "stream",
     "text": [
      "case_00577: 3D image shape (128, 232, 232)\n",
      "case_00577: 3D seg shape (128, 232, 232)\n"
     ]
    },
    {
     "name": "stderr",
     "output_type": "stream",
     "text": [
      " 98%|██████████████████████████████████████████████████████████████████████████████████████████████████████████████████████████████████████████████▋   | 478/489 [51:05<00:50,  4.58s/it]"
     ]
    },
    {
     "name": "stdout",
     "output_type": "stream",
     "text": [
      "case_00578: 3D image shape (128, 232, 232)\n",
      "case_00578: 3D seg shape (128, 232, 232)\n"
     ]
    },
    {
     "name": "stderr",
     "output_type": "stream",
     "text": [
      " 98%|███████████████████████████████████████████████████████████████████████████████████████████████████████████████████████████████████████████████   | 479/489 [51:19<01:14,  7.44s/it]"
     ]
    },
    {
     "name": "stdout",
     "output_type": "stream",
     "text": [
      "case_00579: 3D image shape (128, 232, 232)\n",
      "case_00579: 3D seg shape (128, 232, 232)\n"
     ]
    },
    {
     "name": "stderr",
     "output_type": "stream",
     "text": [
      " 98%|███████████████████████████████████████████████████████████████████████████████████████████████████████████████████████████████████████████████▎  | 480/489 [51:24<01:02,  6.94s/it]"
     ]
    },
    {
     "name": "stdout",
     "output_type": "stream",
     "text": [
      "case_00580: 3D image shape (128, 232, 232)\n",
      "case_00580: 3D seg shape (128, 232, 232)\n"
     ]
    },
    {
     "name": "stderr",
     "output_type": "stream",
     "text": [
      " 98%|███████████████████████████████████████████████████████████████████████████████████████████████████████████████████████████████████████████████▌  | 481/489 [51:31<00:53,  6.75s/it]"
     ]
    },
    {
     "name": "stdout",
     "output_type": "stream",
     "text": [
      "case_00581: 3D image shape (128, 232, 232)\n",
      "case_00581: 3D seg shape (128, 232, 232)\n"
     ]
    },
    {
     "name": "stderr",
     "output_type": "stream",
     "text": [
      " 99%|███████████████████████████████████████████████████████████████████████████████████████████████████████████████████████████████████████████████▉  | 482/489 [51:33<00:37,  5.31s/it]"
     ]
    },
    {
     "name": "stdout",
     "output_type": "stream",
     "text": [
      "case_00582: 3D image shape (128, 232, 232)\n",
      "case_00582: 3D seg shape (128, 232, 232)\n"
     ]
    },
    {
     "name": "stderr",
     "output_type": "stream",
     "text": [
      " 99%|████████████████████████████████████████████████████████████████████████████████████████████████████████████████████████████████████████████████▏ | 483/489 [51:38<00:31,  5.25s/it]"
     ]
    },
    {
     "name": "stdout",
     "output_type": "stream",
     "text": [
      "case_00583: 3D image shape (128, 232, 232)\n",
      "case_00583: 3D seg shape (128, 232, 232)\n"
     ]
    },
    {
     "name": "stderr",
     "output_type": "stream",
     "text": [
      " 99%|████████████████████████████████████████████████████████████████████████████████████████████████████████████████████████████████████████████████▌ | 484/489 [51:47<00:32,  6.52s/it]"
     ]
    },
    {
     "name": "stdout",
     "output_type": "stream",
     "text": [
      "case_00584: 3D image shape (128, 232, 232)\n",
      "case_00584: 3D seg shape (128, 232, 232)\n"
     ]
    },
    {
     "name": "stderr",
     "output_type": "stream",
     "text": [
      " 99%|████████████████████████████████████████████████████████████████████████████████████████████████████████████████████████████████████████████████▊ | 485/489 [51:50<00:22,  5.50s/it]"
     ]
    },
    {
     "name": "stdout",
     "output_type": "stream",
     "text": [
      "case_00585: 3D image shape (128, 232, 232)\n",
      "case_00585: 3D seg shape (128, 232, 232)\n"
     ]
    },
    {
     "name": "stderr",
     "output_type": "stream",
     "text": [
      " 99%|█████████████████████████████████████████████████████████████████████████████████████████████████████████████████████████████████████████████████ | 486/489 [51:56<00:16,  5.50s/it]"
     ]
    },
    {
     "name": "stdout",
     "output_type": "stream",
     "text": [
      "case_00586: 3D image shape (128, 232, 232)\n",
      "case_00586: 3D seg shape (128, 232, 232)\n"
     ]
    },
    {
     "name": "stderr",
     "output_type": "stream",
     "text": [
      "100%|█████████████████████████████████████████████████████████████████████████████████████████████████████████████████████████████████████████████████▍| 487/489 [52:01<00:10,  5.31s/it]"
     ]
    },
    {
     "name": "stdout",
     "output_type": "stream",
     "text": [
      "case_00587: 3D image shape (128, 232, 232)\n",
      "case_00587: 3D seg shape (128, 232, 232)\n"
     ]
    },
    {
     "name": "stderr",
     "output_type": "stream",
     "text": [
      "100%|█████████████████████████████████████████████████████████████████████████████████████████████████████████████████████████████████████████████████▋| 488/489 [52:03<00:04,  4.25s/it]"
     ]
    },
    {
     "name": "stdout",
     "output_type": "stream",
     "text": [
      "case_00588: 3D image shape (128, 232, 232)\n",
      "case_00588: 3D seg shape (128, 232, 232)\n"
     ]
    },
    {
     "name": "stderr",
     "output_type": "stream",
     "text": [
      "100%|██████████████████████████████████████████████████████████████████████████████████████████████████████████████████████████████████████████████████| 489/489 [52:10<00:00,  6.40s/it]\n"
     ]
    }
   ],
   "source": [
    "p.resample_datasets()"
   ]
  }
 ],
 "metadata": {
  "kernelspec": {
   "display_name": "Python 3 (ipykernel)",
   "language": "python",
   "name": "python3"
  },
  "language_info": {
   "codemirror_mode": {
    "name": "ipython",
    "version": 3
   },
   "file_extension": ".py",
   "mimetype": "text/x-python",
   "name": "python",
   "nbconvert_exporter": "python",
   "pygments_lexer": "ipython3",
   "version": "3.9.16"
  }
 },
 "nbformat": 4,
 "nbformat_minor": 5
}
